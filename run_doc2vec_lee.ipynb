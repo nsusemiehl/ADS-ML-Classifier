{
 "cells": [
  {
   "cell_type": "code",
   "execution_count": 1,
   "metadata": {},
   "outputs": [],
   "source": [
    "%matplotlib inline"
   ]
  },
  {
   "cell_type": "code",
   "execution_count": 17,
   "metadata": {},
   "outputs": [],
   "source": [
    "import numpy as np"
   ]
  },
  {
   "cell_type": "markdown",
   "metadata": {},
   "source": [
    "\n",
    "# Doc2Vec Model\n",
    "\n",
    "Introduces Gensim's Doc2Vec model and demonstrates its use on the\n",
    "[Lee Corpus](https://hekyll.services.adelaide.edu.au/dspace/bitstream/2440/28910/1/hdl_28910.pdf)_.\n"
   ]
  },
  {
   "cell_type": "code",
   "execution_count": 2,
   "metadata": {},
   "outputs": [],
   "source": [
    "import logging\n",
    "logging.basicConfig(format='%(asctime)s : %(levelname)s : %(message)s', level=logging.INFO)"
   ]
  },
  {
   "cell_type": "markdown",
   "metadata": {},
   "source": [
    "Doc2Vec is a `core_concepts_model` that represents each\n",
    "`core_concepts_document` as a `core_concepts_vector`.  This\n",
    "tutorial introduces the model and demonstrates how to train and assess it.\n",
    "\n",
    "Here's a list of what we'll be doing:\n",
    "\n",
    "0. Review the relevant models: bag-of-words, Word2Vec, Doc2Vec\n",
    "1. Load and preprocess the training and test corpora (see `core_concepts_corpus`)\n",
    "2. Train a Doc2Vec `core_concepts_model` model using the training corpus\n",
    "3. Demonstrate how the trained model can be used to infer a `core_concepts_vector`\n",
    "4. Assess the model\n",
    "5. Test the model on the test corpus\n",
    "\n",
    "## Review: Bag-of-words\n",
    "\n",
    ".. Note:: Feel free to skip these review sections if you're already familiar with the models.\n",
    "\n",
    "You may be familiar with the [bag-of-words model](https://en.wikipedia.org/wiki/Bag-of-words_model) from the\n",
    "`core_concepts_vector` section.\n",
    "This model transforms each document to a fixed-length vector of integers.\n",
    "For example, given the sentences:\n",
    "\n",
    "- ``John likes to watch movies. Mary likes movies too.``\n",
    "- ``John also likes to watch football games. Mary hates football.``\n",
    "\n",
    "The model outputs the vectors:\n",
    "\n",
    "- ``[1, 2, 1, 1, 2, 1, 1, 0, 0, 0, 0]``\n",
    "- ``[1, 1, 1, 1, 0, 1, 0, 1, 2, 1, 1]``\n",
    "\n",
    "Each vector has 10 elements, where each element counts the number of times a\n",
    "particular word occurred in the document.\n",
    "The order of elements is arbitrary.\n",
    "In the example above, the order of the elements corresponds to the words:\n",
    "``[\"John\", \"likes\", \"to\", \"watch\", \"movies\", \"Mary\", \"too\", \"also\", \"football\", \"games\", \"hates\"]``.\n",
    "\n",
    "Bag-of-words models are surprisingly effective, but have several weaknesses.\n",
    "\n",
    "First, they lose all information about word order: \"John likes Mary\" and\n",
    "\"Mary likes John\" correspond to identical vectors. There is a solution: bag\n",
    "of [n-grams](https://en.wikipedia.org/wiki/N-gram)_\n",
    "models consider word phrases of length n to represent documents as\n",
    "fixed-length vectors to capture local word order but suffer from data\n",
    "sparsity and high dimensionality.\n",
    "\n",
    "Second, the model does not attempt to learn the meaning of the underlying\n",
    "words, and as a consequence, the distance between vectors doesn't always\n",
    "reflect the difference in meaning.  The ``Word2Vec`` model addresses this\n",
    "second problem.\n",
    "\n",
    "## Review: ``Word2Vec`` Model\n",
    "\n",
    "``Word2Vec`` is a more recent model that embeds words in a lower-dimensional\n",
    "vector space using a shallow neural network. The result is a set of\n",
    "word-vectors where vectors close together in vector space have similar\n",
    "meanings based on context, and word-vectors distant to each other have\n",
    "differing meanings. For example, ``strong`` and ``powerful`` would be close\n",
    "together and ``strong`` and ``Paris`` would be relatively far.\n",
    "\n",
    "Gensim's :py:class:`~gensim.models.word2vec.Word2Vec` class implements this model.\n",
    "\n",
    "With the ``Word2Vec`` model, we can calculate the vectors for each **word** in a document.\n",
    "But what if we want to calculate a vector for the **entire document**\\ ?\n",
    "We could average the vectors for each word in the document - while this is quick and crude, it can often be useful.\n",
    "However, there is a better way...\n",
    "\n",
    "## Introducing: Paragraph Vector\n",
    "\n",
    ".. Important:: In Gensim, we refer to the Paragraph Vector model as ``Doc2Vec``.\n",
    "\n",
    "Le and Mikolov in 2014 introduced the [Doc2Vec algorithm](https://cs.stanford.edu/~quocle/paragraph_vector.pdf)_,\n",
    "which usually outperforms such simple-averaging of ``Word2Vec`` vectors.\n",
    "\n",
    "The basic idea is: act as if a document has another floating word-like\n",
    "vector, which contributes to all training predictions, and is updated like\n",
    "other word-vectors, but we will call it a doc-vector. Gensim's\n",
    ":py:class:`~gensim.models.doc2vec.Doc2Vec` class implements this algorithm.\n",
    "\n",
    "There are two implementations:\n",
    "\n",
    "1. Paragraph Vector - Distributed Memory (PV-DM)\n",
    "2. Paragraph Vector - Distributed Bag of Words (PV-DBOW)\n",
    "\n",
    ".. Important::\n",
    "  Don't let the implementation details below scare you.\n",
    "  They're advanced material: if it's too much, then move on to the next section.\n",
    "\n",
    "PV-DM is analogous to Word2Vec CBOW. The doc-vectors are obtained by training\n",
    "a neural network on the synthetic task of predicting a center word based an\n",
    "average of both context word-vectors and the full document's doc-vector.\n",
    "\n",
    "PV-DBOW is analogous to Word2Vec SG. The doc-vectors are obtained by training\n",
    "a neural network on the synthetic task of predicting a target word just from\n",
    "the full document's doc-vector. (It is also common to combine this with\n",
    "skip-gram testing, using both the doc-vector and nearby word-vectors to\n",
    "predict a single target word, but only one at a time.)\n",
    "\n",
    "## Prepare the Training and Test Data\n",
    "\n",
    "For this tutorial, we'll be training our model using the [Lee Background\n",
    "Corpus](https://hekyll.services.adelaide.edu.au/dspace/bitstream/2440/28910/1/hdl_28910.pdf)\n",
    "included in gensim. This corpus contains 314 documents selected from the\n",
    "Australian Broadcasting Corporation’s news mail service, which provides text\n",
    "e-mails of headline stories and covers a number of broad topics.\n",
    "\n",
    "And we'll test our model by eye using the much shorter [Lee Corpus](https://hekyll.services.adelaide.edu.au/dspace/bitstream/2440/28910/1/hdl_28910.pdf)\n",
    "which contains 50 documents.\n",
    "\n",
    "\n"
   ]
  },
  {
   "cell_type": "code",
   "execution_count": 3,
   "metadata": {},
   "outputs": [],
   "source": [
    "import os\n",
    "import gensim\n",
    "# Set file names for train and test data\n",
    "test_data_dir = os.path.join(gensim.__path__[0], 'test', 'test_data')\n",
    "lee_train_file = os.path.join(test_data_dir, 'lee_background.cor')\n",
    "lee_test_file = os.path.join(test_data_dir, 'lee.cor')"
   ]
  },
  {
   "cell_type": "code",
   "execution_count": 24,
   "metadata": {},
   "outputs": [
    {
     "name": "stdout",
     "output_type": "stream",
     "text": [
      "0 <_io.TextIOWrapper name='C:\\\\Users\\\\Nick\\\\anaconda3\\\\envs\\\\caltech\\\\lib\\\\site-packages\\\\gensim\\\\test\\\\test_data\\\\lee_background.cor' mode='r' encoding='iso-8859-1'>\n",
      "1 <_io.TextIOWrapper name='C:\\\\Users\\\\Nick\\\\anaconda3\\\\envs\\\\caltech\\\\lib\\\\site-packages\\\\gensim\\\\test\\\\test_data\\\\lee_background.cor' mode='r' encoding='iso-8859-1'>\n",
      "2 <_io.TextIOWrapper name='C:\\\\Users\\\\Nick\\\\anaconda3\\\\envs\\\\caltech\\\\lib\\\\site-packages\\\\gensim\\\\test\\\\test_data\\\\lee_background.cor' mode='r' encoding='iso-8859-1'>\n",
      "3 <_io.TextIOWrapper name='C:\\\\Users\\\\Nick\\\\anaconda3\\\\envs\\\\caltech\\\\lib\\\\site-packages\\\\gensim\\\\test\\\\test_data\\\\lee_background.cor' mode='r' encoding='iso-8859-1'>\n",
      "4 <_io.TextIOWrapper name='C:\\\\Users\\\\Nick\\\\anaconda3\\\\envs\\\\caltech\\\\lib\\\\site-packages\\\\gensim\\\\test\\\\test_data\\\\lee_background.cor' mode='r' encoding='iso-8859-1'>\n",
      "5 <_io.TextIOWrapper name='C:\\\\Users\\\\Nick\\\\anaconda3\\\\envs\\\\caltech\\\\lib\\\\site-packages\\\\gensim\\\\test\\\\test_data\\\\lee_background.cor' mode='r' encoding='iso-8859-1'>\n",
      "6 <_io.TextIOWrapper name='C:\\\\Users\\\\Nick\\\\anaconda3\\\\envs\\\\caltech\\\\lib\\\\site-packages\\\\gensim\\\\test\\\\test_data\\\\lee_background.cor' mode='r' encoding='iso-8859-1'>\n",
      "7 <_io.TextIOWrapper name='C:\\\\Users\\\\Nick\\\\anaconda3\\\\envs\\\\caltech\\\\lib\\\\site-packages\\\\gensim\\\\test\\\\test_data\\\\lee_background.cor' mode='r' encoding='iso-8859-1'>\n",
      "8 <_io.TextIOWrapper name='C:\\\\Users\\\\Nick\\\\anaconda3\\\\envs\\\\caltech\\\\lib\\\\site-packages\\\\gensim\\\\test\\\\test_data\\\\lee_background.cor' mode='r' encoding='iso-8859-1'>\n",
      "9 <_io.TextIOWrapper name='C:\\\\Users\\\\Nick\\\\anaconda3\\\\envs\\\\caltech\\\\lib\\\\site-packages\\\\gensim\\\\test\\\\test_data\\\\lee_background.cor' mode='r' encoding='iso-8859-1'>\n",
      "10 <_io.TextIOWrapper name='C:\\\\Users\\\\Nick\\\\anaconda3\\\\envs\\\\caltech\\\\lib\\\\site-packages\\\\gensim\\\\test\\\\test_data\\\\lee_background.cor' mode='r' encoding='iso-8859-1'>\n",
      "11 <_io.TextIOWrapper name='C:\\\\Users\\\\Nick\\\\anaconda3\\\\envs\\\\caltech\\\\lib\\\\site-packages\\\\gensim\\\\test\\\\test_data\\\\lee_background.cor' mode='r' encoding='iso-8859-1'>\n",
      "12 <_io.TextIOWrapper name='C:\\\\Users\\\\Nick\\\\anaconda3\\\\envs\\\\caltech\\\\lib\\\\site-packages\\\\gensim\\\\test\\\\test_data\\\\lee_background.cor' mode='r' encoding='iso-8859-1'>\n",
      "13 <_io.TextIOWrapper name='C:\\\\Users\\\\Nick\\\\anaconda3\\\\envs\\\\caltech\\\\lib\\\\site-packages\\\\gensim\\\\test\\\\test_data\\\\lee_background.cor' mode='r' encoding='iso-8859-1'>\n",
      "14 <_io.TextIOWrapper name='C:\\\\Users\\\\Nick\\\\anaconda3\\\\envs\\\\caltech\\\\lib\\\\site-packages\\\\gensim\\\\test\\\\test_data\\\\lee_background.cor' mode='r' encoding='iso-8859-1'>\n",
      "15 <_io.TextIOWrapper name='C:\\\\Users\\\\Nick\\\\anaconda3\\\\envs\\\\caltech\\\\lib\\\\site-packages\\\\gensim\\\\test\\\\test_data\\\\lee_background.cor' mode='r' encoding='iso-8859-1'>\n",
      "16 <_io.TextIOWrapper name='C:\\\\Users\\\\Nick\\\\anaconda3\\\\envs\\\\caltech\\\\lib\\\\site-packages\\\\gensim\\\\test\\\\test_data\\\\lee_background.cor' mode='r' encoding='iso-8859-1'>\n",
      "17 <_io.TextIOWrapper name='C:\\\\Users\\\\Nick\\\\anaconda3\\\\envs\\\\caltech\\\\lib\\\\site-packages\\\\gensim\\\\test\\\\test_data\\\\lee_background.cor' mode='r' encoding='iso-8859-1'>\n",
      "18 <_io.TextIOWrapper name='C:\\\\Users\\\\Nick\\\\anaconda3\\\\envs\\\\caltech\\\\lib\\\\site-packages\\\\gensim\\\\test\\\\test_data\\\\lee_background.cor' mode='r' encoding='iso-8859-1'>\n",
      "19 <_io.TextIOWrapper name='C:\\\\Users\\\\Nick\\\\anaconda3\\\\envs\\\\caltech\\\\lib\\\\site-packages\\\\gensim\\\\test\\\\test_data\\\\lee_background.cor' mode='r' encoding='iso-8859-1'>\n",
      "20 <_io.TextIOWrapper name='C:\\\\Users\\\\Nick\\\\anaconda3\\\\envs\\\\caltech\\\\lib\\\\site-packages\\\\gensim\\\\test\\\\test_data\\\\lee_background.cor' mode='r' encoding='iso-8859-1'>\n",
      "21 <_io.TextIOWrapper name='C:\\\\Users\\\\Nick\\\\anaconda3\\\\envs\\\\caltech\\\\lib\\\\site-packages\\\\gensim\\\\test\\\\test_data\\\\lee_background.cor' mode='r' encoding='iso-8859-1'>\n",
      "22 <_io.TextIOWrapper name='C:\\\\Users\\\\Nick\\\\anaconda3\\\\envs\\\\caltech\\\\lib\\\\site-packages\\\\gensim\\\\test\\\\test_data\\\\lee_background.cor' mode='r' encoding='iso-8859-1'>\n",
      "23 <_io.TextIOWrapper name='C:\\\\Users\\\\Nick\\\\anaconda3\\\\envs\\\\caltech\\\\lib\\\\site-packages\\\\gensim\\\\test\\\\test_data\\\\lee_background.cor' mode='r' encoding='iso-8859-1'>\n",
      "24 <_io.TextIOWrapper name='C:\\\\Users\\\\Nick\\\\anaconda3\\\\envs\\\\caltech\\\\lib\\\\site-packages\\\\gensim\\\\test\\\\test_data\\\\lee_background.cor' mode='r' encoding='iso-8859-1'>\n",
      "25 <_io.TextIOWrapper name='C:\\\\Users\\\\Nick\\\\anaconda3\\\\envs\\\\caltech\\\\lib\\\\site-packages\\\\gensim\\\\test\\\\test_data\\\\lee_background.cor' mode='r' encoding='iso-8859-1'>\n",
      "26 <_io.TextIOWrapper name='C:\\\\Users\\\\Nick\\\\anaconda3\\\\envs\\\\caltech\\\\lib\\\\site-packages\\\\gensim\\\\test\\\\test_data\\\\lee_background.cor' mode='r' encoding='iso-8859-1'>\n",
      "27 <_io.TextIOWrapper name='C:\\\\Users\\\\Nick\\\\anaconda3\\\\envs\\\\caltech\\\\lib\\\\site-packages\\\\gensim\\\\test\\\\test_data\\\\lee_background.cor' mode='r' encoding='iso-8859-1'>\n",
      "28 <_io.TextIOWrapper name='C:\\\\Users\\\\Nick\\\\anaconda3\\\\envs\\\\caltech\\\\lib\\\\site-packages\\\\gensim\\\\test\\\\test_data\\\\lee_background.cor' mode='r' encoding='iso-8859-1'>\n",
      "29 <_io.TextIOWrapper name='C:\\\\Users\\\\Nick\\\\anaconda3\\\\envs\\\\caltech\\\\lib\\\\site-packages\\\\gensim\\\\test\\\\test_data\\\\lee_background.cor' mode='r' encoding='iso-8859-1'>\n",
      "30 <_io.TextIOWrapper name='C:\\\\Users\\\\Nick\\\\anaconda3\\\\envs\\\\caltech\\\\lib\\\\site-packages\\\\gensim\\\\test\\\\test_data\\\\lee_background.cor' mode='r' encoding='iso-8859-1'>\n",
      "31 <_io.TextIOWrapper name='C:\\\\Users\\\\Nick\\\\anaconda3\\\\envs\\\\caltech\\\\lib\\\\site-packages\\\\gensim\\\\test\\\\test_data\\\\lee_background.cor' mode='r' encoding='iso-8859-1'>\n",
      "32 <_io.TextIOWrapper name='C:\\\\Users\\\\Nick\\\\anaconda3\\\\envs\\\\caltech\\\\lib\\\\site-packages\\\\gensim\\\\test\\\\test_data\\\\lee_background.cor' mode='r' encoding='iso-8859-1'>\n",
      "33 <_io.TextIOWrapper name='C:\\\\Users\\\\Nick\\\\anaconda3\\\\envs\\\\caltech\\\\lib\\\\site-packages\\\\gensim\\\\test\\\\test_data\\\\lee_background.cor' mode='r' encoding='iso-8859-1'>\n",
      "34 <_io.TextIOWrapper name='C:\\\\Users\\\\Nick\\\\anaconda3\\\\envs\\\\caltech\\\\lib\\\\site-packages\\\\gensim\\\\test\\\\test_data\\\\lee_background.cor' mode='r' encoding='iso-8859-1'>\n",
      "35 <_io.TextIOWrapper name='C:\\\\Users\\\\Nick\\\\anaconda3\\\\envs\\\\caltech\\\\lib\\\\site-packages\\\\gensim\\\\test\\\\test_data\\\\lee_background.cor' mode='r' encoding='iso-8859-1'>\n",
      "36 <_io.TextIOWrapper name='C:\\\\Users\\\\Nick\\\\anaconda3\\\\envs\\\\caltech\\\\lib\\\\site-packages\\\\gensim\\\\test\\\\test_data\\\\lee_background.cor' mode='r' encoding='iso-8859-1'>\n",
      "37 <_io.TextIOWrapper name='C:\\\\Users\\\\Nick\\\\anaconda3\\\\envs\\\\caltech\\\\lib\\\\site-packages\\\\gensim\\\\test\\\\test_data\\\\lee_background.cor' mode='r' encoding='iso-8859-1'>\n",
      "38 <_io.TextIOWrapper name='C:\\\\Users\\\\Nick\\\\anaconda3\\\\envs\\\\caltech\\\\lib\\\\site-packages\\\\gensim\\\\test\\\\test_data\\\\lee_background.cor' mode='r' encoding='iso-8859-1'>\n",
      "39 <_io.TextIOWrapper name='C:\\\\Users\\\\Nick\\\\anaconda3\\\\envs\\\\caltech\\\\lib\\\\site-packages\\\\gensim\\\\test\\\\test_data\\\\lee_background.cor' mode='r' encoding='iso-8859-1'>\n",
      "40 <_io.TextIOWrapper name='C:\\\\Users\\\\Nick\\\\anaconda3\\\\envs\\\\caltech\\\\lib\\\\site-packages\\\\gensim\\\\test\\\\test_data\\\\lee_background.cor' mode='r' encoding='iso-8859-1'>\n",
      "41 <_io.TextIOWrapper name='C:\\\\Users\\\\Nick\\\\anaconda3\\\\envs\\\\caltech\\\\lib\\\\site-packages\\\\gensim\\\\test\\\\test_data\\\\lee_background.cor' mode='r' encoding='iso-8859-1'>\n",
      "42 <_io.TextIOWrapper name='C:\\\\Users\\\\Nick\\\\anaconda3\\\\envs\\\\caltech\\\\lib\\\\site-packages\\\\gensim\\\\test\\\\test_data\\\\lee_background.cor' mode='r' encoding='iso-8859-1'>\n",
      "43 <_io.TextIOWrapper name='C:\\\\Users\\\\Nick\\\\anaconda3\\\\envs\\\\caltech\\\\lib\\\\site-packages\\\\gensim\\\\test\\\\test_data\\\\lee_background.cor' mode='r' encoding='iso-8859-1'>\n",
      "44 <_io.TextIOWrapper name='C:\\\\Users\\\\Nick\\\\anaconda3\\\\envs\\\\caltech\\\\lib\\\\site-packages\\\\gensim\\\\test\\\\test_data\\\\lee_background.cor' mode='r' encoding='iso-8859-1'>\n",
      "45 <_io.TextIOWrapper name='C:\\\\Users\\\\Nick\\\\anaconda3\\\\envs\\\\caltech\\\\lib\\\\site-packages\\\\gensim\\\\test\\\\test_data\\\\lee_background.cor' mode='r' encoding='iso-8859-1'>\n",
      "46 <_io.TextIOWrapper name='C:\\\\Users\\\\Nick\\\\anaconda3\\\\envs\\\\caltech\\\\lib\\\\site-packages\\\\gensim\\\\test\\\\test_data\\\\lee_background.cor' mode='r' encoding='iso-8859-1'>\n",
      "47 <_io.TextIOWrapper name='C:\\\\Users\\\\Nick\\\\anaconda3\\\\envs\\\\caltech\\\\lib\\\\site-packages\\\\gensim\\\\test\\\\test_data\\\\lee_background.cor' mode='r' encoding='iso-8859-1'>\n",
      "48 <_io.TextIOWrapper name='C:\\\\Users\\\\Nick\\\\anaconda3\\\\envs\\\\caltech\\\\lib\\\\site-packages\\\\gensim\\\\test\\\\test_data\\\\lee_background.cor' mode='r' encoding='iso-8859-1'>\n",
      "49 <_io.TextIOWrapper name='C:\\\\Users\\\\Nick\\\\anaconda3\\\\envs\\\\caltech\\\\lib\\\\site-packages\\\\gensim\\\\test\\\\test_data\\\\lee_background.cor' mode='r' encoding='iso-8859-1'>\n",
      "50 <_io.TextIOWrapper name='C:\\\\Users\\\\Nick\\\\anaconda3\\\\envs\\\\caltech\\\\lib\\\\site-packages\\\\gensim\\\\test\\\\test_data\\\\lee_background.cor' mode='r' encoding='iso-8859-1'>\n",
      "51 <_io.TextIOWrapper name='C:\\\\Users\\\\Nick\\\\anaconda3\\\\envs\\\\caltech\\\\lib\\\\site-packages\\\\gensim\\\\test\\\\test_data\\\\lee_background.cor' mode='r' encoding='iso-8859-1'>\n",
      "52 <_io.TextIOWrapper name='C:\\\\Users\\\\Nick\\\\anaconda3\\\\envs\\\\caltech\\\\lib\\\\site-packages\\\\gensim\\\\test\\\\test_data\\\\lee_background.cor' mode='r' encoding='iso-8859-1'>\n",
      "53 <_io.TextIOWrapper name='C:\\\\Users\\\\Nick\\\\anaconda3\\\\envs\\\\caltech\\\\lib\\\\site-packages\\\\gensim\\\\test\\\\test_data\\\\lee_background.cor' mode='r' encoding='iso-8859-1'>\n",
      "54 <_io.TextIOWrapper name='C:\\\\Users\\\\Nick\\\\anaconda3\\\\envs\\\\caltech\\\\lib\\\\site-packages\\\\gensim\\\\test\\\\test_data\\\\lee_background.cor' mode='r' encoding='iso-8859-1'>\n",
      "55 <_io.TextIOWrapper name='C:\\\\Users\\\\Nick\\\\anaconda3\\\\envs\\\\caltech\\\\lib\\\\site-packages\\\\gensim\\\\test\\\\test_data\\\\lee_background.cor' mode='r' encoding='iso-8859-1'>\n",
      "56 <_io.TextIOWrapper name='C:\\\\Users\\\\Nick\\\\anaconda3\\\\envs\\\\caltech\\\\lib\\\\site-packages\\\\gensim\\\\test\\\\test_data\\\\lee_background.cor' mode='r' encoding='iso-8859-1'>\n",
      "57 <_io.TextIOWrapper name='C:\\\\Users\\\\Nick\\\\anaconda3\\\\envs\\\\caltech\\\\lib\\\\site-packages\\\\gensim\\\\test\\\\test_data\\\\lee_background.cor' mode='r' encoding='iso-8859-1'>\n",
      "58 <_io.TextIOWrapper name='C:\\\\Users\\\\Nick\\\\anaconda3\\\\envs\\\\caltech\\\\lib\\\\site-packages\\\\gensim\\\\test\\\\test_data\\\\lee_background.cor' mode='r' encoding='iso-8859-1'>\n",
      "59 <_io.TextIOWrapper name='C:\\\\Users\\\\Nick\\\\anaconda3\\\\envs\\\\caltech\\\\lib\\\\site-packages\\\\gensim\\\\test\\\\test_data\\\\lee_background.cor' mode='r' encoding='iso-8859-1'>\n",
      "60 <_io.TextIOWrapper name='C:\\\\Users\\\\Nick\\\\anaconda3\\\\envs\\\\caltech\\\\lib\\\\site-packages\\\\gensim\\\\test\\\\test_data\\\\lee_background.cor' mode='r' encoding='iso-8859-1'>\n",
      "61 <_io.TextIOWrapper name='C:\\\\Users\\\\Nick\\\\anaconda3\\\\envs\\\\caltech\\\\lib\\\\site-packages\\\\gensim\\\\test\\\\test_data\\\\lee_background.cor' mode='r' encoding='iso-8859-1'>\n",
      "62 <_io.TextIOWrapper name='C:\\\\Users\\\\Nick\\\\anaconda3\\\\envs\\\\caltech\\\\lib\\\\site-packages\\\\gensim\\\\test\\\\test_data\\\\lee_background.cor' mode='r' encoding='iso-8859-1'>\n",
      "63 <_io.TextIOWrapper name='C:\\\\Users\\\\Nick\\\\anaconda3\\\\envs\\\\caltech\\\\lib\\\\site-packages\\\\gensim\\\\test\\\\test_data\\\\lee_background.cor' mode='r' encoding='iso-8859-1'>\n",
      "64 <_io.TextIOWrapper name='C:\\\\Users\\\\Nick\\\\anaconda3\\\\envs\\\\caltech\\\\lib\\\\site-packages\\\\gensim\\\\test\\\\test_data\\\\lee_background.cor' mode='r' encoding='iso-8859-1'>\n",
      "65 <_io.TextIOWrapper name='C:\\\\Users\\\\Nick\\\\anaconda3\\\\envs\\\\caltech\\\\lib\\\\site-packages\\\\gensim\\\\test\\\\test_data\\\\lee_background.cor' mode='r' encoding='iso-8859-1'>\n",
      "66 <_io.TextIOWrapper name='C:\\\\Users\\\\Nick\\\\anaconda3\\\\envs\\\\caltech\\\\lib\\\\site-packages\\\\gensim\\\\test\\\\test_data\\\\lee_background.cor' mode='r' encoding='iso-8859-1'>\n",
      "67 <_io.TextIOWrapper name='C:\\\\Users\\\\Nick\\\\anaconda3\\\\envs\\\\caltech\\\\lib\\\\site-packages\\\\gensim\\\\test\\\\test_data\\\\lee_background.cor' mode='r' encoding='iso-8859-1'>\n",
      "68 <_io.TextIOWrapper name='C:\\\\Users\\\\Nick\\\\anaconda3\\\\envs\\\\caltech\\\\lib\\\\site-packages\\\\gensim\\\\test\\\\test_data\\\\lee_background.cor' mode='r' encoding='iso-8859-1'>\n",
      "69 <_io.TextIOWrapper name='C:\\\\Users\\\\Nick\\\\anaconda3\\\\envs\\\\caltech\\\\lib\\\\site-packages\\\\gensim\\\\test\\\\test_data\\\\lee_background.cor' mode='r' encoding='iso-8859-1'>\n",
      "70 <_io.TextIOWrapper name='C:\\\\Users\\\\Nick\\\\anaconda3\\\\envs\\\\caltech\\\\lib\\\\site-packages\\\\gensim\\\\test\\\\test_data\\\\lee_background.cor' mode='r' encoding='iso-8859-1'>\n",
      "71 <_io.TextIOWrapper name='C:\\\\Users\\\\Nick\\\\anaconda3\\\\envs\\\\caltech\\\\lib\\\\site-packages\\\\gensim\\\\test\\\\test_data\\\\lee_background.cor' mode='r' encoding='iso-8859-1'>\n",
      "72 <_io.TextIOWrapper name='C:\\\\Users\\\\Nick\\\\anaconda3\\\\envs\\\\caltech\\\\lib\\\\site-packages\\\\gensim\\\\test\\\\test_data\\\\lee_background.cor' mode='r' encoding='iso-8859-1'>\n",
      "73 <_io.TextIOWrapper name='C:\\\\Users\\\\Nick\\\\anaconda3\\\\envs\\\\caltech\\\\lib\\\\site-packages\\\\gensim\\\\test\\\\test_data\\\\lee_background.cor' mode='r' encoding='iso-8859-1'>\n",
      "74 <_io.TextIOWrapper name='C:\\\\Users\\\\Nick\\\\anaconda3\\\\envs\\\\caltech\\\\lib\\\\site-packages\\\\gensim\\\\test\\\\test_data\\\\lee_background.cor' mode='r' encoding='iso-8859-1'>\n",
      "75 <_io.TextIOWrapper name='C:\\\\Users\\\\Nick\\\\anaconda3\\\\envs\\\\caltech\\\\lib\\\\site-packages\\\\gensim\\\\test\\\\test_data\\\\lee_background.cor' mode='r' encoding='iso-8859-1'>\n",
      "76 <_io.TextIOWrapper name='C:\\\\Users\\\\Nick\\\\anaconda3\\\\envs\\\\caltech\\\\lib\\\\site-packages\\\\gensim\\\\test\\\\test_data\\\\lee_background.cor' mode='r' encoding='iso-8859-1'>\n",
      "77 <_io.TextIOWrapper name='C:\\\\Users\\\\Nick\\\\anaconda3\\\\envs\\\\caltech\\\\lib\\\\site-packages\\\\gensim\\\\test\\\\test_data\\\\lee_background.cor' mode='r' encoding='iso-8859-1'>\n",
      "78 <_io.TextIOWrapper name='C:\\\\Users\\\\Nick\\\\anaconda3\\\\envs\\\\caltech\\\\lib\\\\site-packages\\\\gensim\\\\test\\\\test_data\\\\lee_background.cor' mode='r' encoding='iso-8859-1'>\n",
      "79 <_io.TextIOWrapper name='C:\\\\Users\\\\Nick\\\\anaconda3\\\\envs\\\\caltech\\\\lib\\\\site-packages\\\\gensim\\\\test\\\\test_data\\\\lee_background.cor' mode='r' encoding='iso-8859-1'>\n",
      "80 <_io.TextIOWrapper name='C:\\\\Users\\\\Nick\\\\anaconda3\\\\envs\\\\caltech\\\\lib\\\\site-packages\\\\gensim\\\\test\\\\test_data\\\\lee_background.cor' mode='r' encoding='iso-8859-1'>\n",
      "81 <_io.TextIOWrapper name='C:\\\\Users\\\\Nick\\\\anaconda3\\\\envs\\\\caltech\\\\lib\\\\site-packages\\\\gensim\\\\test\\\\test_data\\\\lee_background.cor' mode='r' encoding='iso-8859-1'>\n",
      "82 <_io.TextIOWrapper name='C:\\\\Users\\\\Nick\\\\anaconda3\\\\envs\\\\caltech\\\\lib\\\\site-packages\\\\gensim\\\\test\\\\test_data\\\\lee_background.cor' mode='r' encoding='iso-8859-1'>\n",
      "83 <_io.TextIOWrapper name='C:\\\\Users\\\\Nick\\\\anaconda3\\\\envs\\\\caltech\\\\lib\\\\site-packages\\\\gensim\\\\test\\\\test_data\\\\lee_background.cor' mode='r' encoding='iso-8859-1'>\n",
      "84 <_io.TextIOWrapper name='C:\\\\Users\\\\Nick\\\\anaconda3\\\\envs\\\\caltech\\\\lib\\\\site-packages\\\\gensim\\\\test\\\\test_data\\\\lee_background.cor' mode='r' encoding='iso-8859-1'>\n",
      "85 <_io.TextIOWrapper name='C:\\\\Users\\\\Nick\\\\anaconda3\\\\envs\\\\caltech\\\\lib\\\\site-packages\\\\gensim\\\\test\\\\test_data\\\\lee_background.cor' mode='r' encoding='iso-8859-1'>\n",
      "86 <_io.TextIOWrapper name='C:\\\\Users\\\\Nick\\\\anaconda3\\\\envs\\\\caltech\\\\lib\\\\site-packages\\\\gensim\\\\test\\\\test_data\\\\lee_background.cor' mode='r' encoding='iso-8859-1'>\n",
      "87 <_io.TextIOWrapper name='C:\\\\Users\\\\Nick\\\\anaconda3\\\\envs\\\\caltech\\\\lib\\\\site-packages\\\\gensim\\\\test\\\\test_data\\\\lee_background.cor' mode='r' encoding='iso-8859-1'>\n",
      "88 <_io.TextIOWrapper name='C:\\\\Users\\\\Nick\\\\anaconda3\\\\envs\\\\caltech\\\\lib\\\\site-packages\\\\gensim\\\\test\\\\test_data\\\\lee_background.cor' mode='r' encoding='iso-8859-1'>\n",
      "89 <_io.TextIOWrapper name='C:\\\\Users\\\\Nick\\\\anaconda3\\\\envs\\\\caltech\\\\lib\\\\site-packages\\\\gensim\\\\test\\\\test_data\\\\lee_background.cor' mode='r' encoding='iso-8859-1'>\n",
      "90 <_io.TextIOWrapper name='C:\\\\Users\\\\Nick\\\\anaconda3\\\\envs\\\\caltech\\\\lib\\\\site-packages\\\\gensim\\\\test\\\\test_data\\\\lee_background.cor' mode='r' encoding='iso-8859-1'>\n",
      "91 <_io.TextIOWrapper name='C:\\\\Users\\\\Nick\\\\anaconda3\\\\envs\\\\caltech\\\\lib\\\\site-packages\\\\gensim\\\\test\\\\test_data\\\\lee_background.cor' mode='r' encoding='iso-8859-1'>\n",
      "92 <_io.TextIOWrapper name='C:\\\\Users\\\\Nick\\\\anaconda3\\\\envs\\\\caltech\\\\lib\\\\site-packages\\\\gensim\\\\test\\\\test_data\\\\lee_background.cor' mode='r' encoding='iso-8859-1'>\n",
      "93 <_io.TextIOWrapper name='C:\\\\Users\\\\Nick\\\\anaconda3\\\\envs\\\\caltech\\\\lib\\\\site-packages\\\\gensim\\\\test\\\\test_data\\\\lee_background.cor' mode='r' encoding='iso-8859-1'>\n",
      "94 <_io.TextIOWrapper name='C:\\\\Users\\\\Nick\\\\anaconda3\\\\envs\\\\caltech\\\\lib\\\\site-packages\\\\gensim\\\\test\\\\test_data\\\\lee_background.cor' mode='r' encoding='iso-8859-1'>\n",
      "95 <_io.TextIOWrapper name='C:\\\\Users\\\\Nick\\\\anaconda3\\\\envs\\\\caltech\\\\lib\\\\site-packages\\\\gensim\\\\test\\\\test_data\\\\lee_background.cor' mode='r' encoding='iso-8859-1'>\n",
      "96 <_io.TextIOWrapper name='C:\\\\Users\\\\Nick\\\\anaconda3\\\\envs\\\\caltech\\\\lib\\\\site-packages\\\\gensim\\\\test\\\\test_data\\\\lee_background.cor' mode='r' encoding='iso-8859-1'>\n",
      "97 <_io.TextIOWrapper name='C:\\\\Users\\\\Nick\\\\anaconda3\\\\envs\\\\caltech\\\\lib\\\\site-packages\\\\gensim\\\\test\\\\test_data\\\\lee_background.cor' mode='r' encoding='iso-8859-1'>\n",
      "98 <_io.TextIOWrapper name='C:\\\\Users\\\\Nick\\\\anaconda3\\\\envs\\\\caltech\\\\lib\\\\site-packages\\\\gensim\\\\test\\\\test_data\\\\lee_background.cor' mode='r' encoding='iso-8859-1'>\n",
      "99 <_io.TextIOWrapper name='C:\\\\Users\\\\Nick\\\\anaconda3\\\\envs\\\\caltech\\\\lib\\\\site-packages\\\\gensim\\\\test\\\\test_data\\\\lee_background.cor' mode='r' encoding='iso-8859-1'>\n",
      "100 <_io.TextIOWrapper name='C:\\\\Users\\\\Nick\\\\anaconda3\\\\envs\\\\caltech\\\\lib\\\\site-packages\\\\gensim\\\\test\\\\test_data\\\\lee_background.cor' mode='r' encoding='iso-8859-1'>\n",
      "101 <_io.TextIOWrapper name='C:\\\\Users\\\\Nick\\\\anaconda3\\\\envs\\\\caltech\\\\lib\\\\site-packages\\\\gensim\\\\test\\\\test_data\\\\lee_background.cor' mode='r' encoding='iso-8859-1'>\n",
      "102 <_io.TextIOWrapper name='C:\\\\Users\\\\Nick\\\\anaconda3\\\\envs\\\\caltech\\\\lib\\\\site-packages\\\\gensim\\\\test\\\\test_data\\\\lee_background.cor' mode='r' encoding='iso-8859-1'>\n",
      "103 <_io.TextIOWrapper name='C:\\\\Users\\\\Nick\\\\anaconda3\\\\envs\\\\caltech\\\\lib\\\\site-packages\\\\gensim\\\\test\\\\test_data\\\\lee_background.cor' mode='r' encoding='iso-8859-1'>\n",
      "104 <_io.TextIOWrapper name='C:\\\\Users\\\\Nick\\\\anaconda3\\\\envs\\\\caltech\\\\lib\\\\site-packages\\\\gensim\\\\test\\\\test_data\\\\lee_background.cor' mode='r' encoding='iso-8859-1'>\n",
      "105 <_io.TextIOWrapper name='C:\\\\Users\\\\Nick\\\\anaconda3\\\\envs\\\\caltech\\\\lib\\\\site-packages\\\\gensim\\\\test\\\\test_data\\\\lee_background.cor' mode='r' encoding='iso-8859-1'>\n",
      "106 <_io.TextIOWrapper name='C:\\\\Users\\\\Nick\\\\anaconda3\\\\envs\\\\caltech\\\\lib\\\\site-packages\\\\gensim\\\\test\\\\test_data\\\\lee_background.cor' mode='r' encoding='iso-8859-1'>\n",
      "107 <_io.TextIOWrapper name='C:\\\\Users\\\\Nick\\\\anaconda3\\\\envs\\\\caltech\\\\lib\\\\site-packages\\\\gensim\\\\test\\\\test_data\\\\lee_background.cor' mode='r' encoding='iso-8859-1'>\n",
      "108 <_io.TextIOWrapper name='C:\\\\Users\\\\Nick\\\\anaconda3\\\\envs\\\\caltech\\\\lib\\\\site-packages\\\\gensim\\\\test\\\\test_data\\\\lee_background.cor' mode='r' encoding='iso-8859-1'>\n",
      "109 <_io.TextIOWrapper name='C:\\\\Users\\\\Nick\\\\anaconda3\\\\envs\\\\caltech\\\\lib\\\\site-packages\\\\gensim\\\\test\\\\test_data\\\\lee_background.cor' mode='r' encoding='iso-8859-1'>\n",
      "110 <_io.TextIOWrapper name='C:\\\\Users\\\\Nick\\\\anaconda3\\\\envs\\\\caltech\\\\lib\\\\site-packages\\\\gensim\\\\test\\\\test_data\\\\lee_background.cor' mode='r' encoding='iso-8859-1'>\n",
      "111 <_io.TextIOWrapper name='C:\\\\Users\\\\Nick\\\\anaconda3\\\\envs\\\\caltech\\\\lib\\\\site-packages\\\\gensim\\\\test\\\\test_data\\\\lee_background.cor' mode='r' encoding='iso-8859-1'>\n",
      "112 <_io.TextIOWrapper name='C:\\\\Users\\\\Nick\\\\anaconda3\\\\envs\\\\caltech\\\\lib\\\\site-packages\\\\gensim\\\\test\\\\test_data\\\\lee_background.cor' mode='r' encoding='iso-8859-1'>\n",
      "113 <_io.TextIOWrapper name='C:\\\\Users\\\\Nick\\\\anaconda3\\\\envs\\\\caltech\\\\lib\\\\site-packages\\\\gensim\\\\test\\\\test_data\\\\lee_background.cor' mode='r' encoding='iso-8859-1'>\n",
      "114 <_io.TextIOWrapper name='C:\\\\Users\\\\Nick\\\\anaconda3\\\\envs\\\\caltech\\\\lib\\\\site-packages\\\\gensim\\\\test\\\\test_data\\\\lee_background.cor' mode='r' encoding='iso-8859-1'>\n",
      "115 <_io.TextIOWrapper name='C:\\\\Users\\\\Nick\\\\anaconda3\\\\envs\\\\caltech\\\\lib\\\\site-packages\\\\gensim\\\\test\\\\test_data\\\\lee_background.cor' mode='r' encoding='iso-8859-1'>\n",
      "116 <_io.TextIOWrapper name='C:\\\\Users\\\\Nick\\\\anaconda3\\\\envs\\\\caltech\\\\lib\\\\site-packages\\\\gensim\\\\test\\\\test_data\\\\lee_background.cor' mode='r' encoding='iso-8859-1'>\n",
      "117 <_io.TextIOWrapper name='C:\\\\Users\\\\Nick\\\\anaconda3\\\\envs\\\\caltech\\\\lib\\\\site-packages\\\\gensim\\\\test\\\\test_data\\\\lee_background.cor' mode='r' encoding='iso-8859-1'>\n",
      "118 <_io.TextIOWrapper name='C:\\\\Users\\\\Nick\\\\anaconda3\\\\envs\\\\caltech\\\\lib\\\\site-packages\\\\gensim\\\\test\\\\test_data\\\\lee_background.cor' mode='r' encoding='iso-8859-1'>\n",
      "119 <_io.TextIOWrapper name='C:\\\\Users\\\\Nick\\\\anaconda3\\\\envs\\\\caltech\\\\lib\\\\site-packages\\\\gensim\\\\test\\\\test_data\\\\lee_background.cor' mode='r' encoding='iso-8859-1'>\n",
      "120 <_io.TextIOWrapper name='C:\\\\Users\\\\Nick\\\\anaconda3\\\\envs\\\\caltech\\\\lib\\\\site-packages\\\\gensim\\\\test\\\\test_data\\\\lee_background.cor' mode='r' encoding='iso-8859-1'>\n",
      "121 <_io.TextIOWrapper name='C:\\\\Users\\\\Nick\\\\anaconda3\\\\envs\\\\caltech\\\\lib\\\\site-packages\\\\gensim\\\\test\\\\test_data\\\\lee_background.cor' mode='r' encoding='iso-8859-1'>\n",
      "122 <_io.TextIOWrapper name='C:\\\\Users\\\\Nick\\\\anaconda3\\\\envs\\\\caltech\\\\lib\\\\site-packages\\\\gensim\\\\test\\\\test_data\\\\lee_background.cor' mode='r' encoding='iso-8859-1'>\n",
      "123 <_io.TextIOWrapper name='C:\\\\Users\\\\Nick\\\\anaconda3\\\\envs\\\\caltech\\\\lib\\\\site-packages\\\\gensim\\\\test\\\\test_data\\\\lee_background.cor' mode='r' encoding='iso-8859-1'>\n",
      "124 <_io.TextIOWrapper name='C:\\\\Users\\\\Nick\\\\anaconda3\\\\envs\\\\caltech\\\\lib\\\\site-packages\\\\gensim\\\\test\\\\test_data\\\\lee_background.cor' mode='r' encoding='iso-8859-1'>\n",
      "125 <_io.TextIOWrapper name='C:\\\\Users\\\\Nick\\\\anaconda3\\\\envs\\\\caltech\\\\lib\\\\site-packages\\\\gensim\\\\test\\\\test_data\\\\lee_background.cor' mode='r' encoding='iso-8859-1'>\n",
      "126 <_io.TextIOWrapper name='C:\\\\Users\\\\Nick\\\\anaconda3\\\\envs\\\\caltech\\\\lib\\\\site-packages\\\\gensim\\\\test\\\\test_data\\\\lee_background.cor' mode='r' encoding='iso-8859-1'>\n",
      "127 <_io.TextIOWrapper name='C:\\\\Users\\\\Nick\\\\anaconda3\\\\envs\\\\caltech\\\\lib\\\\site-packages\\\\gensim\\\\test\\\\test_data\\\\lee_background.cor' mode='r' encoding='iso-8859-1'>\n",
      "128 <_io.TextIOWrapper name='C:\\\\Users\\\\Nick\\\\anaconda3\\\\envs\\\\caltech\\\\lib\\\\site-packages\\\\gensim\\\\test\\\\test_data\\\\lee_background.cor' mode='r' encoding='iso-8859-1'>\n",
      "129 <_io.TextIOWrapper name='C:\\\\Users\\\\Nick\\\\anaconda3\\\\envs\\\\caltech\\\\lib\\\\site-packages\\\\gensim\\\\test\\\\test_data\\\\lee_background.cor' mode='r' encoding='iso-8859-1'>\n",
      "130 <_io.TextIOWrapper name='C:\\\\Users\\\\Nick\\\\anaconda3\\\\envs\\\\caltech\\\\lib\\\\site-packages\\\\gensim\\\\test\\\\test_data\\\\lee_background.cor' mode='r' encoding='iso-8859-1'>\n",
      "131 <_io.TextIOWrapper name='C:\\\\Users\\\\Nick\\\\anaconda3\\\\envs\\\\caltech\\\\lib\\\\site-packages\\\\gensim\\\\test\\\\test_data\\\\lee_background.cor' mode='r' encoding='iso-8859-1'>\n",
      "132 <_io.TextIOWrapper name='C:\\\\Users\\\\Nick\\\\anaconda3\\\\envs\\\\caltech\\\\lib\\\\site-packages\\\\gensim\\\\test\\\\test_data\\\\lee_background.cor' mode='r' encoding='iso-8859-1'>\n",
      "133 <_io.TextIOWrapper name='C:\\\\Users\\\\Nick\\\\anaconda3\\\\envs\\\\caltech\\\\lib\\\\site-packages\\\\gensim\\\\test\\\\test_data\\\\lee_background.cor' mode='r' encoding='iso-8859-1'>\n",
      "134 <_io.TextIOWrapper name='C:\\\\Users\\\\Nick\\\\anaconda3\\\\envs\\\\caltech\\\\lib\\\\site-packages\\\\gensim\\\\test\\\\test_data\\\\lee_background.cor' mode='r' encoding='iso-8859-1'>\n",
      "135 <_io.TextIOWrapper name='C:\\\\Users\\\\Nick\\\\anaconda3\\\\envs\\\\caltech\\\\lib\\\\site-packages\\\\gensim\\\\test\\\\test_data\\\\lee_background.cor' mode='r' encoding='iso-8859-1'>\n",
      "136 <_io.TextIOWrapper name='C:\\\\Users\\\\Nick\\\\anaconda3\\\\envs\\\\caltech\\\\lib\\\\site-packages\\\\gensim\\\\test\\\\test_data\\\\lee_background.cor' mode='r' encoding='iso-8859-1'>\n",
      "137 <_io.TextIOWrapper name='C:\\\\Users\\\\Nick\\\\anaconda3\\\\envs\\\\caltech\\\\lib\\\\site-packages\\\\gensim\\\\test\\\\test_data\\\\lee_background.cor' mode='r' encoding='iso-8859-1'>\n",
      "138 <_io.TextIOWrapper name='C:\\\\Users\\\\Nick\\\\anaconda3\\\\envs\\\\caltech\\\\lib\\\\site-packages\\\\gensim\\\\test\\\\test_data\\\\lee_background.cor' mode='r' encoding='iso-8859-1'>\n",
      "139 <_io.TextIOWrapper name='C:\\\\Users\\\\Nick\\\\anaconda3\\\\envs\\\\caltech\\\\lib\\\\site-packages\\\\gensim\\\\test\\\\test_data\\\\lee_background.cor' mode='r' encoding='iso-8859-1'>\n",
      "140 <_io.TextIOWrapper name='C:\\\\Users\\\\Nick\\\\anaconda3\\\\envs\\\\caltech\\\\lib\\\\site-packages\\\\gensim\\\\test\\\\test_data\\\\lee_background.cor' mode='r' encoding='iso-8859-1'>\n",
      "141 <_io.TextIOWrapper name='C:\\\\Users\\\\Nick\\\\anaconda3\\\\envs\\\\caltech\\\\lib\\\\site-packages\\\\gensim\\\\test\\\\test_data\\\\lee_background.cor' mode='r' encoding='iso-8859-1'>\n",
      "142 <_io.TextIOWrapper name='C:\\\\Users\\\\Nick\\\\anaconda3\\\\envs\\\\caltech\\\\lib\\\\site-packages\\\\gensim\\\\test\\\\test_data\\\\lee_background.cor' mode='r' encoding='iso-8859-1'>\n",
      "143 <_io.TextIOWrapper name='C:\\\\Users\\\\Nick\\\\anaconda3\\\\envs\\\\caltech\\\\lib\\\\site-packages\\\\gensim\\\\test\\\\test_data\\\\lee_background.cor' mode='r' encoding='iso-8859-1'>\n",
      "144 <_io.TextIOWrapper name='C:\\\\Users\\\\Nick\\\\anaconda3\\\\envs\\\\caltech\\\\lib\\\\site-packages\\\\gensim\\\\test\\\\test_data\\\\lee_background.cor' mode='r' encoding='iso-8859-1'>\n",
      "145 <_io.TextIOWrapper name='C:\\\\Users\\\\Nick\\\\anaconda3\\\\envs\\\\caltech\\\\lib\\\\site-packages\\\\gensim\\\\test\\\\test_data\\\\lee_background.cor' mode='r' encoding='iso-8859-1'>\n",
      "146 <_io.TextIOWrapper name='C:\\\\Users\\\\Nick\\\\anaconda3\\\\envs\\\\caltech\\\\lib\\\\site-packages\\\\gensim\\\\test\\\\test_data\\\\lee_background.cor' mode='r' encoding='iso-8859-1'>\n",
      "147 <_io.TextIOWrapper name='C:\\\\Users\\\\Nick\\\\anaconda3\\\\envs\\\\caltech\\\\lib\\\\site-packages\\\\gensim\\\\test\\\\test_data\\\\lee_background.cor' mode='r' encoding='iso-8859-1'>\n",
      "148 <_io.TextIOWrapper name='C:\\\\Users\\\\Nick\\\\anaconda3\\\\envs\\\\caltech\\\\lib\\\\site-packages\\\\gensim\\\\test\\\\test_data\\\\lee_background.cor' mode='r' encoding='iso-8859-1'>\n",
      "149 <_io.TextIOWrapper name='C:\\\\Users\\\\Nick\\\\anaconda3\\\\envs\\\\caltech\\\\lib\\\\site-packages\\\\gensim\\\\test\\\\test_data\\\\lee_background.cor' mode='r' encoding='iso-8859-1'>\n",
      "150 <_io.TextIOWrapper name='C:\\\\Users\\\\Nick\\\\anaconda3\\\\envs\\\\caltech\\\\lib\\\\site-packages\\\\gensim\\\\test\\\\test_data\\\\lee_background.cor' mode='r' encoding='iso-8859-1'>\n",
      "151 <_io.TextIOWrapper name='C:\\\\Users\\\\Nick\\\\anaconda3\\\\envs\\\\caltech\\\\lib\\\\site-packages\\\\gensim\\\\test\\\\test_data\\\\lee_background.cor' mode='r' encoding='iso-8859-1'>\n",
      "152 <_io.TextIOWrapper name='C:\\\\Users\\\\Nick\\\\anaconda3\\\\envs\\\\caltech\\\\lib\\\\site-packages\\\\gensim\\\\test\\\\test_data\\\\lee_background.cor' mode='r' encoding='iso-8859-1'>\n",
      "153 <_io.TextIOWrapper name='C:\\\\Users\\\\Nick\\\\anaconda3\\\\envs\\\\caltech\\\\lib\\\\site-packages\\\\gensim\\\\test\\\\test_data\\\\lee_background.cor' mode='r' encoding='iso-8859-1'>\n",
      "154 <_io.TextIOWrapper name='C:\\\\Users\\\\Nick\\\\anaconda3\\\\envs\\\\caltech\\\\lib\\\\site-packages\\\\gensim\\\\test\\\\test_data\\\\lee_background.cor' mode='r' encoding='iso-8859-1'>\n",
      "155 <_io.TextIOWrapper name='C:\\\\Users\\\\Nick\\\\anaconda3\\\\envs\\\\caltech\\\\lib\\\\site-packages\\\\gensim\\\\test\\\\test_data\\\\lee_background.cor' mode='r' encoding='iso-8859-1'>\n",
      "156 <_io.TextIOWrapper name='C:\\\\Users\\\\Nick\\\\anaconda3\\\\envs\\\\caltech\\\\lib\\\\site-packages\\\\gensim\\\\test\\\\test_data\\\\lee_background.cor' mode='r' encoding='iso-8859-1'>\n",
      "157 <_io.TextIOWrapper name='C:\\\\Users\\\\Nick\\\\anaconda3\\\\envs\\\\caltech\\\\lib\\\\site-packages\\\\gensim\\\\test\\\\test_data\\\\lee_background.cor' mode='r' encoding='iso-8859-1'>\n",
      "158 <_io.TextIOWrapper name='C:\\\\Users\\\\Nick\\\\anaconda3\\\\envs\\\\caltech\\\\lib\\\\site-packages\\\\gensim\\\\test\\\\test_data\\\\lee_background.cor' mode='r' encoding='iso-8859-1'>\n",
      "159 <_io.TextIOWrapper name='C:\\\\Users\\\\Nick\\\\anaconda3\\\\envs\\\\caltech\\\\lib\\\\site-packages\\\\gensim\\\\test\\\\test_data\\\\lee_background.cor' mode='r' encoding='iso-8859-1'>\n",
      "160 <_io.TextIOWrapper name='C:\\\\Users\\\\Nick\\\\anaconda3\\\\envs\\\\caltech\\\\lib\\\\site-packages\\\\gensim\\\\test\\\\test_data\\\\lee_background.cor' mode='r' encoding='iso-8859-1'>\n",
      "161 <_io.TextIOWrapper name='C:\\\\Users\\\\Nick\\\\anaconda3\\\\envs\\\\caltech\\\\lib\\\\site-packages\\\\gensim\\\\test\\\\test_data\\\\lee_background.cor' mode='r' encoding='iso-8859-1'>\n",
      "162 <_io.TextIOWrapper name='C:\\\\Users\\\\Nick\\\\anaconda3\\\\envs\\\\caltech\\\\lib\\\\site-packages\\\\gensim\\\\test\\\\test_data\\\\lee_background.cor' mode='r' encoding='iso-8859-1'>\n",
      "163 <_io.TextIOWrapper name='C:\\\\Users\\\\Nick\\\\anaconda3\\\\envs\\\\caltech\\\\lib\\\\site-packages\\\\gensim\\\\test\\\\test_data\\\\lee_background.cor' mode='r' encoding='iso-8859-1'>\n",
      "164 <_io.TextIOWrapper name='C:\\\\Users\\\\Nick\\\\anaconda3\\\\envs\\\\caltech\\\\lib\\\\site-packages\\\\gensim\\\\test\\\\test_data\\\\lee_background.cor' mode='r' encoding='iso-8859-1'>\n",
      "165 <_io.TextIOWrapper name='C:\\\\Users\\\\Nick\\\\anaconda3\\\\envs\\\\caltech\\\\lib\\\\site-packages\\\\gensim\\\\test\\\\test_data\\\\lee_background.cor' mode='r' encoding='iso-8859-1'>\n",
      "166 <_io.TextIOWrapper name='C:\\\\Users\\\\Nick\\\\anaconda3\\\\envs\\\\caltech\\\\lib\\\\site-packages\\\\gensim\\\\test\\\\test_data\\\\lee_background.cor' mode='r' encoding='iso-8859-1'>\n",
      "167 <_io.TextIOWrapper name='C:\\\\Users\\\\Nick\\\\anaconda3\\\\envs\\\\caltech\\\\lib\\\\site-packages\\\\gensim\\\\test\\\\test_data\\\\lee_background.cor' mode='r' encoding='iso-8859-1'>\n",
      "168 <_io.TextIOWrapper name='C:\\\\Users\\\\Nick\\\\anaconda3\\\\envs\\\\caltech\\\\lib\\\\site-packages\\\\gensim\\\\test\\\\test_data\\\\lee_background.cor' mode='r' encoding='iso-8859-1'>\n",
      "169 <_io.TextIOWrapper name='C:\\\\Users\\\\Nick\\\\anaconda3\\\\envs\\\\caltech\\\\lib\\\\site-packages\\\\gensim\\\\test\\\\test_data\\\\lee_background.cor' mode='r' encoding='iso-8859-1'>\n",
      "170 <_io.TextIOWrapper name='C:\\\\Users\\\\Nick\\\\anaconda3\\\\envs\\\\caltech\\\\lib\\\\site-packages\\\\gensim\\\\test\\\\test_data\\\\lee_background.cor' mode='r' encoding='iso-8859-1'>\n",
      "171 <_io.TextIOWrapper name='C:\\\\Users\\\\Nick\\\\anaconda3\\\\envs\\\\caltech\\\\lib\\\\site-packages\\\\gensim\\\\test\\\\test_data\\\\lee_background.cor' mode='r' encoding='iso-8859-1'>\n",
      "172 <_io.TextIOWrapper name='C:\\\\Users\\\\Nick\\\\anaconda3\\\\envs\\\\caltech\\\\lib\\\\site-packages\\\\gensim\\\\test\\\\test_data\\\\lee_background.cor' mode='r' encoding='iso-8859-1'>\n",
      "173 <_io.TextIOWrapper name='C:\\\\Users\\\\Nick\\\\anaconda3\\\\envs\\\\caltech\\\\lib\\\\site-packages\\\\gensim\\\\test\\\\test_data\\\\lee_background.cor' mode='r' encoding='iso-8859-1'>\n",
      "174 <_io.TextIOWrapper name='C:\\\\Users\\\\Nick\\\\anaconda3\\\\envs\\\\caltech\\\\lib\\\\site-packages\\\\gensim\\\\test\\\\test_data\\\\lee_background.cor' mode='r' encoding='iso-8859-1'>\n",
      "175 <_io.TextIOWrapper name='C:\\\\Users\\\\Nick\\\\anaconda3\\\\envs\\\\caltech\\\\lib\\\\site-packages\\\\gensim\\\\test\\\\test_data\\\\lee_background.cor' mode='r' encoding='iso-8859-1'>\n",
      "176 <_io.TextIOWrapper name='C:\\\\Users\\\\Nick\\\\anaconda3\\\\envs\\\\caltech\\\\lib\\\\site-packages\\\\gensim\\\\test\\\\test_data\\\\lee_background.cor' mode='r' encoding='iso-8859-1'>\n",
      "177 <_io.TextIOWrapper name='C:\\\\Users\\\\Nick\\\\anaconda3\\\\envs\\\\caltech\\\\lib\\\\site-packages\\\\gensim\\\\test\\\\test_data\\\\lee_background.cor' mode='r' encoding='iso-8859-1'>\n",
      "178 <_io.TextIOWrapper name='C:\\\\Users\\\\Nick\\\\anaconda3\\\\envs\\\\caltech\\\\lib\\\\site-packages\\\\gensim\\\\test\\\\test_data\\\\lee_background.cor' mode='r' encoding='iso-8859-1'>\n",
      "179 <_io.TextIOWrapper name='C:\\\\Users\\\\Nick\\\\anaconda3\\\\envs\\\\caltech\\\\lib\\\\site-packages\\\\gensim\\\\test\\\\test_data\\\\lee_background.cor' mode='r' encoding='iso-8859-1'>\n",
      "180 <_io.TextIOWrapper name='C:\\\\Users\\\\Nick\\\\anaconda3\\\\envs\\\\caltech\\\\lib\\\\site-packages\\\\gensim\\\\test\\\\test_data\\\\lee_background.cor' mode='r' encoding='iso-8859-1'>\n",
      "181 <_io.TextIOWrapper name='C:\\\\Users\\\\Nick\\\\anaconda3\\\\envs\\\\caltech\\\\lib\\\\site-packages\\\\gensim\\\\test\\\\test_data\\\\lee_background.cor' mode='r' encoding='iso-8859-1'>\n",
      "182 <_io.TextIOWrapper name='C:\\\\Users\\\\Nick\\\\anaconda3\\\\envs\\\\caltech\\\\lib\\\\site-packages\\\\gensim\\\\test\\\\test_data\\\\lee_background.cor' mode='r' encoding='iso-8859-1'>\n",
      "183 <_io.TextIOWrapper name='C:\\\\Users\\\\Nick\\\\anaconda3\\\\envs\\\\caltech\\\\lib\\\\site-packages\\\\gensim\\\\test\\\\test_data\\\\lee_background.cor' mode='r' encoding='iso-8859-1'>\n",
      "184 <_io.TextIOWrapper name='C:\\\\Users\\\\Nick\\\\anaconda3\\\\envs\\\\caltech\\\\lib\\\\site-packages\\\\gensim\\\\test\\\\test_data\\\\lee_background.cor' mode='r' encoding='iso-8859-1'>\n",
      "185 <_io.TextIOWrapper name='C:\\\\Users\\\\Nick\\\\anaconda3\\\\envs\\\\caltech\\\\lib\\\\site-packages\\\\gensim\\\\test\\\\test_data\\\\lee_background.cor' mode='r' encoding='iso-8859-1'>\n",
      "186 <_io.TextIOWrapper name='C:\\\\Users\\\\Nick\\\\anaconda3\\\\envs\\\\caltech\\\\lib\\\\site-packages\\\\gensim\\\\test\\\\test_data\\\\lee_background.cor' mode='r' encoding='iso-8859-1'>\n",
      "187 <_io.TextIOWrapper name='C:\\\\Users\\\\Nick\\\\anaconda3\\\\envs\\\\caltech\\\\lib\\\\site-packages\\\\gensim\\\\test\\\\test_data\\\\lee_background.cor' mode='r' encoding='iso-8859-1'>\n",
      "188 <_io.TextIOWrapper name='C:\\\\Users\\\\Nick\\\\anaconda3\\\\envs\\\\caltech\\\\lib\\\\site-packages\\\\gensim\\\\test\\\\test_data\\\\lee_background.cor' mode='r' encoding='iso-8859-1'>\n",
      "189 <_io.TextIOWrapper name='C:\\\\Users\\\\Nick\\\\anaconda3\\\\envs\\\\caltech\\\\lib\\\\site-packages\\\\gensim\\\\test\\\\test_data\\\\lee_background.cor' mode='r' encoding='iso-8859-1'>\n",
      "190 <_io.TextIOWrapper name='C:\\\\Users\\\\Nick\\\\anaconda3\\\\envs\\\\caltech\\\\lib\\\\site-packages\\\\gensim\\\\test\\\\test_data\\\\lee_background.cor' mode='r' encoding='iso-8859-1'>\n",
      "191 <_io.TextIOWrapper name='C:\\\\Users\\\\Nick\\\\anaconda3\\\\envs\\\\caltech\\\\lib\\\\site-packages\\\\gensim\\\\test\\\\test_data\\\\lee_background.cor' mode='r' encoding='iso-8859-1'>\n",
      "192 <_io.TextIOWrapper name='C:\\\\Users\\\\Nick\\\\anaconda3\\\\envs\\\\caltech\\\\lib\\\\site-packages\\\\gensim\\\\test\\\\test_data\\\\lee_background.cor' mode='r' encoding='iso-8859-1'>\n",
      "193 <_io.TextIOWrapper name='C:\\\\Users\\\\Nick\\\\anaconda3\\\\envs\\\\caltech\\\\lib\\\\site-packages\\\\gensim\\\\test\\\\test_data\\\\lee_background.cor' mode='r' encoding='iso-8859-1'>\n",
      "194 <_io.TextIOWrapper name='C:\\\\Users\\\\Nick\\\\anaconda3\\\\envs\\\\caltech\\\\lib\\\\site-packages\\\\gensim\\\\test\\\\test_data\\\\lee_background.cor' mode='r' encoding='iso-8859-1'>\n",
      "195 <_io.TextIOWrapper name='C:\\\\Users\\\\Nick\\\\anaconda3\\\\envs\\\\caltech\\\\lib\\\\site-packages\\\\gensim\\\\test\\\\test_data\\\\lee_background.cor' mode='r' encoding='iso-8859-1'>\n",
      "196 <_io.TextIOWrapper name='C:\\\\Users\\\\Nick\\\\anaconda3\\\\envs\\\\caltech\\\\lib\\\\site-packages\\\\gensim\\\\test\\\\test_data\\\\lee_background.cor' mode='r' encoding='iso-8859-1'>\n",
      "197 <_io.TextIOWrapper name='C:\\\\Users\\\\Nick\\\\anaconda3\\\\envs\\\\caltech\\\\lib\\\\site-packages\\\\gensim\\\\test\\\\test_data\\\\lee_background.cor' mode='r' encoding='iso-8859-1'>\n",
      "198 <_io.TextIOWrapper name='C:\\\\Users\\\\Nick\\\\anaconda3\\\\envs\\\\caltech\\\\lib\\\\site-packages\\\\gensim\\\\test\\\\test_data\\\\lee_background.cor' mode='r' encoding='iso-8859-1'>\n",
      "199 <_io.TextIOWrapper name='C:\\\\Users\\\\Nick\\\\anaconda3\\\\envs\\\\caltech\\\\lib\\\\site-packages\\\\gensim\\\\test\\\\test_data\\\\lee_background.cor' mode='r' encoding='iso-8859-1'>\n",
      "200 <_io.TextIOWrapper name='C:\\\\Users\\\\Nick\\\\anaconda3\\\\envs\\\\caltech\\\\lib\\\\site-packages\\\\gensim\\\\test\\\\test_data\\\\lee_background.cor' mode='r' encoding='iso-8859-1'>\n",
      "201 <_io.TextIOWrapper name='C:\\\\Users\\\\Nick\\\\anaconda3\\\\envs\\\\caltech\\\\lib\\\\site-packages\\\\gensim\\\\test\\\\test_data\\\\lee_background.cor' mode='r' encoding='iso-8859-1'>\n",
      "202 <_io.TextIOWrapper name='C:\\\\Users\\\\Nick\\\\anaconda3\\\\envs\\\\caltech\\\\lib\\\\site-packages\\\\gensim\\\\test\\\\test_data\\\\lee_background.cor' mode='r' encoding='iso-8859-1'>\n",
      "203 <_io.TextIOWrapper name='C:\\\\Users\\\\Nick\\\\anaconda3\\\\envs\\\\caltech\\\\lib\\\\site-packages\\\\gensim\\\\test\\\\test_data\\\\lee_background.cor' mode='r' encoding='iso-8859-1'>\n",
      "204 <_io.TextIOWrapper name='C:\\\\Users\\\\Nick\\\\anaconda3\\\\envs\\\\caltech\\\\lib\\\\site-packages\\\\gensim\\\\test\\\\test_data\\\\lee_background.cor' mode='r' encoding='iso-8859-1'>\n",
      "205 <_io.TextIOWrapper name='C:\\\\Users\\\\Nick\\\\anaconda3\\\\envs\\\\caltech\\\\lib\\\\site-packages\\\\gensim\\\\test\\\\test_data\\\\lee_background.cor' mode='r' encoding='iso-8859-1'>\n",
      "206 <_io.TextIOWrapper name='C:\\\\Users\\\\Nick\\\\anaconda3\\\\envs\\\\caltech\\\\lib\\\\site-packages\\\\gensim\\\\test\\\\test_data\\\\lee_background.cor' mode='r' encoding='iso-8859-1'>\n",
      "207 <_io.TextIOWrapper name='C:\\\\Users\\\\Nick\\\\anaconda3\\\\envs\\\\caltech\\\\lib\\\\site-packages\\\\gensim\\\\test\\\\test_data\\\\lee_background.cor' mode='r' encoding='iso-8859-1'>\n",
      "208 <_io.TextIOWrapper name='C:\\\\Users\\\\Nick\\\\anaconda3\\\\envs\\\\caltech\\\\lib\\\\site-packages\\\\gensim\\\\test\\\\test_data\\\\lee_background.cor' mode='r' encoding='iso-8859-1'>\n",
      "209 <_io.TextIOWrapper name='C:\\\\Users\\\\Nick\\\\anaconda3\\\\envs\\\\caltech\\\\lib\\\\site-packages\\\\gensim\\\\test\\\\test_data\\\\lee_background.cor' mode='r' encoding='iso-8859-1'>\n",
      "210 <_io.TextIOWrapper name='C:\\\\Users\\\\Nick\\\\anaconda3\\\\envs\\\\caltech\\\\lib\\\\site-packages\\\\gensim\\\\test\\\\test_data\\\\lee_background.cor' mode='r' encoding='iso-8859-1'>\n",
      "211 <_io.TextIOWrapper name='C:\\\\Users\\\\Nick\\\\anaconda3\\\\envs\\\\caltech\\\\lib\\\\site-packages\\\\gensim\\\\test\\\\test_data\\\\lee_background.cor' mode='r' encoding='iso-8859-1'>\n",
      "212 <_io.TextIOWrapper name='C:\\\\Users\\\\Nick\\\\anaconda3\\\\envs\\\\caltech\\\\lib\\\\site-packages\\\\gensim\\\\test\\\\test_data\\\\lee_background.cor' mode='r' encoding='iso-8859-1'>\n",
      "213 <_io.TextIOWrapper name='C:\\\\Users\\\\Nick\\\\anaconda3\\\\envs\\\\caltech\\\\lib\\\\site-packages\\\\gensim\\\\test\\\\test_data\\\\lee_background.cor' mode='r' encoding='iso-8859-1'>\n",
      "214 <_io.TextIOWrapper name='C:\\\\Users\\\\Nick\\\\anaconda3\\\\envs\\\\caltech\\\\lib\\\\site-packages\\\\gensim\\\\test\\\\test_data\\\\lee_background.cor' mode='r' encoding='iso-8859-1'>\n",
      "215 <_io.TextIOWrapper name='C:\\\\Users\\\\Nick\\\\anaconda3\\\\envs\\\\caltech\\\\lib\\\\site-packages\\\\gensim\\\\test\\\\test_data\\\\lee_background.cor' mode='r' encoding='iso-8859-1'>\n",
      "216 <_io.TextIOWrapper name='C:\\\\Users\\\\Nick\\\\anaconda3\\\\envs\\\\caltech\\\\lib\\\\site-packages\\\\gensim\\\\test\\\\test_data\\\\lee_background.cor' mode='r' encoding='iso-8859-1'>\n",
      "217 <_io.TextIOWrapper name='C:\\\\Users\\\\Nick\\\\anaconda3\\\\envs\\\\caltech\\\\lib\\\\site-packages\\\\gensim\\\\test\\\\test_data\\\\lee_background.cor' mode='r' encoding='iso-8859-1'>\n",
      "218 <_io.TextIOWrapper name='C:\\\\Users\\\\Nick\\\\anaconda3\\\\envs\\\\caltech\\\\lib\\\\site-packages\\\\gensim\\\\test\\\\test_data\\\\lee_background.cor' mode='r' encoding='iso-8859-1'>\n",
      "219 <_io.TextIOWrapper name='C:\\\\Users\\\\Nick\\\\anaconda3\\\\envs\\\\caltech\\\\lib\\\\site-packages\\\\gensim\\\\test\\\\test_data\\\\lee_background.cor' mode='r' encoding='iso-8859-1'>\n",
      "220 <_io.TextIOWrapper name='C:\\\\Users\\\\Nick\\\\anaconda3\\\\envs\\\\caltech\\\\lib\\\\site-packages\\\\gensim\\\\test\\\\test_data\\\\lee_background.cor' mode='r' encoding='iso-8859-1'>\n",
      "221 <_io.TextIOWrapper name='C:\\\\Users\\\\Nick\\\\anaconda3\\\\envs\\\\caltech\\\\lib\\\\site-packages\\\\gensim\\\\test\\\\test_data\\\\lee_background.cor' mode='r' encoding='iso-8859-1'>\n",
      "222 <_io.TextIOWrapper name='C:\\\\Users\\\\Nick\\\\anaconda3\\\\envs\\\\caltech\\\\lib\\\\site-packages\\\\gensim\\\\test\\\\test_data\\\\lee_background.cor' mode='r' encoding='iso-8859-1'>\n",
      "223 <_io.TextIOWrapper name='C:\\\\Users\\\\Nick\\\\anaconda3\\\\envs\\\\caltech\\\\lib\\\\site-packages\\\\gensim\\\\test\\\\test_data\\\\lee_background.cor' mode='r' encoding='iso-8859-1'>\n",
      "224 <_io.TextIOWrapper name='C:\\\\Users\\\\Nick\\\\anaconda3\\\\envs\\\\caltech\\\\lib\\\\site-packages\\\\gensim\\\\test\\\\test_data\\\\lee_background.cor' mode='r' encoding='iso-8859-1'>\n",
      "225 <_io.TextIOWrapper name='C:\\\\Users\\\\Nick\\\\anaconda3\\\\envs\\\\caltech\\\\lib\\\\site-packages\\\\gensim\\\\test\\\\test_data\\\\lee_background.cor' mode='r' encoding='iso-8859-1'>\n",
      "226 <_io.TextIOWrapper name='C:\\\\Users\\\\Nick\\\\anaconda3\\\\envs\\\\caltech\\\\lib\\\\site-packages\\\\gensim\\\\test\\\\test_data\\\\lee_background.cor' mode='r' encoding='iso-8859-1'>\n",
      "227 <_io.TextIOWrapper name='C:\\\\Users\\\\Nick\\\\anaconda3\\\\envs\\\\caltech\\\\lib\\\\site-packages\\\\gensim\\\\test\\\\test_data\\\\lee_background.cor' mode='r' encoding='iso-8859-1'>\n",
      "228 <_io.TextIOWrapper name='C:\\\\Users\\\\Nick\\\\anaconda3\\\\envs\\\\caltech\\\\lib\\\\site-packages\\\\gensim\\\\test\\\\test_data\\\\lee_background.cor' mode='r' encoding='iso-8859-1'>\n",
      "229 <_io.TextIOWrapper name='C:\\\\Users\\\\Nick\\\\anaconda3\\\\envs\\\\caltech\\\\lib\\\\site-packages\\\\gensim\\\\test\\\\test_data\\\\lee_background.cor' mode='r' encoding='iso-8859-1'>\n",
      "230 <_io.TextIOWrapper name='C:\\\\Users\\\\Nick\\\\anaconda3\\\\envs\\\\caltech\\\\lib\\\\site-packages\\\\gensim\\\\test\\\\test_data\\\\lee_background.cor' mode='r' encoding='iso-8859-1'>\n",
      "231 <_io.TextIOWrapper name='C:\\\\Users\\\\Nick\\\\anaconda3\\\\envs\\\\caltech\\\\lib\\\\site-packages\\\\gensim\\\\test\\\\test_data\\\\lee_background.cor' mode='r' encoding='iso-8859-1'>\n",
      "232 <_io.TextIOWrapper name='C:\\\\Users\\\\Nick\\\\anaconda3\\\\envs\\\\caltech\\\\lib\\\\site-packages\\\\gensim\\\\test\\\\test_data\\\\lee_background.cor' mode='r' encoding='iso-8859-1'>\n",
      "233 <_io.TextIOWrapper name='C:\\\\Users\\\\Nick\\\\anaconda3\\\\envs\\\\caltech\\\\lib\\\\site-packages\\\\gensim\\\\test\\\\test_data\\\\lee_background.cor' mode='r' encoding='iso-8859-1'>\n",
      "234 <_io.TextIOWrapper name='C:\\\\Users\\\\Nick\\\\anaconda3\\\\envs\\\\caltech\\\\lib\\\\site-packages\\\\gensim\\\\test\\\\test_data\\\\lee_background.cor' mode='r' encoding='iso-8859-1'>\n",
      "235 <_io.TextIOWrapper name='C:\\\\Users\\\\Nick\\\\anaconda3\\\\envs\\\\caltech\\\\lib\\\\site-packages\\\\gensim\\\\test\\\\test_data\\\\lee_background.cor' mode='r' encoding='iso-8859-1'>\n",
      "236 <_io.TextIOWrapper name='C:\\\\Users\\\\Nick\\\\anaconda3\\\\envs\\\\caltech\\\\lib\\\\site-packages\\\\gensim\\\\test\\\\test_data\\\\lee_background.cor' mode='r' encoding='iso-8859-1'>\n",
      "237 <_io.TextIOWrapper name='C:\\\\Users\\\\Nick\\\\anaconda3\\\\envs\\\\caltech\\\\lib\\\\site-packages\\\\gensim\\\\test\\\\test_data\\\\lee_background.cor' mode='r' encoding='iso-8859-1'>\n",
      "238 <_io.TextIOWrapper name='C:\\\\Users\\\\Nick\\\\anaconda3\\\\envs\\\\caltech\\\\lib\\\\site-packages\\\\gensim\\\\test\\\\test_data\\\\lee_background.cor' mode='r' encoding='iso-8859-1'>\n",
      "239 <_io.TextIOWrapper name='C:\\\\Users\\\\Nick\\\\anaconda3\\\\envs\\\\caltech\\\\lib\\\\site-packages\\\\gensim\\\\test\\\\test_data\\\\lee_background.cor' mode='r' encoding='iso-8859-1'>\n",
      "240 <_io.TextIOWrapper name='C:\\\\Users\\\\Nick\\\\anaconda3\\\\envs\\\\caltech\\\\lib\\\\site-packages\\\\gensim\\\\test\\\\test_data\\\\lee_background.cor' mode='r' encoding='iso-8859-1'>\n",
      "241 <_io.TextIOWrapper name='C:\\\\Users\\\\Nick\\\\anaconda3\\\\envs\\\\caltech\\\\lib\\\\site-packages\\\\gensim\\\\test\\\\test_data\\\\lee_background.cor' mode='r' encoding='iso-8859-1'>\n",
      "242 <_io.TextIOWrapper name='C:\\\\Users\\\\Nick\\\\anaconda3\\\\envs\\\\caltech\\\\lib\\\\site-packages\\\\gensim\\\\test\\\\test_data\\\\lee_background.cor' mode='r' encoding='iso-8859-1'>\n",
      "243 <_io.TextIOWrapper name='C:\\\\Users\\\\Nick\\\\anaconda3\\\\envs\\\\caltech\\\\lib\\\\site-packages\\\\gensim\\\\test\\\\test_data\\\\lee_background.cor' mode='r' encoding='iso-8859-1'>\n",
      "244 <_io.TextIOWrapper name='C:\\\\Users\\\\Nick\\\\anaconda3\\\\envs\\\\caltech\\\\lib\\\\site-packages\\\\gensim\\\\test\\\\test_data\\\\lee_background.cor' mode='r' encoding='iso-8859-1'>\n",
      "245 <_io.TextIOWrapper name='C:\\\\Users\\\\Nick\\\\anaconda3\\\\envs\\\\caltech\\\\lib\\\\site-packages\\\\gensim\\\\test\\\\test_data\\\\lee_background.cor' mode='r' encoding='iso-8859-1'>\n",
      "246 <_io.TextIOWrapper name='C:\\\\Users\\\\Nick\\\\anaconda3\\\\envs\\\\caltech\\\\lib\\\\site-packages\\\\gensim\\\\test\\\\test_data\\\\lee_background.cor' mode='r' encoding='iso-8859-1'>\n",
      "247 <_io.TextIOWrapper name='C:\\\\Users\\\\Nick\\\\anaconda3\\\\envs\\\\caltech\\\\lib\\\\site-packages\\\\gensim\\\\test\\\\test_data\\\\lee_background.cor' mode='r' encoding='iso-8859-1'>\n",
      "248 <_io.TextIOWrapper name='C:\\\\Users\\\\Nick\\\\anaconda3\\\\envs\\\\caltech\\\\lib\\\\site-packages\\\\gensim\\\\test\\\\test_data\\\\lee_background.cor' mode='r' encoding='iso-8859-1'>\n",
      "249 <_io.TextIOWrapper name='C:\\\\Users\\\\Nick\\\\anaconda3\\\\envs\\\\caltech\\\\lib\\\\site-packages\\\\gensim\\\\test\\\\test_data\\\\lee_background.cor' mode='r' encoding='iso-8859-1'>\n",
      "250 <_io.TextIOWrapper name='C:\\\\Users\\\\Nick\\\\anaconda3\\\\envs\\\\caltech\\\\lib\\\\site-packages\\\\gensim\\\\test\\\\test_data\\\\lee_background.cor' mode='r' encoding='iso-8859-1'>\n",
      "251 <_io.TextIOWrapper name='C:\\\\Users\\\\Nick\\\\anaconda3\\\\envs\\\\caltech\\\\lib\\\\site-packages\\\\gensim\\\\test\\\\test_data\\\\lee_background.cor' mode='r' encoding='iso-8859-1'>\n",
      "252 <_io.TextIOWrapper name='C:\\\\Users\\\\Nick\\\\anaconda3\\\\envs\\\\caltech\\\\lib\\\\site-packages\\\\gensim\\\\test\\\\test_data\\\\lee_background.cor' mode='r' encoding='iso-8859-1'>\n",
      "253 <_io.TextIOWrapper name='C:\\\\Users\\\\Nick\\\\anaconda3\\\\envs\\\\caltech\\\\lib\\\\site-packages\\\\gensim\\\\test\\\\test_data\\\\lee_background.cor' mode='r' encoding='iso-8859-1'>\n",
      "254 <_io.TextIOWrapper name='C:\\\\Users\\\\Nick\\\\anaconda3\\\\envs\\\\caltech\\\\lib\\\\site-packages\\\\gensim\\\\test\\\\test_data\\\\lee_background.cor' mode='r' encoding='iso-8859-1'>\n",
      "255 <_io.TextIOWrapper name='C:\\\\Users\\\\Nick\\\\anaconda3\\\\envs\\\\caltech\\\\lib\\\\site-packages\\\\gensim\\\\test\\\\test_data\\\\lee_background.cor' mode='r' encoding='iso-8859-1'>\n",
      "256 <_io.TextIOWrapper name='C:\\\\Users\\\\Nick\\\\anaconda3\\\\envs\\\\caltech\\\\lib\\\\site-packages\\\\gensim\\\\test\\\\test_data\\\\lee_background.cor' mode='r' encoding='iso-8859-1'>\n",
      "257 <_io.TextIOWrapper name='C:\\\\Users\\\\Nick\\\\anaconda3\\\\envs\\\\caltech\\\\lib\\\\site-packages\\\\gensim\\\\test\\\\test_data\\\\lee_background.cor' mode='r' encoding='iso-8859-1'>\n",
      "258 <_io.TextIOWrapper name='C:\\\\Users\\\\Nick\\\\anaconda3\\\\envs\\\\caltech\\\\lib\\\\site-packages\\\\gensim\\\\test\\\\test_data\\\\lee_background.cor' mode='r' encoding='iso-8859-1'>\n",
      "259 <_io.TextIOWrapper name='C:\\\\Users\\\\Nick\\\\anaconda3\\\\envs\\\\caltech\\\\lib\\\\site-packages\\\\gensim\\\\test\\\\test_data\\\\lee_background.cor' mode='r' encoding='iso-8859-1'>\n",
      "260 <_io.TextIOWrapper name='C:\\\\Users\\\\Nick\\\\anaconda3\\\\envs\\\\caltech\\\\lib\\\\site-packages\\\\gensim\\\\test\\\\test_data\\\\lee_background.cor' mode='r' encoding='iso-8859-1'>\n",
      "261 <_io.TextIOWrapper name='C:\\\\Users\\\\Nick\\\\anaconda3\\\\envs\\\\caltech\\\\lib\\\\site-packages\\\\gensim\\\\test\\\\test_data\\\\lee_background.cor' mode='r' encoding='iso-8859-1'>\n",
      "262 <_io.TextIOWrapper name='C:\\\\Users\\\\Nick\\\\anaconda3\\\\envs\\\\caltech\\\\lib\\\\site-packages\\\\gensim\\\\test\\\\test_data\\\\lee_background.cor' mode='r' encoding='iso-8859-1'>\n",
      "263 <_io.TextIOWrapper name='C:\\\\Users\\\\Nick\\\\anaconda3\\\\envs\\\\caltech\\\\lib\\\\site-packages\\\\gensim\\\\test\\\\test_data\\\\lee_background.cor' mode='r' encoding='iso-8859-1'>\n",
      "264 <_io.TextIOWrapper name='C:\\\\Users\\\\Nick\\\\anaconda3\\\\envs\\\\caltech\\\\lib\\\\site-packages\\\\gensim\\\\test\\\\test_data\\\\lee_background.cor' mode='r' encoding='iso-8859-1'>\n",
      "265 <_io.TextIOWrapper name='C:\\\\Users\\\\Nick\\\\anaconda3\\\\envs\\\\caltech\\\\lib\\\\site-packages\\\\gensim\\\\test\\\\test_data\\\\lee_background.cor' mode='r' encoding='iso-8859-1'>\n",
      "266 <_io.TextIOWrapper name='C:\\\\Users\\\\Nick\\\\anaconda3\\\\envs\\\\caltech\\\\lib\\\\site-packages\\\\gensim\\\\test\\\\test_data\\\\lee_background.cor' mode='r' encoding='iso-8859-1'>\n",
      "267 <_io.TextIOWrapper name='C:\\\\Users\\\\Nick\\\\anaconda3\\\\envs\\\\caltech\\\\lib\\\\site-packages\\\\gensim\\\\test\\\\test_data\\\\lee_background.cor' mode='r' encoding='iso-8859-1'>\n",
      "268 <_io.TextIOWrapper name='C:\\\\Users\\\\Nick\\\\anaconda3\\\\envs\\\\caltech\\\\lib\\\\site-packages\\\\gensim\\\\test\\\\test_data\\\\lee_background.cor' mode='r' encoding='iso-8859-1'>\n",
      "269 <_io.TextIOWrapper name='C:\\\\Users\\\\Nick\\\\anaconda3\\\\envs\\\\caltech\\\\lib\\\\site-packages\\\\gensim\\\\test\\\\test_data\\\\lee_background.cor' mode='r' encoding='iso-8859-1'>\n",
      "270 <_io.TextIOWrapper name='C:\\\\Users\\\\Nick\\\\anaconda3\\\\envs\\\\caltech\\\\lib\\\\site-packages\\\\gensim\\\\test\\\\test_data\\\\lee_background.cor' mode='r' encoding='iso-8859-1'>\n",
      "271 <_io.TextIOWrapper name='C:\\\\Users\\\\Nick\\\\anaconda3\\\\envs\\\\caltech\\\\lib\\\\site-packages\\\\gensim\\\\test\\\\test_data\\\\lee_background.cor' mode='r' encoding='iso-8859-1'>\n",
      "272 <_io.TextIOWrapper name='C:\\\\Users\\\\Nick\\\\anaconda3\\\\envs\\\\caltech\\\\lib\\\\site-packages\\\\gensim\\\\test\\\\test_data\\\\lee_background.cor' mode='r' encoding='iso-8859-1'>\n",
      "273 <_io.TextIOWrapper name='C:\\\\Users\\\\Nick\\\\anaconda3\\\\envs\\\\caltech\\\\lib\\\\site-packages\\\\gensim\\\\test\\\\test_data\\\\lee_background.cor' mode='r' encoding='iso-8859-1'>\n",
      "274 <_io.TextIOWrapper name='C:\\\\Users\\\\Nick\\\\anaconda3\\\\envs\\\\caltech\\\\lib\\\\site-packages\\\\gensim\\\\test\\\\test_data\\\\lee_background.cor' mode='r' encoding='iso-8859-1'>\n",
      "275 <_io.TextIOWrapper name='C:\\\\Users\\\\Nick\\\\anaconda3\\\\envs\\\\caltech\\\\lib\\\\site-packages\\\\gensim\\\\test\\\\test_data\\\\lee_background.cor' mode='r' encoding='iso-8859-1'>\n",
      "276 <_io.TextIOWrapper name='C:\\\\Users\\\\Nick\\\\anaconda3\\\\envs\\\\caltech\\\\lib\\\\site-packages\\\\gensim\\\\test\\\\test_data\\\\lee_background.cor' mode='r' encoding='iso-8859-1'>\n",
      "277 <_io.TextIOWrapper name='C:\\\\Users\\\\Nick\\\\anaconda3\\\\envs\\\\caltech\\\\lib\\\\site-packages\\\\gensim\\\\test\\\\test_data\\\\lee_background.cor' mode='r' encoding='iso-8859-1'>\n",
      "278 <_io.TextIOWrapper name='C:\\\\Users\\\\Nick\\\\anaconda3\\\\envs\\\\caltech\\\\lib\\\\site-packages\\\\gensim\\\\test\\\\test_data\\\\lee_background.cor' mode='r' encoding='iso-8859-1'>\n",
      "279 <_io.TextIOWrapper name='C:\\\\Users\\\\Nick\\\\anaconda3\\\\envs\\\\caltech\\\\lib\\\\site-packages\\\\gensim\\\\test\\\\test_data\\\\lee_background.cor' mode='r' encoding='iso-8859-1'>\n",
      "280 <_io.TextIOWrapper name='C:\\\\Users\\\\Nick\\\\anaconda3\\\\envs\\\\caltech\\\\lib\\\\site-packages\\\\gensim\\\\test\\\\test_data\\\\lee_background.cor' mode='r' encoding='iso-8859-1'>\n",
      "281 <_io.TextIOWrapper name='C:\\\\Users\\\\Nick\\\\anaconda3\\\\envs\\\\caltech\\\\lib\\\\site-packages\\\\gensim\\\\test\\\\test_data\\\\lee_background.cor' mode='r' encoding='iso-8859-1'>\n",
      "282 <_io.TextIOWrapper name='C:\\\\Users\\\\Nick\\\\anaconda3\\\\envs\\\\caltech\\\\lib\\\\site-packages\\\\gensim\\\\test\\\\test_data\\\\lee_background.cor' mode='r' encoding='iso-8859-1'>\n",
      "283 <_io.TextIOWrapper name='C:\\\\Users\\\\Nick\\\\anaconda3\\\\envs\\\\caltech\\\\lib\\\\site-packages\\\\gensim\\\\test\\\\test_data\\\\lee_background.cor' mode='r' encoding='iso-8859-1'>\n",
      "284 <_io.TextIOWrapper name='C:\\\\Users\\\\Nick\\\\anaconda3\\\\envs\\\\caltech\\\\lib\\\\site-packages\\\\gensim\\\\test\\\\test_data\\\\lee_background.cor' mode='r' encoding='iso-8859-1'>\n",
      "285 <_io.TextIOWrapper name='C:\\\\Users\\\\Nick\\\\anaconda3\\\\envs\\\\caltech\\\\lib\\\\site-packages\\\\gensim\\\\test\\\\test_data\\\\lee_background.cor' mode='r' encoding='iso-8859-1'>\n",
      "286 <_io.TextIOWrapper name='C:\\\\Users\\\\Nick\\\\anaconda3\\\\envs\\\\caltech\\\\lib\\\\site-packages\\\\gensim\\\\test\\\\test_data\\\\lee_background.cor' mode='r' encoding='iso-8859-1'>\n",
      "287 <_io.TextIOWrapper name='C:\\\\Users\\\\Nick\\\\anaconda3\\\\envs\\\\caltech\\\\lib\\\\site-packages\\\\gensim\\\\test\\\\test_data\\\\lee_background.cor' mode='r' encoding='iso-8859-1'>\n",
      "288 <_io.TextIOWrapper name='C:\\\\Users\\\\Nick\\\\anaconda3\\\\envs\\\\caltech\\\\lib\\\\site-packages\\\\gensim\\\\test\\\\test_data\\\\lee_background.cor' mode='r' encoding='iso-8859-1'>\n",
      "289 <_io.TextIOWrapper name='C:\\\\Users\\\\Nick\\\\anaconda3\\\\envs\\\\caltech\\\\lib\\\\site-packages\\\\gensim\\\\test\\\\test_data\\\\lee_background.cor' mode='r' encoding='iso-8859-1'>\n",
      "290 <_io.TextIOWrapper name='C:\\\\Users\\\\Nick\\\\anaconda3\\\\envs\\\\caltech\\\\lib\\\\site-packages\\\\gensim\\\\test\\\\test_data\\\\lee_background.cor' mode='r' encoding='iso-8859-1'>\n",
      "291 <_io.TextIOWrapper name='C:\\\\Users\\\\Nick\\\\anaconda3\\\\envs\\\\caltech\\\\lib\\\\site-packages\\\\gensim\\\\test\\\\test_data\\\\lee_background.cor' mode='r' encoding='iso-8859-1'>\n",
      "292 <_io.TextIOWrapper name='C:\\\\Users\\\\Nick\\\\anaconda3\\\\envs\\\\caltech\\\\lib\\\\site-packages\\\\gensim\\\\test\\\\test_data\\\\lee_background.cor' mode='r' encoding='iso-8859-1'>\n",
      "293 <_io.TextIOWrapper name='C:\\\\Users\\\\Nick\\\\anaconda3\\\\envs\\\\caltech\\\\lib\\\\site-packages\\\\gensim\\\\test\\\\test_data\\\\lee_background.cor' mode='r' encoding='iso-8859-1'>\n",
      "294 <_io.TextIOWrapper name='C:\\\\Users\\\\Nick\\\\anaconda3\\\\envs\\\\caltech\\\\lib\\\\site-packages\\\\gensim\\\\test\\\\test_data\\\\lee_background.cor' mode='r' encoding='iso-8859-1'>\n",
      "295 <_io.TextIOWrapper name='C:\\\\Users\\\\Nick\\\\anaconda3\\\\envs\\\\caltech\\\\lib\\\\site-packages\\\\gensim\\\\test\\\\test_data\\\\lee_background.cor' mode='r' encoding='iso-8859-1'>\n",
      "296 <_io.TextIOWrapper name='C:\\\\Users\\\\Nick\\\\anaconda3\\\\envs\\\\caltech\\\\lib\\\\site-packages\\\\gensim\\\\test\\\\test_data\\\\lee_background.cor' mode='r' encoding='iso-8859-1'>\n",
      "297 <_io.TextIOWrapper name='C:\\\\Users\\\\Nick\\\\anaconda3\\\\envs\\\\caltech\\\\lib\\\\site-packages\\\\gensim\\\\test\\\\test_data\\\\lee_background.cor' mode='r' encoding='iso-8859-1'>\n",
      "298 <_io.TextIOWrapper name='C:\\\\Users\\\\Nick\\\\anaconda3\\\\envs\\\\caltech\\\\lib\\\\site-packages\\\\gensim\\\\test\\\\test_data\\\\lee_background.cor' mode='r' encoding='iso-8859-1'>\n",
      "299 <_io.TextIOWrapper name='C:\\\\Users\\\\Nick\\\\anaconda3\\\\envs\\\\caltech\\\\lib\\\\site-packages\\\\gensim\\\\test\\\\test_data\\\\lee_background.cor' mode='r' encoding='iso-8859-1'>\n"
     ]
    }
   ],
   "source": [
    "with smart_open.open(lee_train_file, encoding=\"iso-8859-1\") as f:\n",
    "    for i, line in enumerate(f):\n",
    "        print(i,f)"
   ]
  },
  {
   "cell_type": "markdown",
   "metadata": {},
   "source": [
    "## Define a Function to Read and Preprocess Text\n",
    "\n",
    "Below, we define a function to:\n",
    "\n",
    "- open the train/test file (with latin encoding)\n",
    "- read the file line-by-line\n",
    "- pre-process each line (tokenize text into individual words, remove punctuation, set to lowercase, etc)\n",
    "\n",
    "The file we're reading is a **corpus**.\n",
    "Each line of the file is a **document**.\n",
    "\n",
    ".. Important::\n",
    "  To train the model, we'll need to associate a tag/number with each document\n",
    "  of the training corpus. In our case, the tag is simply the zero-based line\n",
    "  number.\n",
    "\n",
    "\n"
   ]
  },
  {
   "cell_type": "code",
   "execution_count": 4,
   "metadata": {},
   "outputs": [],
   "source": [
    "import smart_open\n",
    "\n",
    "def read_corpus(fname, tokens_only=False):\n",
    "    with smart_open.open(fname, encoding=\"iso-8859-1\") as f:\n",
    "        for i, line in enumerate(f):\n",
    "            tokens = gensim.utils.simple_preprocess(line)\n",
    "            if tokens_only:\n",
    "                yield tokens\n",
    "            else:\n",
    "                # For training data, add tags\n",
    "                yield gensim.models.doc2vec.TaggedDocument(tokens, [i])\n",
    "\n",
    "train_corpus = list(read_corpus(lee_train_file))\n",
    "test_corpus = list(read_corpus(lee_test_file, tokens_only=True))"
   ]
  },
  {
   "cell_type": "code",
   "execution_count": 28,
   "metadata": {},
   "outputs": [
    {
     "data": {
      "text/plain": [
       "TaggedDocument(words=['work', 'is', 'continuing', 'this', 'morning', 'to', 'restore', 'power', 'supplies', 'to', 'tens', 'of', 'thousands', 'of', 'homes', 'that', 'were', 'blacked', 'out', 'during', 'wild', 'storms', 'that', 'struck', 'south', 'east', 'queensland', 'last', 'night', 'gale', 'force', 'winds', 'uprooted', 'trees', 'and', 'brought', 'down', 'power', 'lines', 'damaging', 'homes', 'and', 'cars', 'energex', 'and', 'ergon', 'energy', 'have', 'had', 'every', 'available', 'person', 'working', 'through', 'the', 'night', 'to', 'restore', 'power', 'at', 'locations', 'in', 'and', 'around', 'brisbane', 'west', 'to', 'toowoomba', 'and', 'north', 'to', 'the', 'sunshine', 'coast', 'at', 'boonah', 'south', 'west', 'of', 'brisbane', 'protective', 'tarpaulins', 'were', 'ripped', 'from', 'homes', 'still', 'undergoing', 'repairs', 'following', 'severe', 'storms', 'just', 'before', 'christmas', 'at', 'nambour', 'four', 'people', 'were', 'rescued', 'after', 'high', 'voltage', 'power', 'lines', 'fell', 'across', 'their', 'car', 'trapping', 'them', 'inside', 'and', 'at', 'landsborough', 'fierce', 'winds', 'sent', 'large', 'tree', 'crashing', 'into', 'house', 'but', 'no', 'one', 'was', 'injured'], tags=[10])"
      ]
     },
     "execution_count": 28,
     "metadata": {},
     "output_type": "execute_result"
    }
   ],
   "source": [
    "train_corpus[10]"
   ]
  },
  {
   "cell_type": "code",
   "execution_count": 21,
   "metadata": {},
   "outputs": [
    {
     "data": {
      "text/plain": [
       "gensim.models.doc2vec.TaggedDocument"
      ]
     },
     "execution_count": 21,
     "metadata": {},
     "output_type": "execute_result"
    }
   ],
   "source": [
    "type(train_corpus[0])"
   ]
  },
  {
   "cell_type": "code",
   "execution_count": 22,
   "metadata": {},
   "outputs": [
    {
     "data": {
      "text/plain": [
       "list"
      ]
     },
     "execution_count": 22,
     "metadata": {},
     "output_type": "execute_result"
    }
   ],
   "source": [
    "type(train_corpus)"
   ]
  },
  {
   "cell_type": "markdown",
   "metadata": {},
   "source": [
    "Let's take a look at the training corpus\n",
    "\n",
    "\n"
   ]
  },
  {
   "cell_type": "code",
   "execution_count": 5,
   "metadata": {},
   "outputs": [
    {
     "name": "stdout",
     "output_type": "stream",
     "text": [
      "[TaggedDocument(words=['hundreds', 'of', 'people', 'have', 'been', 'forced', 'to', 'vacate', 'their', 'homes', 'in', 'the', 'southern', 'highlands', 'of', 'new', 'south', 'wales', 'as', 'strong', 'winds', 'today', 'pushed', 'huge', 'bushfire', 'towards', 'the', 'town', 'of', 'hill', 'top', 'new', 'blaze', 'near', 'goulburn', 'south', 'west', 'of', 'sydney', 'has', 'forced', 'the', 'closure', 'of', 'the', 'hume', 'highway', 'at', 'about', 'pm', 'aedt', 'marked', 'deterioration', 'in', 'the', 'weather', 'as', 'storm', 'cell', 'moved', 'east', 'across', 'the', 'blue', 'mountains', 'forced', 'authorities', 'to', 'make', 'decision', 'to', 'evacuate', 'people', 'from', 'homes', 'in', 'outlying', 'streets', 'at', 'hill', 'top', 'in', 'the', 'new', 'south', 'wales', 'southern', 'highlands', 'an', 'estimated', 'residents', 'have', 'left', 'their', 'homes', 'for', 'nearby', 'mittagong', 'the', 'new', 'south', 'wales', 'rural', 'fire', 'service', 'says', 'the', 'weather', 'conditions', 'which', 'caused', 'the', 'fire', 'to', 'burn', 'in', 'finger', 'formation', 'have', 'now', 'eased', 'and', 'about', 'fire', 'units', 'in', 'and', 'around', 'hill', 'top', 'are', 'optimistic', 'of', 'defending', 'all', 'properties', 'as', 'more', 'than', 'blazes', 'burn', 'on', 'new', 'year', 'eve', 'in', 'new', 'south', 'wales', 'fire', 'crews', 'have', 'been', 'called', 'to', 'new', 'fire', 'at', 'gunning', 'south', 'of', 'goulburn', 'while', 'few', 'details', 'are', 'available', 'at', 'this', 'stage', 'fire', 'authorities', 'says', 'it', 'has', 'closed', 'the', 'hume', 'highway', 'in', 'both', 'directions', 'meanwhile', 'new', 'fire', 'in', 'sydney', 'west', 'is', 'no', 'longer', 'threatening', 'properties', 'in', 'the', 'cranebrook', 'area', 'rain', 'has', 'fallen', 'in', 'some', 'parts', 'of', 'the', 'illawarra', 'sydney', 'the', 'hunter', 'valley', 'and', 'the', 'north', 'coast', 'but', 'the', 'bureau', 'of', 'meteorology', 'claire', 'richards', 'says', 'the', 'rain', 'has', 'done', 'little', 'to', 'ease', 'any', 'of', 'the', 'hundred', 'fires', 'still', 'burning', 'across', 'the', 'state', 'the', 'falls', 'have', 'been', 'quite', 'isolated', 'in', 'those', 'areas', 'and', 'generally', 'the', 'falls', 'have', 'been', 'less', 'than', 'about', 'five', 'millimetres', 'she', 'said', 'in', 'some', 'places', 'really', 'not', 'significant', 'at', 'all', 'less', 'than', 'millimetre', 'so', 'there', 'hasn', 'been', 'much', 'relief', 'as', 'far', 'as', 'rain', 'is', 'concerned', 'in', 'fact', 'they', 've', 'probably', 'hampered', 'the', 'efforts', 'of', 'the', 'firefighters', 'more', 'because', 'of', 'the', 'wind', 'gusts', 'that', 'are', 'associated', 'with', 'those', 'thunderstorms'], tags=[0]), TaggedDocument(words=['indian', 'security', 'forces', 'have', 'shot', 'dead', 'eight', 'suspected', 'militants', 'in', 'night', 'long', 'encounter', 'in', 'southern', 'kashmir', 'the', 'shootout', 'took', 'place', 'at', 'dora', 'village', 'some', 'kilometers', 'south', 'of', 'the', 'kashmiri', 'summer', 'capital', 'srinagar', 'the', 'deaths', 'came', 'as', 'pakistani', 'police', 'arrested', 'more', 'than', 'two', 'dozen', 'militants', 'from', 'extremist', 'groups', 'accused', 'of', 'staging', 'an', 'attack', 'on', 'india', 'parliament', 'india', 'has', 'accused', 'pakistan', 'based', 'lashkar', 'taiba', 'and', 'jaish', 'mohammad', 'of', 'carrying', 'out', 'the', 'attack', 'on', 'december', 'at', 'the', 'behest', 'of', 'pakistani', 'military', 'intelligence', 'military', 'tensions', 'have', 'soared', 'since', 'the', 'raid', 'with', 'both', 'sides', 'massing', 'troops', 'along', 'their', 'border', 'and', 'trading', 'tit', 'for', 'tat', 'diplomatic', 'sanctions', 'yesterday', 'pakistan', 'announced', 'it', 'had', 'arrested', 'lashkar', 'taiba', 'chief', 'hafiz', 'mohammed', 'saeed', 'police', 'in', 'karachi', 'say', 'it', 'is', 'likely', 'more', 'raids', 'will', 'be', 'launched', 'against', 'the', 'two', 'groups', 'as', 'well', 'as', 'other', 'militant', 'organisations', 'accused', 'of', 'targetting', 'india', 'military', 'tensions', 'between', 'india', 'and', 'pakistan', 'have', 'escalated', 'to', 'level', 'not', 'seen', 'since', 'their', 'war'], tags=[1])]\n"
     ]
    }
   ],
   "source": [
    "print(train_corpus[:2])"
   ]
  },
  {
   "cell_type": "markdown",
   "metadata": {},
   "source": [
    "And the testing corpus looks like this:\n",
    "\n",
    "\n"
   ]
  },
  {
   "cell_type": "code",
   "execution_count": 6,
   "metadata": {},
   "outputs": [
    {
     "name": "stdout",
     "output_type": "stream",
     "text": [
      "[['the', 'national', 'executive', 'of', 'the', 'strife', 'torn', 'democrats', 'last', 'night', 'appointed', 'little', 'known', 'west', 'australian', 'senator', 'brian', 'greig', 'as', 'interim', 'leader', 'shock', 'move', 'likely', 'to', 'provoke', 'further', 'conflict', 'between', 'the', 'party', 'senators', 'and', 'its', 'organisation', 'in', 'move', 'to', 'reassert', 'control', 'over', 'the', 'party', 'seven', 'senators', 'the', 'national', 'executive', 'last', 'night', 'rejected', 'aden', 'ridgeway', 'bid', 'to', 'become', 'interim', 'leader', 'in', 'favour', 'of', 'senator', 'greig', 'supporter', 'of', 'deposed', 'leader', 'natasha', 'stott', 'despoja', 'and', 'an', 'outspoken', 'gay', 'rights', 'activist'], ['cash', 'strapped', 'financial', 'services', 'group', 'amp', 'has', 'shelved', 'million', 'plan', 'to', 'buy', 'shares', 'back', 'from', 'investors', 'and', 'will', 'raise', 'million', 'in', 'fresh', 'capital', 'after', 'profits', 'crashed', 'in', 'the', 'six', 'months', 'to', 'june', 'chief', 'executive', 'paul', 'batchelor', 'said', 'the', 'result', 'was', 'solid', 'in', 'what', 'he', 'described', 'as', 'the', 'worst', 'conditions', 'for', 'stock', 'markets', 'in', 'years', 'amp', 'half', 'year', 'profit', 'sank', 'per', 'cent', 'to', 'million', 'or', 'share', 'as', 'australia', 'largest', 'investor', 'and', 'fund', 'manager', 'failed', 'to', 'hit', 'projected', 'per', 'cent', 'earnings', 'growth', 'targets', 'and', 'was', 'battered', 'by', 'falling', 'returns', 'on', 'share', 'markets']]\n"
     ]
    }
   ],
   "source": [
    "print(test_corpus[:2])"
   ]
  },
  {
   "cell_type": "markdown",
   "metadata": {},
   "source": [
    "Notice that the testing corpus is just a list of lists and does not contain\n",
    "any tags.\n",
    "\n",
    "\n"
   ]
  },
  {
   "cell_type": "markdown",
   "metadata": {},
   "source": [
    "## Training the Model\n",
    "\n",
    "Now, we'll instantiate a Doc2Vec model with a vector size with 50 dimensions and\n",
    "iterating over the training corpus 40 times. We set the minimum word count to\n",
    "2 in order to discard words with very few occurrences. (Without a variety of\n",
    "representative examples, retaining such infrequent words can often make a\n",
    "model worse!) Typical iteration counts in the published [Paragraph Vector paper](https://cs.stanford.edu/~quocle/paragraph_vector.pdf)_\n",
    "results, using 10s-of-thousands to millions of docs, are 10-20. More\n",
    "iterations take more time and eventually reach a point of diminishing\n",
    "returns.\n",
    "\n",
    "However, this is a very very small dataset (300 documents) with shortish\n",
    "documents (a few hundred words). Adding training passes can sometimes help\n",
    "with such small datasets.\n",
    "\n",
    "\n"
   ]
  },
  {
   "cell_type": "code",
   "execution_count": 7,
   "metadata": {},
   "outputs": [
    {
     "name": "stderr",
     "output_type": "stream",
     "text": [
      "2023-02-06 11:06:32,869 : INFO : Doc2Vec lifecycle event {'params': 'Doc2Vec(dm/m,d50,n5,w5,mc2,s0.001,t3)', 'datetime': '2023-02-06T11:06:32.869396', 'gensim': '4.1.2', 'python': '3.8.3 (default, Jul  2 2020, 17:30:36) [MSC v.1916 64 bit (AMD64)]', 'platform': 'Windows-10-10.0.19041-SP0', 'event': 'created'}\n"
     ]
    }
   ],
   "source": [
    "model = gensim.models.doc2vec.Doc2Vec(vector_size=50, min_count=2, epochs=40)"
   ]
  },
  {
   "cell_type": "markdown",
   "metadata": {},
   "source": [
    "Build a vocabulary\n",
    "\n"
   ]
  },
  {
   "cell_type": "code",
   "execution_count": 8,
   "metadata": {},
   "outputs": [
    {
     "name": "stderr",
     "output_type": "stream",
     "text": [
      "2023-02-06 11:06:32,883 : INFO : collecting all words and their counts\n",
      "2023-02-06 11:06:32,884 : INFO : PROGRESS: at example #0, processed 0 words (0/s), 0 word types, 0 tags\n",
      "2023-02-06 11:06:32,895 : INFO : collected 6981 word types and 300 unique tags from a corpus of 300 examples and 58152 words\n",
      "2023-02-06 11:06:32,896 : INFO : Creating a fresh vocabulary\n",
      "2023-02-06 11:06:32,912 : INFO : Doc2Vec lifecycle event {'msg': 'effective_min_count=2 retains 3955 unique words (56.653774530869505%% of original 6981, drops 3026)', 'datetime': '2023-02-06T11:06:32.912398', 'gensim': '4.1.2', 'python': '3.8.3 (default, Jul  2 2020, 17:30:36) [MSC v.1916 64 bit (AMD64)]', 'platform': 'Windows-10-10.0.19041-SP0', 'event': 'prepare_vocab'}\n",
      "2023-02-06 11:06:32,913 : INFO : Doc2Vec lifecycle event {'msg': 'effective_min_count=2 leaves 55126 word corpus (94.79639565277205%% of original 58152, drops 3026)', 'datetime': '2023-02-06T11:06:32.913396', 'gensim': '4.1.2', 'python': '3.8.3 (default, Jul  2 2020, 17:30:36) [MSC v.1916 64 bit (AMD64)]', 'platform': 'Windows-10-10.0.19041-SP0', 'event': 'prepare_vocab'}\n",
      "2023-02-06 11:06:32,934 : INFO : deleting the raw counts dictionary of 6981 items\n",
      "2023-02-06 11:06:32,935 : INFO : sample=0.001 downsamples 46 most-common words\n",
      "2023-02-06 11:06:32,936 : INFO : Doc2Vec lifecycle event {'msg': 'downsampling leaves estimated 42390.98914085061 word corpus (76.9%% of prior 55126)', 'datetime': '2023-02-06T11:06:32.936397', 'gensim': '4.1.2', 'python': '3.8.3 (default, Jul  2 2020, 17:30:36) [MSC v.1916 64 bit (AMD64)]', 'platform': 'Windows-10-10.0.19041-SP0', 'event': 'prepare_vocab'}\n",
      "2023-02-06 11:06:32,967 : INFO : estimated required memory for 3955 words and 50 dimensions: 3679500 bytes\n",
      "2023-02-06 11:06:32,967 : INFO : resetting layer weights\n"
     ]
    }
   ],
   "source": [
    "model.build_vocab(train_corpus)"
   ]
  },
  {
   "cell_type": "markdown",
   "metadata": {},
   "source": [
    "Essentially, the vocabulary is a list (accessible via\n",
    "``model.wv.index_to_key``) of all of the unique words extracted from the training corpus.\n",
    "Additional attributes for each word are available using the ``model.wv.get_vecattr()`` method,\n",
    "For example, to see how many times ``penalty`` appeared in the training corpus:\n",
    "\n",
    "\n"
   ]
  },
  {
   "cell_type": "code",
   "execution_count": 9,
   "metadata": {},
   "outputs": [
    {
     "name": "stdout",
     "output_type": "stream",
     "text": [
      "Word 'penalty' appeared 4 times in the training corpus.\n"
     ]
    }
   ],
   "source": [
    "print(f\"Word 'penalty' appeared {model.wv.get_vecattr('penalty', 'count')} times in the training corpus.\")"
   ]
  },
  {
   "cell_type": "markdown",
   "metadata": {},
   "source": [
    "Next, train the model on the corpus.\n",
    "In the usual case, where Gensim installation found a BLAS library for optimized\n",
    "bulk vector operations, this training on this tiny 300 document, ~60k word corpus \n",
    "should take just a few seconds. (More realistic datasets of tens-of-millions\n",
    "of words or more take proportionately longer.) If for some reason a BLAS library \n",
    "isn't available, training uses a fallback approach that takes 60x-120x longer, \n",
    "so even this tiny training will take minutes rather than seconds. (And, in that \n",
    "case, you should also notice a warning in the logging letting you know there's \n",
    "something worth fixing.) So, be sure your installation uses the BLAS-optimized \n",
    "Gensim if you value your time.\n",
    "\n",
    "\n"
   ]
  },
  {
   "cell_type": "code",
   "execution_count": 10,
   "metadata": {},
   "outputs": [
    {
     "name": "stderr",
     "output_type": "stream",
     "text": [
      "2023-02-06 11:06:32,992 : INFO : Doc2Vec lifecycle event {'msg': 'training model with 3 workers on 3955 vocabulary and 50 features, using sg=0 hs=0 sample=0.001 negative=5 window=5 shrink_windows=True', 'datetime': '2023-02-06T11:06:32.992397', 'gensim': '4.1.2', 'python': '3.8.3 (default, Jul  2 2020, 17:30:36) [MSC v.1916 64 bit (AMD64)]', 'platform': 'Windows-10-10.0.19041-SP0', 'event': 'train'}\n",
      "2023-02-06 11:06:33,031 : INFO : worker thread finished; awaiting finish of 2 more threads\n",
      "2023-02-06 11:06:33,031 : INFO : worker thread finished; awaiting finish of 1 more threads\n",
      "2023-02-06 11:06:33,032 : INFO : worker thread finished; awaiting finish of 0 more threads\n",
      "2023-02-06 11:06:33,033 : INFO : EPOCH - 1 : training on 58152 raw words (42695 effective words) took 0.0s, 1129650 effective words/s\n",
      "2023-02-06 11:06:33,070 : INFO : worker thread finished; awaiting finish of 2 more threads\n",
      "2023-02-06 11:06:33,072 : INFO : worker thread finished; awaiting finish of 1 more threads\n",
      "2023-02-06 11:06:33,073 : INFO : worker thread finished; awaiting finish of 0 more threads\n",
      "2023-02-06 11:06:33,073 : INFO : EPOCH - 2 : training on 58152 raw words (42698 effective words) took 0.0s, 1114528 effective words/s\n",
      "2023-02-06 11:06:33,109 : INFO : worker thread finished; awaiting finish of 2 more threads\n",
      "2023-02-06 11:06:33,111 : INFO : worker thread finished; awaiting finish of 1 more threads\n",
      "2023-02-06 11:06:33,113 : INFO : worker thread finished; awaiting finish of 0 more threads\n",
      "2023-02-06 11:06:33,113 : INFO : EPOCH - 3 : training on 58152 raw words (42707 effective words) took 0.0s, 1129612 effective words/s\n",
      "2023-02-06 11:06:33,150 : INFO : worker thread finished; awaiting finish of 2 more threads\n",
      "2023-02-06 11:06:33,151 : INFO : worker thread finished; awaiting finish of 1 more threads\n",
      "2023-02-06 11:06:33,152 : INFO : worker thread finished; awaiting finish of 0 more threads\n",
      "2023-02-06 11:06:33,153 : INFO : EPOCH - 4 : training on 58152 raw words (42619 effective words) took 0.0s, 1165482 effective words/s\n",
      "2023-02-06 11:06:33,189 : INFO : worker thread finished; awaiting finish of 2 more threads\n",
      "2023-02-06 11:06:33,190 : INFO : worker thread finished; awaiting finish of 1 more threads\n",
      "2023-02-06 11:06:33,191 : INFO : worker thread finished; awaiting finish of 0 more threads\n",
      "2023-02-06 11:06:33,191 : INFO : EPOCH - 5 : training on 58152 raw words (42677 effective words) took 0.0s, 1184890 effective words/s\n",
      "2023-02-06 11:06:33,229 : INFO : worker thread finished; awaiting finish of 2 more threads\n",
      "2023-02-06 11:06:33,230 : INFO : worker thread finished; awaiting finish of 1 more threads\n",
      "2023-02-06 11:06:33,231 : INFO : worker thread finished; awaiting finish of 0 more threads\n",
      "2023-02-06 11:06:33,232 : INFO : EPOCH - 6 : training on 58152 raw words (42757 effective words) took 0.0s, 1130390 effective words/s\n",
      "2023-02-06 11:06:33,267 : INFO : worker thread finished; awaiting finish of 2 more threads\n",
      "2023-02-06 11:06:33,268 : INFO : worker thread finished; awaiting finish of 1 more threads\n",
      "2023-02-06 11:06:33,269 : INFO : worker thread finished; awaiting finish of 0 more threads\n",
      "2023-02-06 11:06:33,270 : INFO : EPOCH - 7 : training on 58152 raw words (42618 effective words) took 0.0s, 1174363 effective words/s\n",
      "2023-02-06 11:06:33,307 : INFO : worker thread finished; awaiting finish of 2 more threads\n",
      "2023-02-06 11:06:33,309 : INFO : worker thread finished; awaiting finish of 1 more threads\n",
      "2023-02-06 11:06:33,310 : INFO : worker thread finished; awaiting finish of 0 more threads\n",
      "2023-02-06 11:06:33,310 : INFO : EPOCH - 8 : training on 58152 raw words (42728 effective words) took 0.0s, 1130071 effective words/s\n",
      "2023-02-06 11:06:33,346 : INFO : worker thread finished; awaiting finish of 2 more threads\n",
      "2023-02-06 11:06:33,348 : INFO : worker thread finished; awaiting finish of 1 more threads\n",
      "2023-02-06 11:06:33,348 : INFO : worker thread finished; awaiting finish of 0 more threads\n",
      "2023-02-06 11:06:33,349 : INFO : EPOCH - 9 : training on 58152 raw words (42777 effective words) took 0.0s, 1171267 effective words/s\n",
      "2023-02-06 11:06:33,385 : INFO : worker thread finished; awaiting finish of 2 more threads\n",
      "2023-02-06 11:06:33,386 : INFO : worker thread finished; awaiting finish of 1 more threads\n",
      "2023-02-06 11:06:33,388 : INFO : worker thread finished; awaiting finish of 0 more threads\n",
      "2023-02-06 11:06:33,388 : INFO : EPOCH - 10 : training on 58152 raw words (42603 effective words) took 0.0s, 1141407 effective words/s\n",
      "2023-02-06 11:06:33,423 : INFO : worker thread finished; awaiting finish of 2 more threads\n",
      "2023-02-06 11:06:33,426 : INFO : worker thread finished; awaiting finish of 1 more threads\n",
      "2023-02-06 11:06:33,427 : INFO : worker thread finished; awaiting finish of 0 more threads\n",
      "2023-02-06 11:06:33,427 : INFO : EPOCH - 11 : training on 58152 raw words (42762 effective words) took 0.0s, 1154638 effective words/s\n",
      "2023-02-06 11:06:33,462 : INFO : worker thread finished; awaiting finish of 2 more threads\n",
      "2023-02-06 11:06:33,465 : INFO : worker thread finished; awaiting finish of 1 more threads\n",
      "2023-02-06 11:06:33,465 : INFO : worker thread finished; awaiting finish of 0 more threads\n",
      "2023-02-06 11:06:33,466 : INFO : EPOCH - 12 : training on 58152 raw words (42750 effective words) took 0.0s, 1188140 effective words/s\n",
      "2023-02-06 11:06:33,502 : INFO : worker thread finished; awaiting finish of 2 more threads\n",
      "2023-02-06 11:06:33,503 : INFO : worker thread finished; awaiting finish of 1 more threads\n",
      "2023-02-06 11:06:33,505 : INFO : worker thread finished; awaiting finish of 0 more threads\n",
      "2023-02-06 11:06:33,505 : INFO : EPOCH - 13 : training on 58152 raw words (42727 effective words) took 0.0s, 1144015 effective words/s\n",
      "2023-02-06 11:06:33,543 : INFO : worker thread finished; awaiting finish of 2 more threads\n",
      "2023-02-06 11:06:33,544 : INFO : worker thread finished; awaiting finish of 1 more threads\n",
      "2023-02-06 11:06:33,544 : INFO : worker thread finished; awaiting finish of 0 more threads\n",
      "2023-02-06 11:06:33,545 : INFO : EPOCH - 14 : training on 58152 raw words (42639 effective words) took 0.0s, 1151223 effective words/s\n",
      "2023-02-06 11:06:33,583 : INFO : worker thread finished; awaiting finish of 2 more threads\n",
      "2023-02-06 11:06:33,584 : INFO : worker thread finished; awaiting finish of 1 more threads\n",
      "2023-02-06 11:06:33,584 : INFO : worker thread finished; awaiting finish of 0 more threads\n",
      "2023-02-06 11:06:33,585 : INFO : EPOCH - 15 : training on 58152 raw words (42691 effective words) took 0.0s, 1117244 effective words/s\n",
      "2023-02-06 11:06:33,620 : INFO : worker thread finished; awaiting finish of 2 more threads\n",
      "2023-02-06 11:06:33,623 : INFO : worker thread finished; awaiting finish of 1 more threads\n",
      "2023-02-06 11:06:33,624 : INFO : worker thread finished; awaiting finish of 0 more threads\n",
      "2023-02-06 11:06:33,625 : INFO : EPOCH - 16 : training on 58152 raw words (42723 effective words) took 0.0s, 1159631 effective words/s\n",
      "2023-02-06 11:06:33,661 : INFO : worker thread finished; awaiting finish of 2 more threads\n",
      "2023-02-06 11:06:33,662 : INFO : worker thread finished; awaiting finish of 1 more threads\n",
      "2023-02-06 11:06:33,663 : INFO : worker thread finished; awaiting finish of 0 more threads\n",
      "2023-02-06 11:06:33,663 : INFO : EPOCH - 17 : training on 58152 raw words (42748 effective words) took 0.0s, 1179646 effective words/s\n",
      "2023-02-06 11:06:33,699 : INFO : worker thread finished; awaiting finish of 2 more threads\n",
      "2023-02-06 11:06:33,701 : INFO : worker thread finished; awaiting finish of 1 more threads\n",
      "2023-02-06 11:06:33,702 : INFO : worker thread finished; awaiting finish of 0 more threads\n",
      "2023-02-06 11:06:33,702 : INFO : EPOCH - 18 : training on 58152 raw words (42689 effective words) took 0.0s, 1167681 effective words/s\n",
      "2023-02-06 11:06:33,738 : INFO : worker thread finished; awaiting finish of 2 more threads\n",
      "2023-02-06 11:06:33,740 : INFO : worker thread finished; awaiting finish of 1 more threads\n",
      "2023-02-06 11:06:33,741 : INFO : worker thread finished; awaiting finish of 0 more threads\n",
      "2023-02-06 11:06:33,742 : INFO : EPOCH - 19 : training on 58152 raw words (42628 effective words) took 0.0s, 1146530 effective words/s\n",
      "2023-02-06 11:06:33,778 : INFO : worker thread finished; awaiting finish of 2 more threads\n"
     ]
    },
    {
     "name": "stderr",
     "output_type": "stream",
     "text": [
      "2023-02-06 11:06:33,779 : INFO : worker thread finished; awaiting finish of 1 more threads\n",
      "2023-02-06 11:06:33,780 : INFO : worker thread finished; awaiting finish of 0 more threads\n",
      "2023-02-06 11:06:33,780 : INFO : EPOCH - 20 : training on 58152 raw words (42738 effective words) took 0.0s, 1187850 effective words/s\n",
      "2023-02-06 11:06:33,818 : INFO : worker thread finished; awaiting finish of 2 more threads\n",
      "2023-02-06 11:06:33,819 : INFO : worker thread finished; awaiting finish of 1 more threads\n",
      "2023-02-06 11:06:33,821 : INFO : worker thread finished; awaiting finish of 0 more threads\n",
      "2023-02-06 11:06:33,821 : INFO : EPOCH - 21 : training on 58152 raw words (42687 effective words) took 0.0s, 1100410 effective words/s\n",
      "2023-02-06 11:06:33,859 : INFO : worker thread finished; awaiting finish of 2 more threads\n",
      "2023-02-06 11:06:33,860 : INFO : worker thread finished; awaiting finish of 1 more threads\n",
      "2023-02-06 11:06:33,860 : INFO : worker thread finished; awaiting finish of 0 more threads\n",
      "2023-02-06 11:06:33,861 : INFO : EPOCH - 22 : training on 58152 raw words (42671 effective words) took 0.0s, 1136723 effective words/s\n",
      "2023-02-06 11:06:33,899 : INFO : worker thread finished; awaiting finish of 2 more threads\n",
      "2023-02-06 11:06:33,901 : INFO : worker thread finished; awaiting finish of 1 more threads\n",
      "2023-02-06 11:06:33,901 : INFO : worker thread finished; awaiting finish of 0 more threads\n",
      "2023-02-06 11:06:33,902 : INFO : EPOCH - 23 : training on 58152 raw words (42732 effective words) took 0.0s, 1104063 effective words/s\n",
      "2023-02-06 11:06:33,938 : INFO : worker thread finished; awaiting finish of 2 more threads\n",
      "2023-02-06 11:06:33,941 : INFO : worker thread finished; awaiting finish of 1 more threads\n",
      "2023-02-06 11:06:33,942 : INFO : worker thread finished; awaiting finish of 0 more threads\n",
      "2023-02-06 11:06:33,943 : INFO : EPOCH - 24 : training on 58152 raw words (42742 effective words) took 0.0s, 1099583 effective words/s\n",
      "2023-02-06 11:06:33,981 : INFO : worker thread finished; awaiting finish of 2 more threads\n",
      "2023-02-06 11:06:33,982 : INFO : worker thread finished; awaiting finish of 1 more threads\n",
      "2023-02-06 11:06:33,982 : INFO : worker thread finished; awaiting finish of 0 more threads\n",
      "2023-02-06 11:06:33,983 : INFO : EPOCH - 25 : training on 58152 raw words (42665 effective words) took 0.0s, 1140943 effective words/s\n",
      "2023-02-06 11:06:34,020 : INFO : worker thread finished; awaiting finish of 2 more threads\n",
      "2023-02-06 11:06:34,022 : INFO : worker thread finished; awaiting finish of 1 more threads\n",
      "2023-02-06 11:06:34,022 : INFO : worker thread finished; awaiting finish of 0 more threads\n",
      "2023-02-06 11:06:34,023 : INFO : EPOCH - 26 : training on 58152 raw words (42631 effective words) took 0.0s, 1135398 effective words/s\n",
      "2023-02-06 11:06:34,061 : INFO : worker thread finished; awaiting finish of 2 more threads\n",
      "2023-02-06 11:06:34,063 : INFO : worker thread finished; awaiting finish of 1 more threads\n",
      "2023-02-06 11:06:34,063 : INFO : worker thread finished; awaiting finish of 0 more threads\n",
      "2023-02-06 11:06:34,064 : INFO : EPOCH - 27 : training on 58152 raw words (42718 effective words) took 0.0s, 1116259 effective words/s\n",
      "2023-02-06 11:06:34,101 : INFO : worker thread finished; awaiting finish of 2 more threads\n",
      "2023-02-06 11:06:34,103 : INFO : worker thread finished; awaiting finish of 1 more threads\n",
      "2023-02-06 11:06:34,103 : INFO : worker thread finished; awaiting finish of 0 more threads\n",
      "2023-02-06 11:06:34,103 : INFO : EPOCH - 28 : training on 58152 raw words (42602 effective words) took 0.0s, 1152973 effective words/s\n",
      "2023-02-06 11:06:34,140 : INFO : worker thread finished; awaiting finish of 2 more threads\n",
      "2023-02-06 11:06:34,143 : INFO : worker thread finished; awaiting finish of 1 more threads\n",
      "2023-02-06 11:06:34,143 : INFO : worker thread finished; awaiting finish of 0 more threads\n",
      "2023-02-06 11:06:34,144 : INFO : EPOCH - 29 : training on 58152 raw words (42700 effective words) took 0.0s, 1113586 effective words/s\n",
      "2023-02-06 11:06:34,180 : INFO : worker thread finished; awaiting finish of 2 more threads\n",
      "2023-02-06 11:06:34,183 : INFO : worker thread finished; awaiting finish of 1 more threads\n",
      "2023-02-06 11:06:34,184 : INFO : worker thread finished; awaiting finish of 0 more threads\n",
      "2023-02-06 11:06:34,184 : INFO : EPOCH - 30 : training on 58152 raw words (42764 effective words) took 0.0s, 1118513 effective words/s\n",
      "2023-02-06 11:06:34,221 : INFO : worker thread finished; awaiting finish of 2 more threads\n",
      "2023-02-06 11:06:34,223 : INFO : worker thread finished; awaiting finish of 1 more threads\n",
      "2023-02-06 11:06:34,224 : INFO : worker thread finished; awaiting finish of 0 more threads\n",
      "2023-02-06 11:06:34,224 : INFO : EPOCH - 31 : training on 58152 raw words (42694 effective words) took 0.0s, 1155288 effective words/s\n",
      "2023-02-06 11:06:34,259 : INFO : worker thread finished; awaiting finish of 2 more threads\n",
      "2023-02-06 11:06:34,260 : INFO : worker thread finished; awaiting finish of 1 more threads\n",
      "2023-02-06 11:06:34,261 : INFO : worker thread finished; awaiting finish of 0 more threads\n",
      "2023-02-06 11:06:34,262 : INFO : EPOCH - 32 : training on 58152 raw words (42711 effective words) took 0.0s, 1194443 effective words/s\n",
      "2023-02-06 11:06:34,298 : INFO : worker thread finished; awaiting finish of 2 more threads\n",
      "2023-02-06 11:06:34,299 : INFO : worker thread finished; awaiting finish of 1 more threads\n",
      "2023-02-06 11:06:34,302 : INFO : worker thread finished; awaiting finish of 0 more threads\n",
      "2023-02-06 11:06:34,302 : INFO : EPOCH - 33 : training on 58152 raw words (42752 effective words) took 0.0s, 1122583 effective words/s\n",
      "2023-02-06 11:06:34,339 : INFO : worker thread finished; awaiting finish of 2 more threads\n",
      "2023-02-06 11:06:34,341 : INFO : worker thread finished; awaiting finish of 1 more threads\n",
      "2023-02-06 11:06:34,341 : INFO : worker thread finished; awaiting finish of 0 more threads\n",
      "2023-02-06 11:06:34,342 : INFO : EPOCH - 34 : training on 58152 raw words (42705 effective words) took 0.0s, 1148277 effective words/s\n",
      "2023-02-06 11:06:34,378 : INFO : worker thread finished; awaiting finish of 2 more threads\n",
      "2023-02-06 11:06:34,379 : INFO : worker thread finished; awaiting finish of 1 more threads\n",
      "2023-02-06 11:06:34,380 : INFO : worker thread finished; awaiting finish of 0 more threads\n",
      "2023-02-06 11:06:34,381 : INFO : EPOCH - 35 : training on 58152 raw words (42686 effective words) took 0.0s, 1166546 effective words/s\n",
      "2023-02-06 11:06:34,417 : INFO : worker thread finished; awaiting finish of 2 more threads\n",
      "2023-02-06 11:06:34,418 : INFO : worker thread finished; awaiting finish of 1 more threads\n",
      "2023-02-06 11:06:34,419 : INFO : worker thread finished; awaiting finish of 0 more threads\n",
      "2023-02-06 11:06:34,419 : INFO : EPOCH - 36 : training on 58152 raw words (42570 effective words) took 0.0s, 1180922 effective words/s\n",
      "2023-02-06 11:06:34,453 : INFO : worker thread finished; awaiting finish of 2 more threads\n",
      "2023-02-06 11:06:34,455 : INFO : worker thread finished; awaiting finish of 1 more threads\n",
      "2023-02-06 11:06:34,456 : INFO : worker thread finished; awaiting finish of 0 more threads\n",
      "2023-02-06 11:06:34,456 : INFO : EPOCH - 37 : training on 58152 raw words (42698 effective words) took 0.0s, 1235861 effective words/s\n",
      "2023-02-06 11:06:34,493 : INFO : worker thread finished; awaiting finish of 2 more threads\n",
      "2023-02-06 11:06:34,494 : INFO : worker thread finished; awaiting finish of 1 more threads\n",
      "2023-02-06 11:06:34,494 : INFO : worker thread finished; awaiting finish of 0 more threads\n",
      "2023-02-06 11:06:34,495 : INFO : EPOCH - 38 : training on 58152 raw words (42718 effective words) took 0.0s, 1176461 effective words/s\n",
      "2023-02-06 11:06:34,532 : INFO : worker thread finished; awaiting finish of 2 more threads\n",
      "2023-02-06 11:06:34,533 : INFO : worker thread finished; awaiting finish of 1 more threads\n",
      "2023-02-06 11:06:34,534 : INFO : worker thread finished; awaiting finish of 0 more threads\n",
      "2023-02-06 11:06:34,534 : INFO : EPOCH - 39 : training on 58152 raw words (42700 effective words) took 0.0s, 1158692 effective words/s\n",
      "2023-02-06 11:06:34,570 : INFO : worker thread finished; awaiting finish of 2 more threads\n",
      "2023-02-06 11:06:34,571 : INFO : worker thread finished; awaiting finish of 1 more threads\n"
     ]
    },
    {
     "name": "stderr",
     "output_type": "stream",
     "text": [
      "2023-02-06 11:06:34,572 : INFO : worker thread finished; awaiting finish of 0 more threads\n",
      "2023-02-06 11:06:34,572 : INFO : EPOCH - 40 : training on 58152 raw words (42669 effective words) took 0.0s, 1176553 effective words/s\n",
      "2023-02-06 11:06:34,572 : INFO : Doc2Vec lifecycle event {'msg': 'training on 2326080 raw words (1707789 effective words) took 1.6s, 1081046 effective words/s', 'datetime': '2023-02-06T11:06:34.572396', 'gensim': '4.1.2', 'python': '3.8.3 (default, Jul  2 2020, 17:30:36) [MSC v.1916 64 bit (AMD64)]', 'platform': 'Windows-10-10.0.19041-SP0', 'event': 'train'}\n"
     ]
    }
   ],
   "source": [
    "model.train(train_corpus, total_examples=model.corpus_count, epochs=model.epochs)"
   ]
  },
  {
   "cell_type": "markdown",
   "metadata": {},
   "source": [
    "Now, we can use the trained model to infer a vector for any piece of text\n",
    "by passing a list of words to the ``model.infer_vector`` function. This\n",
    "vector can then be compared with other vectors via cosine similarity.\n",
    "\n",
    "\n"
   ]
  },
  {
   "cell_type": "code",
   "execution_count": 11,
   "metadata": {},
   "outputs": [
    {
     "name": "stdout",
     "output_type": "stream",
     "text": [
      "[-0.17196168 -0.19362004 -0.08543383  0.19800977  0.02915059 -0.10266285\n",
      "  0.00829222  0.01629373 -0.3488307  -0.16613837  0.16594942 -0.10971113\n",
      " -0.06183073 -0.01902759 -0.07948215 -0.21222237  0.03685169  0.19136216\n",
      "  0.20017786  0.01546343  0.00948203  0.0289759   0.15613797 -0.07089761\n",
      " -0.03575712 -0.09891956 -0.14574985 -0.04063324  0.01179189 -0.00106705\n",
      "  0.36089912 -0.05651957  0.03880913  0.11767706  0.2264272   0.13729571\n",
      " -0.03880955 -0.14110564 -0.14571534  0.03538995 -0.02684753 -0.02915301\n",
      " -0.05371949  0.01210793  0.12242931  0.05043764 -0.08483888 -0.11149119\n",
      "  0.10134234 -0.09955935]\n"
     ]
    }
   ],
   "source": [
    "vector = model.infer_vector(['only', 'you', 'can', 'prevent', 'forest', 'fires'])\n",
    "print(vector)"
   ]
  },
  {
   "cell_type": "markdown",
   "metadata": {},
   "source": [
    "Note that ``infer_vector()`` does *not* take a string, but rather a list of\n",
    "string tokens, which should have already been tokenized the same way as the\n",
    "``words`` property of original training document objects.\n",
    "\n",
    "Also note that because the underlying training/inference algorithms are an\n",
    "iterative approximation problem that makes use of internal randomization,\n",
    "repeated inferences of the same text will return slightly different vectors.\n",
    "\n",
    "\n"
   ]
  },
  {
   "cell_type": "markdown",
   "metadata": {},
   "source": [
    "## Assessing the Model\n",
    "\n",
    "To assess our new model, we'll first infer new vectors for each document of\n",
    "the training corpus, compare the inferred vectors with the training corpus,\n",
    "and then returning the rank of the document based on self-similarity.\n",
    "Basically, we're pretending as if the training corpus is some new unseen data\n",
    "and then seeing how they compare with the trained model. The expectation is\n",
    "that we've likely overfit our model (i.e., all of the ranks will be less than\n",
    "2) and so we should be able to find similar documents very easily.\n",
    "Additionally, we'll keep track of the second ranks for a comparison of less\n",
    "similar documents.\n",
    "\n",
    "\n"
   ]
  },
  {
   "cell_type": "code",
   "execution_count": 12,
   "metadata": {},
   "outputs": [],
   "source": [
    "ranks = []\n",
    "second_ranks = []\n",
    "for doc_id in range(len(train_corpus)):\n",
    "    inferred_vector = model.infer_vector(train_corpus[doc_id].words)\n",
    "    sims = model.dv.most_similar([inferred_vector], topn=len(model.dv))\n",
    "    rank = [docid for docid, sim in sims].index(doc_id)\n",
    "    ranks.append(rank)\n",
    "\n",
    "    second_ranks.append(sims[1])"
   ]
  },
  {
   "cell_type": "markdown",
   "metadata": {},
   "source": [
    "Let's count how each document ranks with respect to the training corpus\n",
    "\n",
    "NB. Results vary between runs due to random seeding and very small corpus\n",
    "\n"
   ]
  },
  {
   "cell_type": "code",
   "execution_count": 13,
   "metadata": {},
   "outputs": [
    {
     "name": "stdout",
     "output_type": "stream",
     "text": [
      "Counter({0: 292, 1: 8})\n"
     ]
    }
   ],
   "source": [
    "import collections\n",
    "\n",
    "counter = collections.Counter(ranks)\n",
    "print(counter)"
   ]
  },
  {
   "cell_type": "markdown",
   "metadata": {},
   "source": [
    "Basically, greater than 95% of the inferred documents are found to be most\n",
    "similar to itself and about 5% of the time it is mistakenly most similar to\n",
    "another document. Checking the inferred-vector against a\n",
    "training-vector is a sort of 'sanity check' as to whether the model is\n",
    "behaving in a usefully consistent manner, though not a real 'accuracy' value.\n",
    "\n",
    "This is great and not entirely surprising. We can take a look at an example:\n",
    "\n",
    "\n"
   ]
  },
  {
   "cell_type": "code",
   "execution_count": 14,
   "metadata": {},
   "outputs": [
    {
     "name": "stdout",
     "output_type": "stream",
     "text": [
      "Document (299): «australia will take on france in the doubles rubber of the davis cup tennis final today with the tie levelled at wayne arthurs and todd woodbridge are scheduled to lead australia in the doubles against cedric pioline and fabrice santoro however changes can be made to the line up up to an hour before the match and australian team captain john fitzgerald suggested he might do just that we ll make team appraisal of the whole situation go over the pros and cons and make decision french team captain guy forget says he will not make changes but does not know what to expect from australia todd is the best doubles player in the world right now so expect him to play he said would probably use wayne arthurs but don know what to expect really pat rafter salvaged australia davis cup campaign yesterday with win in the second singles match rafter overcame an arm injury to defeat french number one sebastien grosjean in three sets the australian says he is happy with his form it not very pretty tennis there isn too many consistent bounces you are playing like said bit of classic old grass court rafter said rafter levelled the score after lleyton hewitt shock five set loss to nicholas escude in the first singles rubber but rafter says he felt no added pressure after hewitt defeat knew had good team to back me up even if we were down he said knew could win on the last day know the boys can win doubles so even if we were down still feel we are good enough team to win and vice versa they are good enough team to beat us as well»\n",
      "\n",
      "SIMILAR/DISSIMILAR DOCS PER MODEL Doc2Vec(dm/m,d50,n5,w5,mc2,s0.001,t3):\n",
      "\n",
      "MOST (299, 0.9518427848815918): «australia will take on france in the doubles rubber of the davis cup tennis final today with the tie levelled at wayne arthurs and todd woodbridge are scheduled to lead australia in the doubles against cedric pioline and fabrice santoro however changes can be made to the line up up to an hour before the match and australian team captain john fitzgerald suggested he might do just that we ll make team appraisal of the whole situation go over the pros and cons and make decision french team captain guy forget says he will not make changes but does not know what to expect from australia todd is the best doubles player in the world right now so expect him to play he said would probably use wayne arthurs but don know what to expect really pat rafter salvaged australia davis cup campaign yesterday with win in the second singles match rafter overcame an arm injury to defeat french number one sebastien grosjean in three sets the australian says he is happy with his form it not very pretty tennis there isn too many consistent bounces you are playing like said bit of classic old grass court rafter said rafter levelled the score after lleyton hewitt shock five set loss to nicholas escude in the first singles rubber but rafter says he felt no added pressure after hewitt defeat knew had good team to back me up even if we were down he said knew could win on the last day know the boys can win doubles so even if we were down still feel we are good enough team to win and vice versa they are good enough team to beat us as well»\n",
      "\n",
      "SECOND-MOST (104, 0.7978743314743042): «australian cricket captain steve waugh has supported fast bowler brett lee after criticism of his intimidatory bowling to the south african tailenders in the first test in adelaide earlier this month lee was fined for giving new zealand tailender shane bond an unsportsmanlike send off during the third test in perth waugh says tailenders should not be protected from short pitched bowling these days you re earning big money you ve got responsibility to learn how to bat he said mean there no times like years ago when it was not professional and sort of bowlers code these days you re professional our batsmen work very hard at their batting and expect other tailenders to do likewise meanwhile waugh says his side will need to guard against complacency after convincingly winning the first test by runs waugh says despite the dominance of his side in the first test south africa can never be taken lightly it only one test match out of three or six whichever way you want to look at it so there lot of work to go he said but it nice to win the first battle definitely it gives us lot of confidence going into melbourne you know the big crowd there we love playing in front of the boxing day crowd so that will be to our advantage as well south africa begins four day match against new south wales in sydney on thursday in the lead up to the boxing day test veteran fast bowler allan donald will play in the warm up match and is likely to take his place in the team for the second test south african captain shaun pollock expects much better performance from his side in the melbourne test we still believe that we didn play to our full potential so if we can improve on our aspects the output we put out on the field will be lot better and we still believe we have side that is good enough to beat australia on our day he said»\n",
      "\n",
      "MEDIAN (126, 0.24629151821136475): «federal science minister peter mcgauran says he is confident security measures at the lucas heights nuclear reactor in sydney are adequate despite major protest this morning dozens of greenpeace demonstrators walked through the front entrance of the facility this morning unfurling anti nuclear banners on radio tower and the reactor building more than people were arrested mr mcgauran says guards and police quickly had the situation under control we won be rushed into any change of security procedures because we know we have very strong security he said it was really decision by the guards at the time to make risk assessment and they decided these demonstrators particularly given their large numbers could not be stopped but quickly new south wales police could be called he said»\n",
      "\n",
      "LEAST (216, -0.0990583673119545): «senior taliban official confirmed the islamic militia would begin handing over its last bastion of kandahar to pashtun tribal leaders on friday this agreement was that taliban should surrender kandahar peacefully to the elders of these areas and we should guarantee the lives and the safety of taliban authorities and all the taliban from tomorrow should start this program former taliban ambassador to pakistan abdul salam zaeef told cnn in telephone interview he insisted that the taliban would not surrender to hamid karzai the new afghan interim leader and pashtun elder who has been cooperating with the united states to calm unrest among the southern tribes the taliban will surrender to elders not to karzai karzai and other persons which they want to enter kandahar by the support of america they don allow to enter kandahar city he said the taliban will surrender the weapons the ammunition to elders»\n",
      "\n"
     ]
    }
   ],
   "source": [
    "print('Document ({}): «{}»\\n'.format(doc_id, ' '.join(train_corpus[doc_id].words)))\n",
    "print(u'SIMILAR/DISSIMILAR DOCS PER MODEL %s:\\n' % model)\n",
    "for label, index in [('MOST', 0), ('SECOND-MOST', 1), ('MEDIAN', len(sims)//2), ('LEAST', len(sims) - 1)]:\n",
    "    print(u'%s %s: «%s»\\n' % (label, sims[index], ' '.join(train_corpus[sims[index][0]].words)))"
   ]
  },
  {
   "cell_type": "markdown",
   "metadata": {},
   "source": [
    "Notice above that the most similar document (usually the same text) is has a\n",
    "similarity score approaching 1.0. However, the similarity score for the\n",
    "second-ranked documents should be significantly lower (assuming the documents\n",
    "are in fact different) and the reasoning becomes obvious when we examine the\n",
    "text itself.\n",
    "\n",
    "We can run the next cell repeatedly to see a sampling other target-document\n",
    "comparisons.\n",
    "\n",
    "\n"
   ]
  },
  {
   "cell_type": "code",
   "execution_count": 15,
   "metadata": {},
   "outputs": [
    {
     "name": "stdout",
     "output_type": "stream",
     "text": [
      "Train Document (36): «new york mayor rudolph giuliani today bade farewell to the city he has led for the past eight years calling for soaring beautiful memorial to be built on the site of the world trade centre mr giuliani speaking just four days ahead of his final day in office further defended his tough stance on crime and homelessness time magazine person of the year also praised new york diversity as the source of strength pulling the city through the difficult aftermath of september deadly attacks this place has to be sanctified mr giuliani said this place has to become place which when anybody comes here they are going to feel the great power and emotion of what it means to be an american during his reign many in the city black and hispanic communities decried mr giuliani knee jerk support for new york police department during police brutality scandals however the mayor insists his policing strategy has been highly effective the reality is that the model that was adopted for dealing with crime in new york city is the very very best way to ensure you can make your city safe mr giuliani said felt that my job as the mayor was to turn around the city because believed rightly or wrongly that we had one last chance to do that mr giuliani republican has served two terms as new york city mayor since term limits prevent him from seeking third term in office and he will be succeeded by billionaire media mogul michael bloomberg»\n",
      "\n",
      "Similar Document (224, 0.5304778814315796): «america cup winner sir peter blake one of the most successful sailors in yachting history was killed in shooting in amazonia brazil today his sponsors said mr blake was aboard boat with his crew when they were attacked by pirates and he was shot dead they said afp reported the sponsors pr company jour as saying he was killed while leading sailing expedition up the amazon river in the western amazon basin the new zealander won the america cup twice in and with team new zealand mr blake was two time winner of the sydney hobart race and also won the tour of australia and the whitbread round the world race in he captured the jules verne trophy in with record breaking non stop voyage he received an obe for services to yachting in meticulous planner and gifted leader mr blake fierce determination to win always inspired immense loyalty from his crews and unlimited confidence from his backers the new zealander was the only man to compete in the first five whitbreads and his victory in steinlager came with an unprecedented clean sweep as his team walked off with line handicap and overall honours on each of the race six legs steinlager beat field of boats from countries mr blake numerous sporting accolades included two new zealand sportsman of the year awards and four new zealand yachtsman of the year awards he was also chosen to succeed the late jacques cousteau as captain of the marine research vessel calypso»\n",
      "\n"
     ]
    }
   ],
   "source": [
    "# Pick a random document from the corpus and infer a vector from the model\n",
    "import random\n",
    "doc_id = random.randint(0, len(train_corpus) - 1)\n",
    "\n",
    "# Compare and print the second-most-similar document\n",
    "print('Train Document ({}): «{}»\\n'.format(doc_id, ' '.join(train_corpus[doc_id].words)))\n",
    "sim_id = second_ranks[doc_id]\n",
    "print('Similar Document {}: «{}»\\n'.format(sim_id, ' '.join(train_corpus[sim_id[0]].words)))"
   ]
  },
  {
   "cell_type": "markdown",
   "metadata": {},
   "source": [
    "## Testing the Model\n",
    "\n",
    "Using the same approach above, we'll infer the vector for a randomly chosen\n",
    "test document, and compare the document to our model by eye.\n",
    "\n",
    "\n"
   ]
  },
  {
   "cell_type": "code",
   "execution_count": 16,
   "metadata": {},
   "outputs": [
    {
     "name": "stdout",
     "output_type": "stream",
     "text": [
      "Test Document (26): «how did allegedly unregistered missile warheads come to be stored on canadian businessman anti terrorism training facility in new mexico and canadian officials are still trying to figure that out but one security expert says the mystery is chilling one david hudak was arrested in the united states more than week ago when according to court documents agents searching his property found the warheads stored in crates that were marked charge demolition»\n",
      "\n",
      "SIMILAR/DISSIMILAR DOCS PER MODEL Doc2Vec(dm/m,d50,n5,w5,mc2,s0.001,t3):\n",
      "\n",
      "MOST (35, 0.6184601187705994): «spokesman for afghanistan defence ministry claims osama bin laden has fled to pakistan defence ministry spokesman mohamad habeel says the saudi born dissident is in hiding under the protection of supporters of radical islamic leader who helped to create the fundamentalist taliban osama himself is under the protection of maulana fazalur rehman in pakistan but we don know for sure in which part of it mohamad habeel said he lives in areas which are under the influence and control of fazalur rehman supporters cannot say from which sources we have received this information bin laden and his men are no longer here in afghanistan mr rehman who is under house arrest is head of the jamiat ulema islam party long time supporter of bin laden the leader of the al qaeda network which is blamed for the september attacks on new york and washington mohamad habeel said bin laden support in afghanistan had collapsed completely his supporters have no presence any more he said there may be individuals here who have hidden but altogether we can say that his resistance is over his last remaining forces have fled to areas along the border with afghanistan and pakistan»\n",
      "\n",
      "MEDIAN (117, 0.16963322460651398): «unions representing qantas maintenance workers have warned of escalating industrial action if the company rejects an offer to have long running dispute arbitrated the parties were locked in private talks yesterday in the industrial relations commission after more than maintenance workers earlier voted to reject qantas proposed wage freeze the national secretary of the australian manufacturing and workers union amwu doug cameron says the unions have done everything possible to resolve the dispute if qantas is not prepared to accept private arbitration there is absolutely no alternative for these workers to take further industrial action escalate the industrial action if necessary to ensure that they get fair go from this company who seemed determined to crush them underfoot he said»\n",
      "\n",
      "LEAST (191, -0.1631481796503067): «ian thorpe has emulated kieren perkins feat by being named australian swimmer of the year for the third consecutive year the champion year old dominated the july world championships in japan winning several gold medals thorpe coach doug frost has been named coach of the year meanwhile the australian cricket team has arrived in adelaide to prepare for the first test against south africa starting on friday leg spinner stuart macgill who is in the squad in place of pace bowler andy bichel says he is not perturbed by reports of clash of personality with fellow spinner shane warne macgill says they have always got on well in the five tests where they have both played cricket teams all over the world are made up of very different people and whilst saying that yes am different to shane also different to glenn mcgrath and jason gillespie and it the same thing think you ll find in most local cricket clubs he said south africa will go into friday first test against australia in adelaide with most of its batsmen in good form the south africans scored for in their second innings in the match against western australia in perth with centuries from jacques kallis and neil mckenzie and half centuries from gary kirsten and lance klusener meanwhile south african vice captain mark boucher says veteran fast bowler allan donald is strong contender for the match despite limited preparation after long injury layoff don think it lack of bowling that allan had he been working really hard he had lot of time off to rest so think he should be fine he said»\n",
      "\n"
     ]
    }
   ],
   "source": [
    "# Pick a random document from the test corpus and infer a vector from the model\n",
    "doc_id = random.randint(0, len(test_corpus) - 1)\n",
    "inferred_vector = model.infer_vector(test_corpus[doc_id])\n",
    "sims = model.dv.most_similar([inferred_vector], topn=len(model.dv))\n",
    "\n",
    "# Compare and print the most/median/least similar documents from the train corpus\n",
    "print('Test Document ({}): «{}»\\n'.format(doc_id, ' '.join(test_corpus[doc_id])))\n",
    "print(u'SIMILAR/DISSIMILAR DOCS PER MODEL %s:\\n' % model)\n",
    "for label, index in [('MOST', 0), ('MEDIAN', len(sims)//2), ('LEAST', len(sims) - 1)]:\n",
    "    print(u'%s %s: «%s»\\n' % (label, sims[index], ' '.join(train_corpus[sims[index][0]].words)))"
   ]
  },
  {
   "cell_type": "markdown",
   "metadata": {},
   "source": [
    "## Conclusion\n",
    "\n",
    "Let's review what we've seen in this tutorial:\n",
    "\n",
    "0. Review the relevant models: bag-of-words, Word2Vec, Doc2Vec\n",
    "1. Load and preprocess the training and test corpora (see `core_concepts_corpus`)\n",
    "2. Train a Doc2Vec `core_concepts_model` model using the training corpus\n",
    "3. Demonstrate how the trained model can be used to infer a `core_concepts_vector`\n",
    "4. Assess the model\n",
    "5. Test the model on the test corpus\n",
    "\n",
    "That's it! Doc2Vec is a great way to explore relationships between documents.\n",
    "\n",
    "## Additional Resources\n",
    "\n",
    "If you'd like to know more about the subject matter of this tutorial, check out the links below.\n",
    "\n",
    "* [Word2Vec Paper](https://papers.nips.cc/paper/5021-distributed-representations-of-words-and-phrases-and-their-compositionality.pdf)\n",
    "* [Doc2Vec Paper](https://cs.stanford.edu/~quocle/paragraph_vector.pdf)\n",
    "* [Dr. Michael D. Lee's Website](http://faculty.sites.uci.edu/mdlee)\n",
    "* [Lee Corpus](http://faculty.sites.uci.edu/mdlee/similarity-data/)_\n",
    "* [IMDB Doc2Vec Tutorial](doc2vec-IMDB.ipynb)\n",
    "\n",
    "\n"
   ]
  }
 ],
 "metadata": {
  "kernelspec": {
   "display_name": "Python 3 (ipykernel)",
   "language": "python",
   "name": "python3"
  },
  "language_info": {
   "codemirror_mode": {
    "name": "ipython",
    "version": 3
   },
   "file_extension": ".py",
   "mimetype": "text/x-python",
   "name": "python",
   "nbconvert_exporter": "python",
   "pygments_lexer": "ipython3",
   "version": "3.8.3"
  }
 },
 "nbformat": 4,
 "nbformat_minor": 1
}
