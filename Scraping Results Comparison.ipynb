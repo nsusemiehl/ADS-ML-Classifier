{
 "cells": [
  {
   "cell_type": "code",
   "execution_count": 1,
   "id": "e9a10c16",
   "metadata": {},
   "outputs": [
    {
     "name": "stderr",
     "output_type": "stream",
     "text": [
      "[nltk_data] Downloading package punkt to\n",
      "[nltk_data]     C:\\Users\\nsuse\\AppData\\Roaming\\nltk_data...\n",
      "[nltk_data]   Package punkt is already up-to-date!\n",
      "[nltk_data] Downloading package stopwords to\n",
      "[nltk_data]     C:\\Users\\nsuse\\AppData\\Roaming\\nltk_data...\n",
      "[nltk_data]   Package stopwords is already up-to-date!\n"
     ]
    }
   ],
   "source": [
    "import pandas as pd\n",
    "import ads\n",
    "import requests\n",
    "import PyPDF2\n",
    "from requests.adapters import HTTPAdapter\n",
    "from urllib3.util.retry import Retry\n",
    "import os\n",
    "import numpy as np\n",
    "import random\n",
    "import re\n",
    "import urllib3\n",
    "import time\n",
    "from requests.adapters import TimeoutSauce\n",
    "import urllib, urllib.request    \n",
    "from datetime import datetime\n",
    "import feedparser\n",
    "try:\n",
    "    from urllib.request import urlopen\n",
    "except ImportError:\n",
    "    from urllib2 import urlopen\n",
    "    \n",
    "\n",
    "from urllib.parse import urlencode, quote_plus\n",
    "\n",
    "import sys\n",
    "# sys.path.insert(0, '..\\\\..\\\\..\\\\automation')\n",
    "from api_pipeline import ml_doc_classifier"
   ]
  },
  {
   "cell_type": "code",
   "execution_count": 2,
   "id": "1e9291ca",
   "metadata": {},
   "outputs": [
    {
     "name": "stdout",
     "output_type": "stream",
     "text": [
      "1 2\n",
      "2 3\n",
      "3 4\n",
      "4 5\n",
      "5 6\n",
      "6 7\n",
      "7 8\n",
      "8 9\n",
      "9 10\n",
      "10 11\n",
      "11 12\n",
      "12 13\n",
      "13 14\n",
      "14 15\n",
      "15 16\n",
      "16 17\n",
      "17 18\n",
      "18 19\n",
      "19 20\n",
      "20 21\n",
      "21 22\n",
      "22 23\n",
      "23 24\n",
      "24 25\n",
      "25 26\n",
      "26 27\n",
      "27 28\n",
      "2270 81.07142857142857\n"
     ]
    }
   ],
   "source": [
    "feb_api_results = []\n",
    "\n",
    "start_month = 2\n",
    "start_year = 2023\n",
    "\n",
    "end_month = 2\n",
    "end_year = 2023\n",
    "\n",
    "for d in range(1, 28):\n",
    "    start_day = d\n",
    "    end_day = d + 1\n",
    "    print(start_day, end_day)\n",
    "    \n",
    "    ml_clf = ml_doc_classifier(start_day, start_month, start_year, end_day, end_month, end_year, rerun=True, output_type='html')\n",
    "\n",
    "    ml_clf.arxiv_api_call()\n",
    "    ml_clf.ads_api_call(\"entdate\")\n",
    "    ml_clf.ads_api_call(\"metadata_mtime\")\n",
    "\n",
    "    api_results = ml_clf.arxiv_ids + ml_clf.ads_bibs\n",
    "    feb_api_results.extend(api_results)\n",
    "   \n",
    "\n",
    "feb_api_results = np.unique(feb_api_results)\n",
    "print(len(feb_api_results), len(feb_api_results)/28)"
   ]
  },
  {
   "cell_type": "code",
   "execution_count": 12,
   "id": "345f29af",
   "metadata": {},
   "outputs": [
    {
     "name": "stdout",
     "output_type": "stream",
     "text": [
      "23 0\n",
      "99 0\n",
      "182 134\n",
      "316 316\n",
      "316 316\n"
     ]
    }
   ],
   "source": [
    "start_day = 21\n",
    "start_month = 5\n",
    "start_year = 2023\n",
    "end_day = 22\n",
    "end_month = 5\n",
    "end_year = 2023\n",
    "\n",
    "ml_clf = ml_doc_classifier(start_day, start_month, start_year, end_day, end_month, end_year, rerun=True, output_type='html')\n",
    "\n",
    "ml_clf.arxiv_api_call()\n",
    "print(len(ml_clf.arxiv_ids), len(ml_clf.ads_bibs))\n",
    "ml_clf.ads_api_call(\"entdate\")\n",
    "print(len(ml_clf.arxiv_ids), len(ml_clf.ads_bibs))\n",
    "\n",
    "ml_clf.ads_api_call(\"metadata_mtime\")\n",
    "print(len(ml_clf.arxiv_ids), len(ml_clf.ads_bibs))\n",
    "\n",
    "api_results = ml_clf.arxiv_ids + ml_clf.ads_bibs\n",
    "print(len(api_results), len(ml_clf.all_titles))\n",
    "api_results = np.unique(api_results)\n",
    "print(len(api_results), len(ml_clf.all_titles))"
   ]
  },
  {
   "cell_type": "code",
   "execution_count": 3,
   "id": "4ed1eb89",
   "metadata": {},
   "outputs": [
    {
     "name": "stdout",
     "output_type": "stream",
     "text": [
      "45\n"
     ]
    }
   ],
   "source": [
    "feb_email_papers = []\n",
    "\n",
    "with open('.//data//arxiv test//feb//pos_papers_list.txt', 'r') as f:\n",
    "    for line in f:\n",
    "        feb_email_papers.append(line.strip())\n",
    "        \n",
    "# with open('.//data//arxiv test//feb//feb_papers_list.txt', 'r') as f:\n",
    "#     for line in f:\n",
    "#         feb_email_papers.append(line.strip())\n",
    "     \n",
    "    \n",
    "feb_email_papers = np.unique(feb_email_papers)\n",
    "print(len(feb_email_papers))"
   ]
  },
  {
   "cell_type": "code",
   "execution_count": 4,
   "id": "12dbc400",
   "metadata": {},
   "outputs": [
    {
     "name": "stdout",
     "output_type": "stream",
     "text": [
      "6\n"
     ]
    }
   ],
   "source": [
    "absent_feb_email_papers = []\n",
    "for paper in feb_email_papers:\n",
    "    if \"arXiv:\" in paper:\n",
    "        paper = paper[6:]\n",
    "        \n",
    "    if paper not in feb_api_results:\n",
    "        absent_feb_email_papers.append(paper)\n",
    "        \n",
    "#     paper_found = False\n",
    "#     for paper2 in api_results:\n",
    "#         if paper == paper2:\n",
    "#             paper_found = True\n",
    "            \n",
    "#     if not paper_found:\n",
    "#         absent_feb_email_papers.append(paper)\n",
    "        \n",
    "print(len(absent_feb_email_papers))\n",
    "\n",
    "# absent papers were last updated in a month other than Feb (i query on last updated date)\n",
    "# these are ok"
   ]
  },
  {
   "cell_type": "code",
   "execution_count": 5,
   "id": "4419f560",
   "metadata": {},
   "outputs": [
    {
     "data": {
      "text/plain": [
       "['2205.12162',\n",
       " '2301.13260',\n",
       " '2302.01352',\n",
       " '2302.01479',\n",
       " '2302.10310',\n",
       " '2302.10838']"
      ]
     },
     "execution_count": 5,
     "metadata": {},
     "output_type": "execute_result"
    }
   ],
   "source": [
    "absent_feb_email_papers"
   ]
  },
  {
   "cell_type": "code",
   "execution_count": 22,
   "id": "d1880332",
   "metadata": {},
   "outputs": [
    {
     "name": "stdout",
     "output_type": "stream",
     "text": [
      "116\n"
     ]
    }
   ],
   "source": [
    "feb_ads_backcheck = []\n",
    "\n",
    "with open('.//data//arxiv test//feb//feb_ads_backcheck.txt', 'r') as f:\n",
    "    for line in f:\n",
    "        feb_ads_backcheck.append(line.strip())\n",
    "\n",
    "print(len(feb_ads_backcheck))"
   ]
  },
  {
   "cell_type": "code",
   "execution_count": null,
   "id": "eb4bfee0",
   "metadata": {},
   "outputs": [],
   "source": [
    "# papers not found in ads_backcheck are not astronomy related\n",
    "# could remove astronomy filters from arXiv and ADS calls and probably catch these"
   ]
  },
  {
   "cell_type": "code",
   "execution_count": 24,
   "id": "c4d1ba3a",
   "metadata": {},
   "outputs": [
    {
     "name": "stdout",
     "output_type": "stream",
     "text": [
      "73\n"
     ]
    }
   ],
   "source": [
    "absent_feb_ads_backcheck = []\n",
    "for paper in feb_ads_backcheck:\n",
    "    if \"arXiv:\" in paper:\n",
    "        paper = paper[6:]\n",
    "        \n",
    "    if paper not in feb_api_results2:\n",
    "        absent_feb_ads_backcheck.append(paper)\n",
    "        \n",
    "print(len(absent_feb_ads_backcheck))"
   ]
  },
  {
   "cell_type": "code",
   "execution_count": 25,
   "id": "bf79dc36",
   "metadata": {},
   "outputs": [
    {
     "data": {
      "text/plain": [
       "['2023SpPol..6301521M',\n",
       " '2023SoSyR..57...76D',\n",
       " '2023SoSyR..57...25B',\n",
       " '2023SSRv..219...15W',\n",
       " '2023SCPMA..6622011L',\n",
       " '2023RSPSA.47920504D',\n",
       " '2023PNAS..12015833S',\n",
       " '2023OAst...32..216G',\n",
       " '2023NewA...9901958L',\n",
       " '2023NewA...9901946Y',\n",
       " '2023Natur.614..632S',\n",
       " '2023NatAs.tmp...42B',\n",
       " '2023NatAs...7..190O',\n",
       " '2023MNRAS.519.2262C',\n",
       " '2023MNRAS.519.1494M',\n",
       " '2023MNRAS.518.5982H',\n",
       " '2023MNRAS.518.5552Y',\n",
       " '2023MNRAS.518.5236S',\n",
       " '2023Life...13..551P',\n",
       " '2023Life...13..509D',\n",
       " '2023Life...13..478C',\n",
       " '2023Life...13..447L',\n",
       " '2023JPlPh..89a9001F',\n",
       " '2023JOSS....8.4863H',\n",
       " '2023JGRE..12807642R',\n",
       " '2023JGRE..12807637S',\n",
       " '2023JGRE..12807626S',\n",
       " '2023JGRE..12807625G',\n",
       " '2023JGRE..12807589N',\n",
       " '2023JGRE..12807447P',\n",
       " '2023JGRE..12807278L',\n",
       " '2023JGRA..12831134Z',\n",
       " '2023JGRA..12831111G',\n",
       " '2023JGRA..12831098J',\n",
       " '2023JGRA..12831040G',\n",
       " '2023JGRA..12831030L',\n",
       " '2023JGRA..12831023S',\n",
       " '2023JGRA..12831009J',\n",
       " '2023JGRA..12830989B',\n",
       " '2023JGRA..12830631T',\n",
       " '2023Icar..39115367B',\n",
       " '2023Icar..39115364C',\n",
       " '2023Icar..39115361L',\n",
       " '2023Icar..39115352A',\n",
       " '2023Icar..39115346Z',\n",
       " '2023Icar..39115344S',\n",
       " '2023Icar..39115341M',\n",
       " '2023Icar..39115338B',\n",
       " '2023Icar..39115337K',\n",
       " '2023Icar..39115331P',\n",
       " '2023Icar..39115319U',\n",
       " '2023GeoRL..5002179Z',\n",
       " '2023GeoRL..5001414Z',\n",
       " '2023GeCoA.342..156Z',\n",
       " '2023FrASS..1091967C',\n",
       " '2023FrASS..1064208L',\n",
       " '2023FrASS..1064076G',\n",
       " '2023FrASS..1062265H',\n",
       " '2023FrASS..1008386S',\n",
       " '2023FrASS..1007371J',\n",
       " '2023E&SS...1002641H',\n",
       " '2023E&SS...1002429P',\n",
       " '2023E&SS...1002370C',\n",
       " '2023BlgAJ..38...68G',\n",
       " '2023ApJ...944..209L',\n",
       " '2023ARep...67..151B',\n",
       " '2023ARep...67..125T',\n",
       " '2023AJ....165...34H',\n",
       " '2023A&A...670L..25L',\n",
       " '2023A&A...670A.175D',\n",
       " '2023A&A...670A.174G',\n",
       " '2023A&A...670A.137R',\n",
       " '2023A&A...670A.134B']"
      ]
     },
     "execution_count": 25,
     "metadata": {},
     "output_type": "execute_result"
    }
   ],
   "source": [
    "absent_feb_ads_backcheck"
   ]
  },
  {
   "cell_type": "code",
   "execution_count": 34,
   "id": "0985b967",
   "metadata": {},
   "outputs": [
    {
     "data": {
      "text/plain": [
       "[{'metadata_mtime': '2023-05-21T08:37:33.361Z'}]"
      ]
     },
     "execution_count": 34,
     "metadata": {},
     "output_type": "execute_result"
    }
   ],
   "source": [
    "ADS_DEV_KEY = \"FEbkvybqpxpJQdeF5E8btv7KvfFM4Eh5ezHV7Z8S\"\n",
    "\n",
    "encoded_query = urlencode({\"q\": \"bibcode:1974RCAEn..20...16B\", \"fl\": \"entdate, metadata_mtime\"})\n",
    "results = requests.get(\"https://api.adsabs.harvard.edu/v1/search/query?{}\".format(encoded_query), headers={'Authorization': 'Bearer ' + ADS_DEV_KEY}).json()[\"response\"][\"docs\"]\n",
    "\n",
    "results"
   ]
  },
  {
   "cell_type": "code",
   "execution_count": 6,
   "id": "82ca3e92",
   "metadata": {},
   "outputs": [
    {
     "name": "stdout",
     "output_type": "stream",
     "text": [
      "1 2\n",
      "2 3\n",
      "3 4\n",
      "4 5\n",
      "5 6\n",
      "6 7\n",
      "7 8\n",
      "8 9\n",
      "9 10\n",
      "10 11\n",
      "11 12\n",
      "12 13\n",
      "13 14\n",
      "14 15\n",
      "15 16\n",
      "16 17\n",
      "17 18\n",
      "18 19\n",
      "19 20\n",
      "20 21\n",
      "21 22\n",
      "22 23\n",
      "23 24\n",
      "24 25\n",
      "25 26\n",
      "26 27\n",
      "27 28\n",
      "28 29\n",
      "29 30\n",
      "30 31\n",
      "3184 102.70967741935483\n"
     ]
    }
   ],
   "source": [
    "march_api_results = []\n",
    "\n",
    "start_month = 3\n",
    "start_year = 2023\n",
    "\n",
    "end_month = 3\n",
    "end_year = 2023\n",
    "\n",
    "for d in range(1, 31):\n",
    "    start_day = d\n",
    "    end_day = d + 1\n",
    "    print(start_day, end_day)\n",
    "    \n",
    "    ml_clf = ml_doc_classifier(start_day, start_month, start_year, end_day, end_month, end_year, rerun=True, output_type='html')\n",
    "\n",
    "    ml_clf.arxiv_api_call()\n",
    "    ml_clf.ads_api_call(\"entdate\")\n",
    "    ml_clf.ads_api_call(\"metadata_mtime\")\n",
    "\n",
    "    api_results = ml_clf.arxiv_ids + ml_clf.ads_bibs\n",
    "    march_api_results.extend(api_results)\n",
    "   \n",
    "\n",
    "march_api_results = np.unique(march_api_results)\n",
    "print(len(march_api_results), len(march_api_results)/31)"
   ]
  },
  {
   "cell_type": "code",
   "execution_count": 7,
   "id": "50d6900a",
   "metadata": {},
   "outputs": [
    {
     "name": "stdout",
     "output_type": "stream",
     "text": [
      "31\n"
     ]
    }
   ],
   "source": [
    "march_email_papers = []\n",
    "\n",
    "with open('.//data//arxiv test//march//pos_papers_list.txt', 'r') as f:\n",
    "    for line in f:\n",
    "        march_email_papers.append(line.strip())\n",
    "        \n",
    "print(len(march_email_papers))"
   ]
  },
  {
   "cell_type": "code",
   "execution_count": 8,
   "id": "b17b67a0",
   "metadata": {},
   "outputs": [
    {
     "name": "stdout",
     "output_type": "stream",
     "text": [
      "1\n"
     ]
    }
   ],
   "source": [
    "absent_march_email_papers = []\n",
    "for paper in march_email_papers:\n",
    "    if \"arXiv:\" in paper:\n",
    "        paper = paper[6:]\n",
    "        \n",
    "    if paper not in march_api_results:\n",
    "        absent_march_email_papers.append(paper)\n",
    "        \n",
    "#     paper_found = False\n",
    "#     for paper2 in api_results:\n",
    "#         if paper == paper2:\n",
    "#             paper_found = True\n",
    "            \n",
    "#     if not paper_found:\n",
    "#         absent_feb_email_papers.append(paper)\n",
    "        \n",
    "print(len(absent_march_email_papers))"
   ]
  },
  {
   "cell_type": "code",
   "execution_count": 9,
   "id": "00708084",
   "metadata": {},
   "outputs": [
    {
     "data": {
      "text/plain": [
       "['2303.13732']"
      ]
     },
     "execution_count": 9,
     "metadata": {},
     "output_type": "execute_result"
    }
   ],
   "source": [
    "absent_march_email_papers"
   ]
  }
 ],
 "metadata": {
  "kernelspec": {
   "display_name": "Python 3 (ipykernel)",
   "language": "python",
   "name": "python3"
  },
  "language_info": {
   "codemirror_mode": {
    "name": "ipython",
    "version": 3
   },
   "file_extension": ".py",
   "mimetype": "text/x-python",
   "name": "python",
   "nbconvert_exporter": "python",
   "pygments_lexer": "ipython3",
   "version": "3.9.12"
  }
 },
 "nbformat": 4,
 "nbformat_minor": 5
}
