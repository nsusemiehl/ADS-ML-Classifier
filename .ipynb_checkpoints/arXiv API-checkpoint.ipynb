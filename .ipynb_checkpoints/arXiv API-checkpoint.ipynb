{
 "cells": [
  {
   "cell_type": "code",
   "execution_count": 11,
   "id": "9449baa7",
   "metadata": {},
   "outputs": [],
   "source": [
    "import urllib, urllib.request    \n",
    "import requests\n",
    "from requests.adapters import HTTPAdapter\n",
    "from urllib3.util.retry import Retry\n",
    "from requests.adapters import TimeoutSauce\n",
    "from datetime import datetime\n",
    "import os\n",
    "import feedparser\n",
    "try:\n",
    "    from urllib.request import urlopen\n",
    "except ImportError:\n",
    "    from urllib2 import urlopen"
   ]
  },
  {
   "cell_type": "code",
   "execution_count": 3,
   "id": "e69c57e3",
   "metadata": {},
   "outputs": [
    {
     "data": {
      "text/plain": [
       "'lastUpdatedDate:[20230301000000+TO+20230308000000]'"
      ]
     },
     "execution_count": 3,
     "metadata": {},
     "output_type": "execute_result"
    }
   ],
   "source": [
    "start_date = datetime(2023, 3, 1)\n",
    "end_date = datetime(2023, 3, 8)\n",
    "\n",
    "start = start_date.strftime(\"%Y%m%d\")\n",
    "end = end_date.strftime(\"%Y%m%d\")\n",
    "range_str = f\"[{start}000000+TO+{end}000000]\"\n",
    "range_query = f\"lastUpdatedDate:{range_str}\"\n",
    "\n",
    "range_query"
   ]
  },
  {
   "cell_type": "code",
   "execution_count": 4,
   "id": "c74c7530",
   "metadata": {},
   "outputs": [
    {
     "data": {
      "text/plain": [
       "'%28astro-ph.GA+OR+astro-ph.CO+OR+astro-ph.EP+OR+astro-ph.HE+OR+astro-ph.IM+OR+astro-ph.SR%29'"
      ]
     },
     "execution_count": 4,
     "metadata": {},
     "output_type": "execute_result"
    }
   ],
   "source": [
    "subcat = [\"GA\", \"CO\", \"EP\", \"HE\", \"IM\", \"SR\"]\n",
    "\n",
    "cat_query = \"%28\"  # open parenthesis\n",
    "for n, s in enumerate(subcat):\n",
    "    cat_query += f\"astro-ph.{s}\"\n",
    "    if n < len(subcat)-1:\n",
    "        cat_query += \"+OR+\"\n",
    "    else:\n",
    "        cat_query += \"%29\"  # close parenthesis\n",
    "        \n",
    "cat_query"
   ]
  },
  {
   "cell_type": "code",
   "execution_count": 5,
   "id": "44de3a73",
   "metadata": {},
   "outputs": [
    {
     "data": {
      "text/plain": [
       "'http://export.arxiv.org/api/query?search_query=%28astro-ph.GA+OR+astro-ph.CO+OR+astro-ph.EP+OR+astro-ph.HE+OR+astro-ph.IM+OR+astro-ph.SR%29+AND+lastUpdatedDate:[20230301000000+TO+20230308000000]&max_results=999&sortBy=submittedDate&sortOrder=descending'"
      ]
     },
     "execution_count": 5,
     "metadata": {},
     "output_type": "execute_result"
    }
   ],
   "source": [
    "base_url = \"http://export.arxiv.org/api/query?\"\n",
    "sort_query = f\"max_results={999}&sortBy=submittedDate&sortOrder=descending\"\n",
    "\n",
    "full_query = f\"search_query={cat_query}+AND+{range_query}&{sort_query}\"\n",
    "\n",
    "url = base_url + full_query\n",
    "url"
   ]
  },
  {
   "cell_type": "code",
   "execution_count": 17,
   "id": "1e630420",
   "metadata": {},
   "outputs": [],
   "source": [
    "response = urlopen(url).read()\n",
    "feed = feedparser.parse(response)"
   ]
  },
  {
   "cell_type": "code",
   "execution_count": 18,
   "id": "250913bc",
   "metadata": {},
   "outputs": [
    {
     "name": "stdout",
     "output_type": "stream",
     "text": [
      "515\n"
     ]
    }
   ],
   "source": [
    "pdf_links = []\n",
    "for e in feed.entries:\n",
    "    for l in e.links:\n",
    "        if \"pdf\" in l.href:\n",
    "            pdf_links.append(l.href)\n",
    "            \n",
    "print(len(pdf_links)) # number changes for given url!"
   ]
  },
  {
   "cell_type": "code",
   "execution_count": 19,
   "id": "5fd3173f",
   "metadata": {},
   "outputs": [],
   "source": [
    "directory = \".//data//arxiv test//\"\n",
    "files = os.listdir(directory)\n",
    "\n",
    "headers = {\n",
    "    'user-agent': 'Mozilla/5.0 (X11; Linux x86_64) AppleWebKit/537.36 (KHTML, like Gecko) Chrome/86.0.4240.111 Safari/537.36',\n",
    "}\n",
    "session = requests.Session()\n",
    "retry = Retry(connect=3, backoff_factor=10)\n",
    "adapter = HTTPAdapter(max_retries=retry)\n",
    "session.mount('http://', adapter)\n",
    "session.mount('https://', adapter)\n",
    "\n",
    "for link in pdf_links:\n",
    "    if f\"{link[21:]}.pdf\" in files:\n",
    "        continue\n",
    "        \n",
    "    response = session.get(link, headers=headers)\n",
    "    with open(f'.//data//arxiv test//{link[21:]}.pdf', 'wb') as f:\n",
    "        f.write(response.content)"
   ]
  },
  {
   "cell_type": "code",
   "execution_count": null,
   "id": "b3defe71",
   "metadata": {},
   "outputs": [],
   "source": []
  }
 ],
 "metadata": {
  "kernelspec": {
   "display_name": "Python 3 (ipykernel)",
   "language": "python",
   "name": "python3"
  },
  "language_info": {
   "codemirror_mode": {
    "name": "ipython",
    "version": 3
   },
   "file_extension": ".py",
   "mimetype": "text/x-python",
   "name": "python",
   "nbconvert_exporter": "python",
   "pygments_lexer": "ipython3",
   "version": "3.9.12"
  }
 },
 "nbformat": 4,
 "nbformat_minor": 5
}
