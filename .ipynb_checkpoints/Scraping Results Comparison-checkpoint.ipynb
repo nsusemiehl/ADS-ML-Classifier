{
 "cells": [
  {
   "cell_type": "code",
   "execution_count": 1,
   "id": "e9a10c16",
   "metadata": {},
   "outputs": [
    {
     "name": "stderr",
     "output_type": "stream",
     "text": [
      "[nltk_data] Downloading package punkt to\n",
      "[nltk_data]     C:\\Users\\nsuse\\AppData\\Roaming\\nltk_data...\n",
      "[nltk_data]   Package punkt is already up-to-date!\n",
      "[nltk_data] Downloading package stopwords to\n",
      "[nltk_data]     C:\\Users\\nsuse\\AppData\\Roaming\\nltk_data...\n",
      "[nltk_data]   Package stopwords is already up-to-date!\n"
     ]
    }
   ],
   "source": [
    "import pandas as pd\n",
    "import ads\n",
    "import requests\n",
    "import PyPDF2\n",
    "from requests.adapters import HTTPAdapter\n",
    "from urllib3.util.retry import Retry\n",
    "import os\n",
    "import numpy as np\n",
    "import random\n",
    "import re\n",
    "import urllib3\n",
    "import time\n",
    "from requests.adapters import TimeoutSauce\n",
    "import urllib, urllib.request    \n",
    "from datetime import datetime\n",
    "import feedparser\n",
    "try:\n",
    "    from urllib.request import urlopen\n",
    "except ImportError:\n",
    "    from urllib2 import urlopen\n",
    "    \n",
    "\n",
    "from urllib.parse import urlencode, quote_plus\n",
    "\n",
    "import sys\n",
    "# sys.path.insert(0, '..\\\\..\\\\..\\\\automation')\n",
    "from api_pipeline import ml_doc_classifier"
   ]
  },
  {
   "cell_type": "code",
   "execution_count": 18,
   "id": "1e9291ca",
   "metadata": {},
   "outputs": [
    {
     "name": "stdout",
     "output_type": "stream",
     "text": [
      "01-02: 85\n",
      "02-03: 58\n",
      "03-04: 47\n",
      "04-05: 151\n",
      "05-06: 175\n",
      "06-07: 76\n",
      "07-08: 64\n",
      "08-09: 94\n",
      "09-10: 113\n",
      "10-11: 56\n",
      "11-12: 166\n",
      "12-13: 152\n",
      "13-14: 84\n",
      "14-15: 79\n",
      "15-16: 64\n",
      "16-17: 91\n",
      "17-18: 55\n",
      "18-19: 177\n",
      "19-20: 175\n",
      "20-21: 77\n",
      "21-22: 94\n",
      "22-23: 107\n",
      "23-24: 78\n",
      "24-25: 78\n",
      "25-26: 45\n",
      "26-27: 44\n",
      "27-28: 138\n",
      "2296\n",
      "1569 845 948\n"
     ]
    }
   ],
   "source": [
    "feb_api_results = []\n",
    "\n",
    "start_month = \"02\"\n",
    "start_year = \"2023\"\n",
    "\n",
    "end_month = \"02\"\n",
    "end_year = \"2023\"\n",
    "\n",
    "arxiv_results = []\n",
    "ads1_results = []\n",
    "ads2_results = []\n",
    "\n",
    "for d in range(1, 28):\n",
    "    start_day = d\n",
    "    if int(start_day) < 10:\n",
    "        start_day = f\"0{start_day}\"\n",
    "    end_day = d + 1\n",
    "    if int(end_day) < 10:\n",
    "        end_day = f\"0{end_day}\"\n",
    "    \n",
    "    ml_clf = ml_doc_classifier(start_day, start_month, start_year, end_day, end_month, end_year, rerun=True, output_type='text')\n",
    "\n",
    "    init_api_results = ml_clf.arxiv_ids + ml_clf.ads_bibs\n",
    "    \n",
    "    arxiv_results.extend(ml_clf.arxiv_api_call())\n",
    "    ads1_results.extend(ml_clf.ads_api_call(\"entdate\"))\n",
    "    ads2_results.extend(ml_clf.ads_api_call(\"metadata_mtime\"))\n",
    "\n",
    "    api_results = ml_clf.arxiv_ids + ml_clf.ads_bibs\n",
    "    feb_api_results.extend(api_results)\n",
    "    \n",
    "    print(f\"{start_day}-{end_day}: {len(api_results)-len(init_api_results)}\")\n",
    "\n",
    "    \n",
    "    \n",
    "feb_api_results = np.unique(feb_api_results)\n",
    "print(len(feb_api_results))\n",
    "print(len(arxiv_results), len(ads1_results), len(ads2_results))"
   ]
  },
  {
   "cell_type": "code",
   "execution_count": 19,
   "id": "4ed1eb89",
   "metadata": {},
   "outputs": [
    {
     "name": "stdout",
     "output_type": "stream",
     "text": [
      "45\n"
     ]
    }
   ],
   "source": [
    "feb_email_papers = []\n",
    "\n",
    "with open('.//data//arxiv test//feb//pos_papers_list.txt', 'r') as f:\n",
    "    for line in f:\n",
    "        feb_email_papers.append(line.strip())\n",
    "        \n",
    "# with open('.//data//arxiv test//feb//feb_papers_list.txt', 'r') as f:\n",
    "#     for line in f:\n",
    "#         feb_email_papers.append(line.strip())\n",
    "     \n",
    "    \n",
    "feb_email_papers = np.unique(feb_email_papers)\n",
    "print(len(feb_email_papers))"
   ]
  },
  {
   "cell_type": "code",
   "execution_count": 20,
   "id": "12dbc400",
   "metadata": {},
   "outputs": [
    {
     "name": "stdout",
     "output_type": "stream",
     "text": [
      "6\n"
     ]
    }
   ],
   "source": [
    "absent_feb_email_papers = []\n",
    "for paper in feb_email_papers:\n",
    "    if \"arXiv:\" in paper:\n",
    "        paper = paper[6:]\n",
    "        \n",
    "    if (paper not in arxiv_results) and (paper not in ads1_results) and (paper not in ads2_results):\n",
    "        absent_feb_email_papers.append(paper)\n",
    "#     else:\n",
    "#         if paper in arxiv_results:\n",
    "#             print(\"arxiv\", paper)\n",
    "#         if paper in ads1_results:\n",
    "#             print(\"ads1\", paper)\n",
    "#         if paper in ads2_results:\n",
    "#             print(\"ads2\", paper)\n",
    "        \n",
    "#     paper_found = False\n",
    "#     for paper2 in api_results:\n",
    "#         if paper == paper2:\n",
    "#             paper_found = True\n",
    "            \n",
    "#     if not paper_found:\n",
    "#         absent_feb_email_papers.append(paper)\n",
    "        \n",
    "print(len(absent_feb_email_papers))\n",
    "\n",
    "# absent papers were last updated in a month other than Feb (i query on last updated date)\n",
    "# these are ok"
   ]
  },
  {
   "cell_type": "code",
   "execution_count": 21,
   "id": "7b4cad14",
   "metadata": {},
   "outputs": [
    {
     "data": {
      "text/plain": [
       "['2205.12162',\n",
       " '2301.13260',\n",
       " '2302.01352',\n",
       " '2302.01479',\n",
       " '2302.10310',\n",
       " '2302.10838']"
      ]
     },
     "execution_count": 21,
     "metadata": {},
     "output_type": "execute_result"
    }
   ],
   "source": [
    "absent_feb_email_papers"
   ]
  },
  {
   "cell_type": "code",
   "execution_count": 17,
   "id": "d1880332",
   "metadata": {},
   "outputs": [
    {
     "name": "stdout",
     "output_type": "stream",
     "text": [
      "116\n"
     ]
    }
   ],
   "source": [
    "feb_ads_backcheck = []\n",
    "\n",
    "with open('.//data//arxiv test//feb//feb_ads_backcheck.txt', 'r') as f:\n",
    "    for line in f:\n",
    "        feb_ads_backcheck.append(line.strip())\n",
    "\n",
    "print(len(feb_ads_backcheck))"
   ]
  },
  {
   "cell_type": "code",
   "execution_count": null,
   "id": "eb4bfee0",
   "metadata": {},
   "outputs": [],
   "source": [
    "# papers not found in ads_backcheck are not astronomy related\n",
    "# could remove astronomy filters from arXiv and ADS calls and probably catch these"
   ]
  },
  {
   "cell_type": "code",
   "execution_count": 22,
   "id": "c4d1ba3a",
   "metadata": {},
   "outputs": [
    {
     "name": "stdout",
     "output_type": "stream",
     "text": [
      "73\n"
     ]
    }
   ],
   "source": [
    "absent_feb_ads_backcheck = []\n",
    "for paper in feb_ads_backcheck:\n",
    "    if \"arXiv:\" in paper:\n",
    "        paper = paper[6:]\n",
    "        \n",
    "    if (paper not in arxiv_results) and (paper not in ads1_results) and (paper not in ads2_results):\n",
    "        absent_feb_ads_backcheck.append(paper)\n",
    "        \n",
    "print(len(absent_feb_ads_backcheck))"
   ]
  },
  {
   "cell_type": "code",
   "execution_count": 23,
   "id": "bf79dc36",
   "metadata": {},
   "outputs": [
    {
     "data": {
      "text/plain": [
       "['2023SpPol..6301521M',\n",
       " '2023SoSyR..57...76D',\n",
       " '2023SoSyR..57...25B',\n",
       " '2023SSRv..219...15W',\n",
       " '2023SCPMA..6622011L',\n",
       " '2023RSPSA.47920504D',\n",
       " '2023PNAS..12015833S',\n",
       " '2023OAst...32..216G',\n",
       " '2023NewA...9901958L',\n",
       " '2023NewA...9901946Y',\n",
       " '2023Natur.614..632S',\n",
       " '2023NatAs.tmp...42B',\n",
       " '2023NatAs...7..190O',\n",
       " '2023MNRAS.519.2262C',\n",
       " '2023MNRAS.519.1494M',\n",
       " '2023MNRAS.518.5982H',\n",
       " '2023MNRAS.518.5552Y',\n",
       " '2023MNRAS.518.5236S',\n",
       " '2023Life...13..551P',\n",
       " '2023Life...13..509D',\n",
       " '2023Life...13..478C',\n",
       " '2023Life...13..447L',\n",
       " '2023JPlPh..89a9001F',\n",
       " '2023JOSS....8.4863H',\n",
       " '2023JGRE..12807642R',\n",
       " '2023JGRE..12807637S',\n",
       " '2023JGRE..12807626S',\n",
       " '2023JGRE..12807625G',\n",
       " '2023JGRE..12807589N',\n",
       " '2023JGRE..12807447P',\n",
       " '2023JGRE..12807278L',\n",
       " '2023JGRA..12831134Z',\n",
       " '2023JGRA..12831111G',\n",
       " '2023JGRA..12831098J',\n",
       " '2023JGRA..12831040G',\n",
       " '2023JGRA..12831030L',\n",
       " '2023JGRA..12831023S',\n",
       " '2023JGRA..12831009J',\n",
       " '2023JGRA..12830989B',\n",
       " '2023JGRA..12830631T',\n",
       " '2023Icar..39115367B',\n",
       " '2023Icar..39115364C',\n",
       " '2023Icar..39115361L',\n",
       " '2023Icar..39115352A',\n",
       " '2023Icar..39115346Z',\n",
       " '2023Icar..39115344S',\n",
       " '2023Icar..39115341M',\n",
       " '2023Icar..39115338B',\n",
       " '2023Icar..39115337K',\n",
       " '2023Icar..39115331P',\n",
       " '2023Icar..39115319U',\n",
       " '2023GeoRL..5002179Z',\n",
       " '2023GeoRL..5001414Z',\n",
       " '2023GeCoA.342..156Z',\n",
       " '2023FrASS..1091967C',\n",
       " '2023FrASS..1064208L',\n",
       " '2023FrASS..1064076G',\n",
       " '2023FrASS..1062265H',\n",
       " '2023FrASS..1008386S',\n",
       " '2023FrASS..1007371J',\n",
       " '2023E&SS...1002641H',\n",
       " '2023E&SS...1002429P',\n",
       " '2023E&SS...1002370C',\n",
       " '2023BlgAJ..38...68G',\n",
       " '2023ApJ...944..209L',\n",
       " '2023ARep...67..151B',\n",
       " '2023ARep...67..125T',\n",
       " '2023AJ....165...34H',\n",
       " '2023A&A...670L..25L',\n",
       " '2023A&A...670A.175D',\n",
       " '2023A&A...670A.174G',\n",
       " '2023A&A...670A.137R',\n",
       " '2023A&A...670A.134B']"
      ]
     },
     "execution_count": 23,
     "metadata": {},
     "output_type": "execute_result"
    }
   ],
   "source": [
    "absent_feb_ads_backcheck"
   ]
  },
  {
   "cell_type": "code",
   "execution_count": 31,
   "id": "82ca3e92",
   "metadata": {},
   "outputs": [
    {
     "name": "stdout",
     "output_type": "stream",
     "text": [
      "01-02: 80\n",
      "02-03: 86\n",
      "03-04: 72\n",
      "04-05: 57\n",
      "05-06: 157\n",
      "06-07: 98\n",
      "07-08: 92\n",
      "08-09: 58\n",
      "09-10: 74\n",
      "10-11: 53\n",
      "11-12: 315\n",
      "12-13: 241\n",
      "13-14: 80\n",
      "14-15: 93\n",
      "15-16: 90\n",
      "16-17: 69\n",
      "17-18: 78\n",
      "18-19: 17\n",
      "19-20: 172\n",
      "20-21: 758\n",
      "21-22: 89\n",
      "22-23: 83\n",
      "23-24: 94\n",
      "24-25: 68\n",
      "25-26: 147\n",
      "26-27: 171\n",
      "27-28: 89\n",
      "28-29: 108\n",
      "29-30: 100\n",
      "30-31: 102\n",
      "3291\n",
      "1920 1151 2094\n"
     ]
    }
   ],
   "source": [
    "march_api_results = []\n",
    "\n",
    "start_month = \"03\"\n",
    "start_year = \"2023\"\n",
    "\n",
    "end_month = \"03\"\n",
    "end_year = \"2023\"\n",
    "\n",
    "arxiv_results = []\n",
    "ads1_results = []\n",
    "ads2_results = []\n",
    "\n",
    "for d in range(1, 31):\n",
    "    start_day = d\n",
    "    if int(start_day) < 10:\n",
    "        start_day = f\"0{start_day}\"\n",
    "    end_day = d + 1\n",
    "    if int(end_day) < 10:\n",
    "        end_day = f\"0{end_day}\"\n",
    "    \n",
    "    ml_clf = ml_doc_classifier(start_day, start_month, start_year, end_day, end_month, end_year, rerun=True, output_type='text')\n",
    "\n",
    "    init_api_results = ml_clf.arxiv_ids + ml_clf.ads_bibs\n",
    "    \n",
    "    arxiv_results.extend(ml_clf.arxiv_api_call())\n",
    "    ads1_results.extend(ml_clf.ads_api_call(\"entdate\"))\n",
    "    ads2_results.extend(ml_clf.ads_api_call(\"metadata_mtime\"))\n",
    "\n",
    "    api_results = ml_clf.arxiv_ids + ml_clf.ads_bibs\n",
    "    march_api_results.extend(api_results)\n",
    "    \n",
    "    print(f\"{start_day}-{end_day}: {len(api_results)-len(init_api_results)}\")\n",
    "\n",
    "    \n",
    "    \n",
    "march_api_results = np.unique(march_api_results)\n",
    "print(len(march_api_results))\n",
    "print(len(arxiv_results), len(ads1_results), len(ads2_results))"
   ]
  },
  {
   "cell_type": "code",
   "execution_count": 25,
   "id": "50d6900a",
   "metadata": {},
   "outputs": [
    {
     "name": "stdout",
     "output_type": "stream",
     "text": [
      "31\n"
     ]
    }
   ],
   "source": [
    "march_email_papers = []\n",
    "\n",
    "with open('.//data//arxiv test//march//pos_papers_list.txt', 'r') as f:\n",
    "    for line in f:\n",
    "        march_email_papers.append(line.strip())\n",
    "        \n",
    "print(len(march_email_papers))"
   ]
  },
  {
   "cell_type": "code",
   "execution_count": 26,
   "id": "b17b67a0",
   "metadata": {},
   "outputs": [
    {
     "name": "stdout",
     "output_type": "stream",
     "text": [
      "1\n"
     ]
    }
   ],
   "source": [
    "absent_march_email_papers = []\n",
    "for paper in march_email_papers:\n",
    "    if \"arXiv:\" in paper:\n",
    "        paper = paper[6:]\n",
    "        \n",
    "    if (paper not in arxiv_results) and (paper not in ads1_results) and (paper not in ads2_results):\n",
    "        absent_march_email_papers.append(paper)\n",
    "        \n",
    "#     paper_found = False\n",
    "#     for paper2 in api_results:\n",
    "#         if paper == paper2:\n",
    "#             paper_found = True\n",
    "            \n",
    "#     if not paper_found:\n",
    "#         absent_feb_email_papers.append(paper)\n",
    "        \n",
    "print(len(absent_march_email_papers))"
   ]
  },
  {
   "cell_type": "code",
   "execution_count": 27,
   "id": "00708084",
   "metadata": {},
   "outputs": [
    {
     "data": {
      "text/plain": [
       "['2303.13732']"
      ]
     },
     "execution_count": 27,
     "metadata": {},
     "output_type": "execute_result"
    }
   ],
   "source": [
    "absent_march_email_papers"
   ]
  },
  {
   "cell_type": "code",
   "execution_count": 28,
   "id": "04fa98d4",
   "metadata": {},
   "outputs": [
    {
     "name": "stdout",
     "output_type": "stream",
     "text": [
      "01-02: 114\n",
      "02-03: 297\n",
      "03-04: 88\n",
      "04-05: 92\n",
      "05-06: 78\n",
      "06-07: 78\n",
      "07-08: 60\n",
      "08-09: 78\n",
      "09-10: 24\n",
      "10-11: 63\n",
      "11-12: 67\n",
      "12-13: 96\n",
      "13-14: 237\n",
      "14-15: 74\n",
      "15-16: 131\n",
      "16-17: 23\n",
      "17-18: 95\n",
      "18-19: 93\n",
      "19-20: 78\n",
      "20-21: 68\n",
      "21-22: 69\n",
      "22-23: 86\n",
      "23-24: 23\n",
      "24-25: 84\n",
      "25-26: 103\n",
      "26-27: 100\n",
      "27-28: 96\n",
      "28-29: 78\n",
      "29-30: 136\n",
      "2520\n",
      "1729 1019 815\n"
     ]
    }
   ],
   "source": [
    "april_api_results = []\n",
    "\n",
    "start_month = \"04\"\n",
    "start_year = \"2023\"\n",
    "\n",
    "end_month = \"04\"\n",
    "end_year = \"2023\"\n",
    "\n",
    "arxiv_results = []\n",
    "ads1_results = []\n",
    "ads2_results = []\n",
    "\n",
    "for d in range(1, 30):\n",
    "    start_day = d\n",
    "    if int(start_day) < 10:\n",
    "        start_day = f\"0{start_day}\"\n",
    "    end_day = d + 1\n",
    "    if int(end_day) < 10:\n",
    "        end_day = f\"0{end_day}\"\n",
    "    \n",
    "    ml_clf = ml_doc_classifier(start_day, start_month, start_year, end_day, end_month, end_year, rerun=True, output_type='text')\n",
    "\n",
    "    init_api_results = ml_clf.arxiv_ids + ml_clf.ads_bibs\n",
    "    \n",
    "    arxiv_results.extend(ml_clf.arxiv_api_call())\n",
    "    ads1_results.extend(ml_clf.ads_api_call(\"entdate\"))\n",
    "    ads2_results.extend(ml_clf.ads_api_call(\"metadata_mtime\"))\n",
    "\n",
    "    api_results = ml_clf.arxiv_ids + ml_clf.ads_bibs\n",
    "    april_api_results.extend(api_results)\n",
    "    \n",
    "    print(f\"{start_day}-{end_day}: {len(api_results)-len(init_api_results)}\")\n",
    "\n",
    "    \n",
    "    \n",
    "april_api_results = np.unique(april_api_results)\n",
    "print(len(april_api_results))\n",
    "print(len(arxiv_results), len(ads1_results), len(ads2_results))"
   ]
  },
  {
   "cell_type": "code",
   "execution_count": 29,
   "id": "8d31997f",
   "metadata": {},
   "outputs": [
    {
     "name": "stdout",
     "output_type": "stream",
     "text": [
      "37\n"
     ]
    }
   ],
   "source": [
    "april_email_papers = []\n",
    "\n",
    "with open('.//data//arxiv test//april//pos_papers_list.txt', 'r') as f:\n",
    "    for line in f:\n",
    "        april_email_papers.append(line.strip())\n",
    "        \n",
    "print(len(april_email_papers))"
   ]
  },
  {
   "cell_type": "code",
   "execution_count": 30,
   "id": "1b56b9e0",
   "metadata": {},
   "outputs": [
    {
     "name": "stdout",
     "output_type": "stream",
     "text": [
      "0\n"
     ]
    }
   ],
   "source": [
    "absent_april_email_papers = []\n",
    "for paper in april_email_papers:\n",
    "    if \"arXiv:\" in paper:\n",
    "        paper = paper[6:]\n",
    "        \n",
    "    if (paper not in arxiv_results) and (paper not in ads1_results) and (paper not in ads2_results):\n",
    "        absent_april_email_papers.append(paper)\n",
    "        \n",
    "#     paper_found = False\n",
    "#     for paper2 in api_results:\n",
    "#         if paper == paper2:\n",
    "#             paper_found = True\n",
    "            \n",
    "#     if not paper_found:\n",
    "#         absent_feb_email_papers.append(paper)\n",
    "        \n",
    "print(len(absent_april_email_papers))"
   ]
  }
 ],
 "metadata": {
  "kernelspec": {
   "display_name": "Python 3 (ipykernel)",
   "language": "python",
   "name": "python3"
  },
  "language_info": {
   "codemirror_mode": {
    "name": "ipython",
    "version": 3
   },
   "file_extension": ".py",
   "mimetype": "text/x-python",
   "name": "python",
   "nbconvert_exporter": "python",
   "pygments_lexer": "ipython3",
   "version": "3.9.12"
  }
 },
 "nbformat": 4,
 "nbformat_minor": 5
}
