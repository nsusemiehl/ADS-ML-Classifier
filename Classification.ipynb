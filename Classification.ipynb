{
 "cells": [
  {
   "cell_type": "code",
   "execution_count": null,
   "id": "0fd990a7",
   "metadata": {},
   "outputs": [],
   "source": [
    "# https://radimrehurek.com/gensim/auto_examples/tutorials/run_doc2vec_lee.html#sphx-glr-auto-examples-tutorials-run-doc2vec-lee-py\n",
    "# https://towardsdatascience.com/multi-class-text-classification-with-doc2vec-logistic-regression-9da9947b43f4"
   ]
  },
  {
   "cell_type": "code",
   "execution_count": 2,
   "id": "61ad4a50",
   "metadata": {},
   "outputs": [
    {
     "name": "stderr",
     "output_type": "stream",
     "text": [
      "[nltk_data] Downloading package punkt to\n",
      "[nltk_data]     C:\\Users\\Nick\\AppData\\Roaming\\nltk_data...\n",
      "[nltk_data]   Package punkt is already up-to-date!\n",
      "[nltk_data] Downloading package stopwords to\n",
      "[nltk_data]     C:\\Users\\Nick\\AppData\\Roaming\\nltk_data...\n",
      "[nltk_data]   Package stopwords is already up-to-date!\n"
     ]
    }
   ],
   "source": [
    "# import pandas as pd\n",
    "# import numpy as np\n",
    "# from tqdm import tqdm\n",
    "# tqdm.pandas(desc=\"progress-bar\")\n",
    "# from gensim.models import Doc2Vec\n",
    "# from sklearn import utils\n",
    "# import gensim\n",
    "# from sklearn.linear_model import LogisticRegression\n",
    "# import re\n",
    "# import seaborn as sns\n",
    "# import matplotlib.pyplot as plt\n",
    "# import os\n",
    "# from bs4 import BeautifulSoup\n",
    "\n",
    "# import multiprocessing\n",
    "# cores = multiprocessing.cpu_count()\n",
    "# import logging\n",
    "# logging.basicConfig(format='%(asctime)s : %(levelname)s : %(message)s', level=logging.INFO)\n",
    "# from gensim.test.utils import get_tmpfile\n",
    "# from sklearn.metrics import accuracy_score, f1_score\n",
    "# import collections\n",
    "\n",
    "import pandas as pd\n",
    "import numpy as np\n",
    "from gensim.models import Doc2Vec\n",
    "from gensim.models.doc2vec import TaggedDocument\n",
    "import nltk\n",
    "nltk.download('punkt')\n",
    "nltk.download('stopwords')\n",
    "from nltk.corpus import stopwords\n",
    "from sklearn.model_selection import cross_val_score\n",
    "from sklearn.model_selection import train_test_split\n",
    "from sklearn.model_selection import RepeatedStratifiedKFold\n",
    "from sklearn.svm import SVC\n",
    "import matplotlib.pyplot as plt\n",
    "from sklearn.model_selection import GridSearchCV\n",
    "from sklearn.metrics import RocCurveDisplay\n",
    "from sklearn import metrics\n",
    "import matplotlib.pyplot as plt\n",
    "import pickle\n",
    "from xgboost import XGBClassifier\n",
    "import xgboost as xgb\n",
    "from sklearn.linear_model import LogisticRegression"
   ]
  },
  {
   "cell_type": "code",
   "execution_count": 3,
   "id": "08b44ca1",
   "metadata": {},
   "outputs": [],
   "source": [
    "completed_non_ea_bibs = []\n",
    "completed_non_ea_text = []\n",
    "with open('.//data//non_ea_papers_text.txt', 'r', encoding=\"utf-8\") as f:\n",
    "    for line in f:\n",
    "        bib = line.split(\",\")[0].strip()\n",
    "        text = line.split(\",\")[1].strip()\n",
    "        completed_non_ea_bibs.append(bib)\n",
    "        completed_non_ea_text.append(text)\n",
    "n_neg = len(completed_non_ea_bibs)\n",
    "\n",
    "completed_ea_bibs = []\n",
    "completed_ea_text = []\n",
    "with open('.//data//ea_papers_text.txt', 'r', encoding=\"utf-8\") as f:\n",
    "    for line in f:\n",
    "        bib = line.split(\",\")[0].strip()\n",
    "        text = line.split(\",\")[1].strip()\n",
    "        completed_ea_bibs.append(bib)\n",
    "        completed_ea_text.append(text)\n",
    "n_pos = len(completed_ea_bibs)\n",
    "\n",
    "pos_training_corpus = pd.DataFrame({\"text\":completed_ea_text, \"label\":np.repeat(1, len(completed_ea_bibs))})\n",
    "neg_training_corpus = pd.DataFrame({\"text\":completed_non_ea_text, \"label\":np.repeat(0, len(completed_non_ea_bibs))})\n",
    "\n",
    "training_corpus = pd.concat([pos_training_corpus, neg_training_corpus])\n",
    "training_corpus = training_corpus.sample(frac=1, random_state=42).reset_index(drop=True)\n",
    "training_corpus[\"index\"] = training_corpus.index"
   ]
  },
  {
   "cell_type": "code",
   "execution_count": 4,
   "id": "a4c65267",
   "metadata": {},
   "outputs": [
    {
     "name": "stdout",
     "output_type": "stream",
     "text": [
      "3538 4025\n"
     ]
    }
   ],
   "source": [
    "print(n_pos, n_neg)"
   ]
  },
  {
   "cell_type": "code",
   "execution_count": 5,
   "id": "f2ccfff9",
   "metadata": {},
   "outputs": [
    {
     "data": {
      "text/html": [
       "<div>\n",
       "<style scoped>\n",
       "    .dataframe tbody tr th:only-of-type {\n",
       "        vertical-align: middle;\n",
       "    }\n",
       "\n",
       "    .dataframe tbody tr th {\n",
       "        vertical-align: top;\n",
       "    }\n",
       "\n",
       "    .dataframe thead th {\n",
       "        text-align: right;\n",
       "    }\n",
       "</style>\n",
       "<table border=\"1\" class=\"dataframe\">\n",
       "  <thead>\n",
       "    <tr style=\"text-align: right;\">\n",
       "      <th></th>\n",
       "      <th>text</th>\n",
       "      <th>label</th>\n",
       "      <th>index</th>\n",
       "    </tr>\n",
       "  </thead>\n",
       "  <tbody>\n",
       "    <tr>\n",
       "      <th>0</th>\n",
       "      <td>arxivastroph0403324v4  17 jul 2022dark matter ...</td>\n",
       "      <td>0</td>\n",
       "      <td>0</td>\n",
       "    </tr>\n",
       "    <tr>\n",
       "      <th>1</th>\n",
       "      <td>mon not r astron soc 000 19 0000 printed 20 au...</td>\n",
       "      <td>1</td>\n",
       "      <td>1</td>\n",
       "    </tr>\n",
       "    <tr>\n",
       "      <th>2</th>\n",
       "      <td>mon not r astron soc 427 3435–3467 2012 doi101...</td>\n",
       "      <td>0</td>\n",
       "      <td>2</td>\n",
       "    </tr>\n",
       "    <tr>\n",
       "      <th>3</th>\n",
       "      <td>astronomy astrophysics manuscript no hd20v2 ce...</td>\n",
       "      <td>1</td>\n",
       "      <td>3</td>\n",
       "    </tr>\n",
       "    <tr>\n",
       "      <th>4</th>\n",
       "      <td>the microphysics of collisionless shock wavesa...</td>\n",
       "      <td>0</td>\n",
       "      <td>4</td>\n",
       "    </tr>\n",
       "    <tr>\n",
       "      <th>...</th>\n",
       "      <td>...</td>\n",
       "      <td>...</td>\n",
       "      <td>...</td>\n",
       "    </tr>\n",
       "    <tr>\n",
       "      <th>7558</th>\n",
       "      <td>mon not r astron soc 360 869–891 2005 doi10111...</td>\n",
       "      <td>0</td>\n",
       "      <td>7558</td>\n",
       "    </tr>\n",
       "    <tr>\n",
       "      <th>7559</th>\n",
       "      <td>arxivastroph0508228v1  10 aug 2005adarkjetdomi...</td>\n",
       "      <td>0</td>\n",
       "      <td>7559</td>\n",
       "    </tr>\n",
       "    <tr>\n",
       "      <th>7560</th>\n",
       "      <td>1accepted for publication in nature20 october ...</td>\n",
       "      <td>0</td>\n",
       "      <td>7560</td>\n",
       "    </tr>\n",
       "    <tr>\n",
       "      <th>7561</th>\n",
       "      <td>arxiv11045230v3  astrophep  7 jul 2011accepted...</td>\n",
       "      <td>1</td>\n",
       "      <td>7561</td>\n",
       "    </tr>\n",
       "    <tr>\n",
       "      <th>7562</th>\n",
       "      <td>arxiv14067369v2  astrophhe  5 jul 2014parametr...</td>\n",
       "      <td>0</td>\n",
       "      <td>7562</td>\n",
       "    </tr>\n",
       "  </tbody>\n",
       "</table>\n",
       "<p>7563 rows × 3 columns</p>\n",
       "</div>"
      ],
      "text/plain": [
       "                                                   text  label  index\n",
       "0     arxivastroph0403324v4  17 jul 2022dark matter ...      0      0\n",
       "1     mon not r astron soc 000 19 0000 printed 20 au...      1      1\n",
       "2     mon not r astron soc 427 3435–3467 2012 doi101...      0      2\n",
       "3     astronomy astrophysics manuscript no hd20v2 ce...      1      3\n",
       "4     the microphysics of collisionless shock wavesa...      0      4\n",
       "...                                                 ...    ...    ...\n",
       "7558  mon not r astron soc 360 869–891 2005 doi10111...      0   7558\n",
       "7559  arxivastroph0508228v1  10 aug 2005adarkjetdomi...      0   7559\n",
       "7560  1accepted for publication in nature20 october ...      0   7560\n",
       "7561  arxiv11045230v3  astrophep  7 jul 2011accepted...      1   7561\n",
       "7562  arxiv14067369v2  astrophhe  5 jul 2014parametr...      0   7562\n",
       "\n",
       "[7563 rows x 3 columns]"
      ]
     },
     "execution_count": 5,
     "metadata": {},
     "output_type": "execute_result"
    }
   ],
   "source": [
    "training_corpus"
   ]
  },
  {
   "cell_type": "code",
   "execution_count": 6,
   "id": "6d7b1104",
   "metadata": {},
   "outputs": [],
   "source": [
    "stopWords = set(stopwords.words('english'))\n",
    "\n",
    "def tokenize_text(text):\n",
    "    tokens = []\n",
    "    for sentence in nltk.sent_tokenize(text):\n",
    "        for word in nltk.word_tokenize(sentence):\n",
    "            if len(word) < 2 or word in stopWords:\n",
    "                continue\n",
    "            tokens.append(word.lower())\n",
    "    return tokens\n",
    "\n",
    "# punctuation was removed and text was set to lower case earlier (Convert PDFs to Text.ipynb)\n",
    "\n",
    "# training_corpus_tagged = training_corpus.apply(lambda r: TaggedDocument(words=tokenize_text(r['text']), tags=[r[\"label\"]]), axis=1).tolist()"
   ]
  },
  {
   "cell_type": "code",
   "execution_count": 7,
   "id": "7bd9acaf",
   "metadata": {},
   "outputs": [],
   "source": [
    "fname = \".//models//doc2vec//model_dbow_vs_600_n_5_s_0.bin\"\n",
    "\n",
    "doc2vec_model = Doc2Vec.load(fname)"
   ]
  },
  {
   "cell_type": "code",
   "execution_count": 8,
   "id": "61e846e8",
   "metadata": {},
   "outputs": [],
   "source": [
    "# X, y = zip(*[(doc2vec_model.infer_vector(doc.words), doc.tags[0]) for doc in training_corpus_tagged])\n",
    "# df = pd.DataFrame(X)\n",
    "# df[\"label\"] = y\n",
    "# df.shape"
   ]
  },
  {
   "cell_type": "code",
   "execution_count": 9,
   "id": "94a9f190",
   "metadata": {},
   "outputs": [
    {
     "data": {
      "text/html": [
       "<div>\n",
       "<style scoped>\n",
       "    .dataframe tbody tr th:only-of-type {\n",
       "        vertical-align: middle;\n",
       "    }\n",
       "\n",
       "    .dataframe tbody tr th {\n",
       "        vertical-align: top;\n",
       "    }\n",
       "\n",
       "    .dataframe thead th {\n",
       "        text-align: right;\n",
       "    }\n",
       "</style>\n",
       "<table border=\"1\" class=\"dataframe\">\n",
       "  <thead>\n",
       "    <tr style=\"text-align: right;\">\n",
       "      <th></th>\n",
       "      <th>0</th>\n",
       "      <th>1</th>\n",
       "      <th>2</th>\n",
       "      <th>3</th>\n",
       "      <th>4</th>\n",
       "      <th>5</th>\n",
       "      <th>6</th>\n",
       "      <th>7</th>\n",
       "      <th>8</th>\n",
       "      <th>9</th>\n",
       "      <th>...</th>\n",
       "      <th>591</th>\n",
       "      <th>592</th>\n",
       "      <th>593</th>\n",
       "      <th>594</th>\n",
       "      <th>595</th>\n",
       "      <th>596</th>\n",
       "      <th>597</th>\n",
       "      <th>598</th>\n",
       "      <th>599</th>\n",
       "      <th>label</th>\n",
       "    </tr>\n",
       "  </thead>\n",
       "  <tbody>\n",
       "    <tr>\n",
       "      <th>0</th>\n",
       "      <td>-0.024851</td>\n",
       "      <td>-0.381951</td>\n",
       "      <td>-0.651674</td>\n",
       "      <td>0.553038</td>\n",
       "      <td>1.299930</td>\n",
       "      <td>1.031808</td>\n",
       "      <td>0.333705</td>\n",
       "      <td>-0.101893</td>\n",
       "      <td>0.053647</td>\n",
       "      <td>0.222175</td>\n",
       "      <td>...</td>\n",
       "      <td>0.421792</td>\n",
       "      <td>0.843307</td>\n",
       "      <td>0.379752</td>\n",
       "      <td>0.410750</td>\n",
       "      <td>-0.602648</td>\n",
       "      <td>0.904846</td>\n",
       "      <td>-0.157149</td>\n",
       "      <td>-0.013713</td>\n",
       "      <td>0.633879</td>\n",
       "      <td>0</td>\n",
       "    </tr>\n",
       "    <tr>\n",
       "      <th>1</th>\n",
       "      <td>0.388153</td>\n",
       "      <td>0.000402</td>\n",
       "      <td>0.285238</td>\n",
       "      <td>-1.093168</td>\n",
       "      <td>-0.517576</td>\n",
       "      <td>-0.442416</td>\n",
       "      <td>0.572925</td>\n",
       "      <td>-0.000812</td>\n",
       "      <td>-0.088989</td>\n",
       "      <td>0.351440</td>\n",
       "      <td>...</td>\n",
       "      <td>-0.067700</td>\n",
       "      <td>0.308366</td>\n",
       "      <td>-0.036528</td>\n",
       "      <td>0.238906</td>\n",
       "      <td>-0.149262</td>\n",
       "      <td>0.399019</td>\n",
       "      <td>0.196109</td>\n",
       "      <td>-0.883065</td>\n",
       "      <td>-0.541812</td>\n",
       "      <td>1</td>\n",
       "    </tr>\n",
       "    <tr>\n",
       "      <th>2</th>\n",
       "      <td>0.570890</td>\n",
       "      <td>-0.482221</td>\n",
       "      <td>-0.214128</td>\n",
       "      <td>-0.549572</td>\n",
       "      <td>-0.095529</td>\n",
       "      <td>0.389266</td>\n",
       "      <td>-0.176438</td>\n",
       "      <td>-0.252203</td>\n",
       "      <td>0.049001</td>\n",
       "      <td>-0.112858</td>\n",
       "      <td>...</td>\n",
       "      <td>0.731259</td>\n",
       "      <td>0.627417</td>\n",
       "      <td>-0.015409</td>\n",
       "      <td>0.238097</td>\n",
       "      <td>0.032458</td>\n",
       "      <td>0.268519</td>\n",
       "      <td>-0.307194</td>\n",
       "      <td>0.311125</td>\n",
       "      <td>-0.459251</td>\n",
       "      <td>0</td>\n",
       "    </tr>\n",
       "    <tr>\n",
       "      <th>3</th>\n",
       "      <td>-0.098389</td>\n",
       "      <td>-0.022716</td>\n",
       "      <td>-0.856276</td>\n",
       "      <td>-0.721896</td>\n",
       "      <td>-0.125313</td>\n",
       "      <td>0.093145</td>\n",
       "      <td>0.662419</td>\n",
       "      <td>-0.438362</td>\n",
       "      <td>0.227312</td>\n",
       "      <td>0.410582</td>\n",
       "      <td>...</td>\n",
       "      <td>0.232290</td>\n",
       "      <td>-0.118163</td>\n",
       "      <td>0.440777</td>\n",
       "      <td>-0.599077</td>\n",
       "      <td>0.119088</td>\n",
       "      <td>-0.006456</td>\n",
       "      <td>-0.144061</td>\n",
       "      <td>-0.186257</td>\n",
       "      <td>0.228160</td>\n",
       "      <td>1</td>\n",
       "    </tr>\n",
       "    <tr>\n",
       "      <th>4</th>\n",
       "      <td>-0.207901</td>\n",
       "      <td>-0.841178</td>\n",
       "      <td>0.095708</td>\n",
       "      <td>0.132864</td>\n",
       "      <td>0.298601</td>\n",
       "      <td>0.492365</td>\n",
       "      <td>-0.053234</td>\n",
       "      <td>0.299751</td>\n",
       "      <td>-0.317690</td>\n",
       "      <td>-0.691285</td>\n",
       "      <td>...</td>\n",
       "      <td>0.262907</td>\n",
       "      <td>0.732972</td>\n",
       "      <td>0.405798</td>\n",
       "      <td>0.046836</td>\n",
       "      <td>0.045763</td>\n",
       "      <td>-0.604552</td>\n",
       "      <td>0.789747</td>\n",
       "      <td>0.100230</td>\n",
       "      <td>0.029443</td>\n",
       "      <td>0</td>\n",
       "    </tr>\n",
       "  </tbody>\n",
       "</table>\n",
       "<p>5 rows × 601 columns</p>\n",
       "</div>"
      ],
      "text/plain": [
       "          0         1         2         3         4         5         6  \\\n",
       "0 -0.024851 -0.381951 -0.651674  0.553038  1.299930  1.031808  0.333705   \n",
       "1  0.388153  0.000402  0.285238 -1.093168 -0.517576 -0.442416  0.572925   \n",
       "2  0.570890 -0.482221 -0.214128 -0.549572 -0.095529  0.389266 -0.176438   \n",
       "3 -0.098389 -0.022716 -0.856276 -0.721896 -0.125313  0.093145  0.662419   \n",
       "4 -0.207901 -0.841178  0.095708  0.132864  0.298601  0.492365 -0.053234   \n",
       "\n",
       "          7         8         9  ...       591       592       593       594  \\\n",
       "0 -0.101893  0.053647  0.222175  ...  0.421792  0.843307  0.379752  0.410750   \n",
       "1 -0.000812 -0.088989  0.351440  ... -0.067700  0.308366 -0.036528  0.238906   \n",
       "2 -0.252203  0.049001 -0.112858  ...  0.731259  0.627417 -0.015409  0.238097   \n",
       "3 -0.438362  0.227312  0.410582  ...  0.232290 -0.118163  0.440777 -0.599077   \n",
       "4  0.299751 -0.317690 -0.691285  ...  0.262907  0.732972  0.405798  0.046836   \n",
       "\n",
       "        595       596       597       598       599  label  \n",
       "0 -0.602648  0.904846 -0.157149 -0.013713  0.633879      0  \n",
       "1 -0.149262  0.399019  0.196109 -0.883065 -0.541812      1  \n",
       "2  0.032458  0.268519 -0.307194  0.311125 -0.459251      0  \n",
       "3  0.119088 -0.006456 -0.144061 -0.186257  0.228160      1  \n",
       "4  0.045763 -0.604552  0.789747  0.100230  0.029443      0  \n",
       "\n",
       "[5 rows x 601 columns]"
      ]
     },
     "execution_count": 9,
     "metadata": {},
     "output_type": "execute_result"
    }
   ],
   "source": [
    "fname = \".//data//model_dbow_vs_600_n_5_s_0_inferred_training_data.csv\"\n",
    "# df.to_csv(fname)\n",
    "df = pd.read_csv(fname).drop(\"Unnamed: 0\", axis=1)\n",
    "df.head()"
   ]
  },
  {
   "cell_type": "code",
   "execution_count": 10,
   "id": "538fd9f7",
   "metadata": {},
   "outputs": [],
   "source": [
    "X = df.loc[:, df.columns != \"label\"]\n",
    "y = df[\"label\"]"
   ]
  },
  {
   "cell_type": "code",
   "execution_count": 11,
   "id": "5a7ba508",
   "metadata": {},
   "outputs": [],
   "source": [
    "X_train_valid, X_test, y_train_valid, y_test = train_test_split(X, y, test_size=0.1, random_state=42)"
   ]
  },
  {
   "cell_type": "code",
   "execution_count": 12,
   "id": "68643017",
   "metadata": {},
   "outputs": [],
   "source": [
    "# https://machinelearningmastery.com/cost-sensitive-svm-for-imbalanced-classification/\n",
    "# https://www.kdnuggets.com/2017/06/7-techniques-handle-imbalanced-data.html"
   ]
  },
  {
   "cell_type": "code",
   "execution_count": 13,
   "id": "97b25b4e",
   "metadata": {},
   "outputs": [],
   "source": [
    "# https://machinelearningmastery.com/tour-of-evaluation-metrics-for-imbalanced-classification/\n",
    "# https://towardsdatascience.com/multi-class-metrics-made-simple-part-ii-the-f1-score-ebe8b2c2ca1"
   ]
  },
  {
   "cell_type": "markdown",
   "id": "791de0b9",
   "metadata": {},
   "source": [
    "## Logistic Regression"
   ]
  },
  {
   "cell_type": "code",
   "execution_count": 14,
   "id": "01172c12",
   "metadata": {},
   "outputs": [
    {
     "ename": "KeyboardInterrupt",
     "evalue": "",
     "output_type": "error",
     "traceback": [
      "\u001b[1;31m---------------------------------------------------------------------------\u001b[0m",
      "\u001b[1;31mKeyboardInterrupt\u001b[0m                         Traceback (most recent call last)",
      "\u001b[1;32m~\\AppData\\Local\\Temp/ipykernel_6892/1761485993.py\u001b[0m in \u001b[0;36m<module>\u001b[1;34m\u001b[0m\n\u001b[0;32m      3\u001b[0m \u001b[0mlr_model\u001b[0m \u001b[1;33m=\u001b[0m \u001b[0mLogisticRegression\u001b[0m\u001b[1;33m(\u001b[0m\u001b[1;33m)\u001b[0m\u001b[1;33m\u001b[0m\u001b[1;33m\u001b[0m\u001b[0m\n\u001b[0;32m      4\u001b[0m \u001b[1;33m\u001b[0m\u001b[0m\n\u001b[1;32m----> 5\u001b[1;33m \u001b[0mauc_scores\u001b[0m \u001b[1;33m=\u001b[0m \u001b[0mcross_val_score\u001b[0m\u001b[1;33m(\u001b[0m\u001b[0mlr_model\u001b[0m\u001b[1;33m,\u001b[0m \u001b[0mX_train_valid\u001b[0m\u001b[1;33m,\u001b[0m \u001b[0my_train_valid\u001b[0m\u001b[1;33m,\u001b[0m \u001b[0mscoring\u001b[0m\u001b[1;33m=\u001b[0m\u001b[1;34m'roc_auc'\u001b[0m\u001b[1;33m,\u001b[0m \u001b[0mcv\u001b[0m\u001b[1;33m=\u001b[0m\u001b[0mcv\u001b[0m\u001b[1;33m,\u001b[0m \u001b[0mn_jobs\u001b[0m\u001b[1;33m=\u001b[0m\u001b[1;33m-\u001b[0m\u001b[1;36m1\u001b[0m\u001b[1;33m)\u001b[0m\u001b[1;33m\u001b[0m\u001b[1;33m\u001b[0m\u001b[0m\n\u001b[0m\u001b[0;32m      6\u001b[0m \u001b[0mprint\u001b[0m\u001b[1;33m(\u001b[0m\u001b[1;34m'Mean ROC AUC: %.3f'\u001b[0m \u001b[1;33m%\u001b[0m \u001b[0mnp\u001b[0m\u001b[1;33m.\u001b[0m\u001b[0mmean\u001b[0m\u001b[1;33m(\u001b[0m\u001b[0mauc_scores\u001b[0m\u001b[1;33m)\u001b[0m\u001b[1;33m)\u001b[0m\u001b[1;33m\u001b[0m\u001b[1;33m\u001b[0m\u001b[0m\n",
      "\u001b[1;32m~\\anaconda3\\envs\\caltech\\lib\\site-packages\\sklearn\\model_selection\\_validation.py\u001b[0m in \u001b[0;36mcross_val_score\u001b[1;34m(estimator, X, y, groups, scoring, cv, n_jobs, verbose, fit_params, pre_dispatch, error_score)\u001b[0m\n\u001b[0;32m    507\u001b[0m     \u001b[0mscorer\u001b[0m \u001b[1;33m=\u001b[0m \u001b[0mcheck_scoring\u001b[0m\u001b[1;33m(\u001b[0m\u001b[0mestimator\u001b[0m\u001b[1;33m,\u001b[0m \u001b[0mscoring\u001b[0m\u001b[1;33m=\u001b[0m\u001b[0mscoring\u001b[0m\u001b[1;33m)\u001b[0m\u001b[1;33m\u001b[0m\u001b[1;33m\u001b[0m\u001b[0m\n\u001b[0;32m    508\u001b[0m \u001b[1;33m\u001b[0m\u001b[0m\n\u001b[1;32m--> 509\u001b[1;33m     cv_results = cross_validate(\n\u001b[0m\u001b[0;32m    510\u001b[0m         \u001b[0mestimator\u001b[0m\u001b[1;33m=\u001b[0m\u001b[0mestimator\u001b[0m\u001b[1;33m,\u001b[0m\u001b[1;33m\u001b[0m\u001b[1;33m\u001b[0m\u001b[0m\n\u001b[0;32m    511\u001b[0m         \u001b[0mX\u001b[0m\u001b[1;33m=\u001b[0m\u001b[0mX\u001b[0m\u001b[1;33m,\u001b[0m\u001b[1;33m\u001b[0m\u001b[1;33m\u001b[0m\u001b[0m\n",
      "\u001b[1;32m~\\anaconda3\\envs\\caltech\\lib\\site-packages\\sklearn\\model_selection\\_validation.py\u001b[0m in \u001b[0;36mcross_validate\u001b[1;34m(estimator, X, y, groups, scoring, cv, n_jobs, verbose, fit_params, pre_dispatch, return_train_score, return_estimator, error_score)\u001b[0m\n\u001b[0;32m    265\u001b[0m     \u001b[1;31m# independent, and that it is pickle-able.\u001b[0m\u001b[1;33m\u001b[0m\u001b[1;33m\u001b[0m\u001b[1;33m\u001b[0m\u001b[0m\n\u001b[0;32m    266\u001b[0m     \u001b[0mparallel\u001b[0m \u001b[1;33m=\u001b[0m \u001b[0mParallel\u001b[0m\u001b[1;33m(\u001b[0m\u001b[0mn_jobs\u001b[0m\u001b[1;33m=\u001b[0m\u001b[0mn_jobs\u001b[0m\u001b[1;33m,\u001b[0m \u001b[0mverbose\u001b[0m\u001b[1;33m=\u001b[0m\u001b[0mverbose\u001b[0m\u001b[1;33m,\u001b[0m \u001b[0mpre_dispatch\u001b[0m\u001b[1;33m=\u001b[0m\u001b[0mpre_dispatch\u001b[0m\u001b[1;33m)\u001b[0m\u001b[1;33m\u001b[0m\u001b[1;33m\u001b[0m\u001b[0m\n\u001b[1;32m--> 267\u001b[1;33m     results = parallel(\n\u001b[0m\u001b[0;32m    268\u001b[0m         delayed(_fit_and_score)(\n\u001b[0;32m    269\u001b[0m             \u001b[0mclone\u001b[0m\u001b[1;33m(\u001b[0m\u001b[0mestimator\u001b[0m\u001b[1;33m)\u001b[0m\u001b[1;33m,\u001b[0m\u001b[1;33m\u001b[0m\u001b[1;33m\u001b[0m\u001b[0m\n",
      "\u001b[1;32m~\\anaconda3\\envs\\caltech\\lib\\site-packages\\joblib\\parallel.py\u001b[0m in \u001b[0;36m__call__\u001b[1;34m(self, iterable)\u001b[0m\n\u001b[0;32m   1054\u001b[0m \u001b[1;33m\u001b[0m\u001b[0m\n\u001b[0;32m   1055\u001b[0m             \u001b[1;32mwith\u001b[0m \u001b[0mself\u001b[0m\u001b[1;33m.\u001b[0m\u001b[0m_backend\u001b[0m\u001b[1;33m.\u001b[0m\u001b[0mretrieval_context\u001b[0m\u001b[1;33m(\u001b[0m\u001b[1;33m)\u001b[0m\u001b[1;33m:\u001b[0m\u001b[1;33m\u001b[0m\u001b[1;33m\u001b[0m\u001b[0m\n\u001b[1;32m-> 1056\u001b[1;33m                 \u001b[0mself\u001b[0m\u001b[1;33m.\u001b[0m\u001b[0mretrieve\u001b[0m\u001b[1;33m(\u001b[0m\u001b[1;33m)\u001b[0m\u001b[1;33m\u001b[0m\u001b[1;33m\u001b[0m\u001b[0m\n\u001b[0m\u001b[0;32m   1057\u001b[0m             \u001b[1;31m# Make sure that we get a last message telling us we are done\u001b[0m\u001b[1;33m\u001b[0m\u001b[1;33m\u001b[0m\u001b[1;33m\u001b[0m\u001b[0m\n\u001b[0;32m   1058\u001b[0m             \u001b[0melapsed_time\u001b[0m \u001b[1;33m=\u001b[0m \u001b[0mtime\u001b[0m\u001b[1;33m.\u001b[0m\u001b[0mtime\u001b[0m\u001b[1;33m(\u001b[0m\u001b[1;33m)\u001b[0m \u001b[1;33m-\u001b[0m \u001b[0mself\u001b[0m\u001b[1;33m.\u001b[0m\u001b[0m_start_time\u001b[0m\u001b[1;33m\u001b[0m\u001b[1;33m\u001b[0m\u001b[0m\n",
      "\u001b[1;32m~\\anaconda3\\envs\\caltech\\lib\\site-packages\\joblib\\parallel.py\u001b[0m in \u001b[0;36mretrieve\u001b[1;34m(self)\u001b[0m\n\u001b[0;32m    933\u001b[0m             \u001b[1;32mtry\u001b[0m\u001b[1;33m:\u001b[0m\u001b[1;33m\u001b[0m\u001b[1;33m\u001b[0m\u001b[0m\n\u001b[0;32m    934\u001b[0m                 \u001b[1;32mif\u001b[0m \u001b[0mgetattr\u001b[0m\u001b[1;33m(\u001b[0m\u001b[0mself\u001b[0m\u001b[1;33m.\u001b[0m\u001b[0m_backend\u001b[0m\u001b[1;33m,\u001b[0m \u001b[1;34m'supports_timeout'\u001b[0m\u001b[1;33m,\u001b[0m \u001b[1;32mFalse\u001b[0m\u001b[1;33m)\u001b[0m\u001b[1;33m:\u001b[0m\u001b[1;33m\u001b[0m\u001b[1;33m\u001b[0m\u001b[0m\n\u001b[1;32m--> 935\u001b[1;33m                     \u001b[0mself\u001b[0m\u001b[1;33m.\u001b[0m\u001b[0m_output\u001b[0m\u001b[1;33m.\u001b[0m\u001b[0mextend\u001b[0m\u001b[1;33m(\u001b[0m\u001b[0mjob\u001b[0m\u001b[1;33m.\u001b[0m\u001b[0mget\u001b[0m\u001b[1;33m(\u001b[0m\u001b[0mtimeout\u001b[0m\u001b[1;33m=\u001b[0m\u001b[0mself\u001b[0m\u001b[1;33m.\u001b[0m\u001b[0mtimeout\u001b[0m\u001b[1;33m)\u001b[0m\u001b[1;33m)\u001b[0m\u001b[1;33m\u001b[0m\u001b[1;33m\u001b[0m\u001b[0m\n\u001b[0m\u001b[0;32m    936\u001b[0m                 \u001b[1;32melse\u001b[0m\u001b[1;33m:\u001b[0m\u001b[1;33m\u001b[0m\u001b[1;33m\u001b[0m\u001b[0m\n\u001b[0;32m    937\u001b[0m                     \u001b[0mself\u001b[0m\u001b[1;33m.\u001b[0m\u001b[0m_output\u001b[0m\u001b[1;33m.\u001b[0m\u001b[0mextend\u001b[0m\u001b[1;33m(\u001b[0m\u001b[0mjob\u001b[0m\u001b[1;33m.\u001b[0m\u001b[0mget\u001b[0m\u001b[1;33m(\u001b[0m\u001b[1;33m)\u001b[0m\u001b[1;33m)\u001b[0m\u001b[1;33m\u001b[0m\u001b[1;33m\u001b[0m\u001b[0m\n",
      "\u001b[1;32m~\\anaconda3\\envs\\caltech\\lib\\site-packages\\joblib\\_parallel_backends.py\u001b[0m in \u001b[0;36mwrap_future_result\u001b[1;34m(future, timeout)\u001b[0m\n\u001b[0;32m    540\u001b[0m         AsyncResults.get from multiprocessing.\"\"\"\n\u001b[0;32m    541\u001b[0m         \u001b[1;32mtry\u001b[0m\u001b[1;33m:\u001b[0m\u001b[1;33m\u001b[0m\u001b[1;33m\u001b[0m\u001b[0m\n\u001b[1;32m--> 542\u001b[1;33m             \u001b[1;32mreturn\u001b[0m \u001b[0mfuture\u001b[0m\u001b[1;33m.\u001b[0m\u001b[0mresult\u001b[0m\u001b[1;33m(\u001b[0m\u001b[0mtimeout\u001b[0m\u001b[1;33m=\u001b[0m\u001b[0mtimeout\u001b[0m\u001b[1;33m)\u001b[0m\u001b[1;33m\u001b[0m\u001b[1;33m\u001b[0m\u001b[0m\n\u001b[0m\u001b[0;32m    543\u001b[0m         \u001b[1;32mexcept\u001b[0m \u001b[0mCfTimeoutError\u001b[0m \u001b[1;32mas\u001b[0m \u001b[0me\u001b[0m\u001b[1;33m:\u001b[0m\u001b[1;33m\u001b[0m\u001b[1;33m\u001b[0m\u001b[0m\n\u001b[0;32m    544\u001b[0m             \u001b[1;32mraise\u001b[0m \u001b[0mTimeoutError\u001b[0m \u001b[1;32mfrom\u001b[0m \u001b[0me\u001b[0m\u001b[1;33m\u001b[0m\u001b[1;33m\u001b[0m\u001b[0m\n",
      "\u001b[1;32m~\\anaconda3\\envs\\caltech\\lib\\concurrent\\futures\\_base.py\u001b[0m in \u001b[0;36mresult\u001b[1;34m(self, timeout)\u001b[0m\n\u001b[0;32m    432\u001b[0m                 \u001b[1;32mreturn\u001b[0m \u001b[0mself\u001b[0m\u001b[1;33m.\u001b[0m\u001b[0m__get_result\u001b[0m\u001b[1;33m(\u001b[0m\u001b[1;33m)\u001b[0m\u001b[1;33m\u001b[0m\u001b[1;33m\u001b[0m\u001b[0m\n\u001b[0;32m    433\u001b[0m \u001b[1;33m\u001b[0m\u001b[0m\n\u001b[1;32m--> 434\u001b[1;33m             \u001b[0mself\u001b[0m\u001b[1;33m.\u001b[0m\u001b[0m_condition\u001b[0m\u001b[1;33m.\u001b[0m\u001b[0mwait\u001b[0m\u001b[1;33m(\u001b[0m\u001b[0mtimeout\u001b[0m\u001b[1;33m)\u001b[0m\u001b[1;33m\u001b[0m\u001b[1;33m\u001b[0m\u001b[0m\n\u001b[0m\u001b[0;32m    435\u001b[0m \u001b[1;33m\u001b[0m\u001b[0m\n\u001b[0;32m    436\u001b[0m             \u001b[1;32mif\u001b[0m \u001b[0mself\u001b[0m\u001b[1;33m.\u001b[0m\u001b[0m_state\u001b[0m \u001b[1;32min\u001b[0m \u001b[1;33m[\u001b[0m\u001b[0mCANCELLED\u001b[0m\u001b[1;33m,\u001b[0m \u001b[0mCANCELLED_AND_NOTIFIED\u001b[0m\u001b[1;33m]\u001b[0m\u001b[1;33m:\u001b[0m\u001b[1;33m\u001b[0m\u001b[1;33m\u001b[0m\u001b[0m\n",
      "\u001b[1;32m~\\anaconda3\\envs\\caltech\\lib\\threading.py\u001b[0m in \u001b[0;36mwait\u001b[1;34m(self, timeout)\u001b[0m\n\u001b[0;32m    300\u001b[0m         \u001b[1;32mtry\u001b[0m\u001b[1;33m:\u001b[0m    \u001b[1;31m# restore state no matter what (e.g., KeyboardInterrupt)\u001b[0m\u001b[1;33m\u001b[0m\u001b[1;33m\u001b[0m\u001b[0m\n\u001b[0;32m    301\u001b[0m             \u001b[1;32mif\u001b[0m \u001b[0mtimeout\u001b[0m \u001b[1;32mis\u001b[0m \u001b[1;32mNone\u001b[0m\u001b[1;33m:\u001b[0m\u001b[1;33m\u001b[0m\u001b[1;33m\u001b[0m\u001b[0m\n\u001b[1;32m--> 302\u001b[1;33m                 \u001b[0mwaiter\u001b[0m\u001b[1;33m.\u001b[0m\u001b[0macquire\u001b[0m\u001b[1;33m(\u001b[0m\u001b[1;33m)\u001b[0m\u001b[1;33m\u001b[0m\u001b[1;33m\u001b[0m\u001b[0m\n\u001b[0m\u001b[0;32m    303\u001b[0m                 \u001b[0mgotit\u001b[0m \u001b[1;33m=\u001b[0m \u001b[1;32mTrue\u001b[0m\u001b[1;33m\u001b[0m\u001b[1;33m\u001b[0m\u001b[0m\n\u001b[0;32m    304\u001b[0m             \u001b[1;32melse\u001b[0m\u001b[1;33m:\u001b[0m\u001b[1;33m\u001b[0m\u001b[1;33m\u001b[0m\u001b[0m\n",
      "\u001b[1;31mKeyboardInterrupt\u001b[0m: "
     ]
    }
   ],
   "source": [
    "cv = RepeatedStratifiedKFold(n_splits=10, random_state=42)\n",
    "\n",
    "lr_model = LogisticRegression()\n",
    "\n",
    "auc_scores = cross_val_score(lr_model, X_train_valid, y_train_valid, scoring='roc_auc', cv=cv, n_jobs=-1)\n",
    "print('Mean ROC AUC: %.3f' % np.mean(auc_scores))"
   ]
  },
  {
   "cell_type": "code",
   "execution_count": 32,
   "id": "da248bf3",
   "metadata": {},
   "outputs": [
    {
     "name": "stdout",
     "output_type": "stream",
     "text": [
      "Fitting 10 folds for each of 18000 candidates, totalling 180000 fits\n"
     ]
    },
    {
     "name": "stderr",
     "output_type": "stream",
     "text": [
      "C:\\Users\\nsuse\\anaconda3\\lib\\site-packages\\sklearn\\model_selection\\_validation.py:372: FitFailedWarning: \n",
      "70000 fits failed out of a total of 180000.\n",
      "The score on these train-test partitions for these parameters will be set to nan.\n",
      "If these failures are not expected, you can try to debug them by setting error_score='raise'.\n",
      "\n",
      "Below are more details about the failures:\n",
      "--------------------------------------------------------------------------------\n",
      "20000 fits failed with the following error:\n",
      "Traceback (most recent call last):\n",
      "  File \"C:\\Users\\nsuse\\anaconda3\\lib\\site-packages\\sklearn\\model_selection\\_validation.py\", line 680, in _fit_and_score\n",
      "    estimator.fit(X_train, y_train, **fit_params)\n",
      "  File \"C:\\Users\\nsuse\\anaconda3\\lib\\site-packages\\sklearn\\linear_model\\_logistic.py\", line 1461, in fit\n",
      "    solver = _check_solver(self.solver, self.penalty, self.dual)\n",
      "  File \"C:\\Users\\nsuse\\anaconda3\\lib\\site-packages\\sklearn\\linear_model\\_logistic.py\", line 447, in _check_solver\n",
      "    raise ValueError(\n",
      "ValueError: Solver lbfgs supports only 'l2' or 'none' penalties, got l1 penalty.\n",
      "\n",
      "--------------------------------------------------------------------------------\n",
      "4000 fits failed with the following error:\n",
      "Traceback (most recent call last):\n",
      "  File \"C:\\Users\\nsuse\\anaconda3\\lib\\site-packages\\sklearn\\model_selection\\_validation.py\", line 680, in _fit_and_score\n",
      "    estimator.fit(X_train, y_train, **fit_params)\n",
      "  File \"C:\\Users\\nsuse\\anaconda3\\lib\\site-packages\\sklearn\\linear_model\\_logistic.py\", line 1528, in fit\n",
      "    self.coef_, self.intercept_, n_iter_ = _fit_liblinear(\n",
      "  File \"C:\\Users\\nsuse\\anaconda3\\lib\\site-packages\\sklearn\\svm\\_base.py\", line 1186, in _fit_liblinear\n",
      "    raw_coef_, n_iter_ = liblinear.train_wrap(\n",
      "  File \"sklearn\\svm\\_liblinear.pyx\", line 52, in sklearn.svm._liblinear.train_wrap\n",
      "ValueError: b'C <= 0'\n",
      "\n",
      "--------------------------------------------------------------------------------\n",
      "2000 fits failed with the following error:\n",
      "Traceback (most recent call last):\n",
      "  File \"C:\\Users\\nsuse\\anaconda3\\lib\\site-packages\\sklearn\\model_selection\\_validation.py\", line 680, in _fit_and_score\n",
      "    estimator.fit(X_train, y_train, **fit_params)\n",
      "  File \"C:\\Users\\nsuse\\anaconda3\\lib\\site-packages\\sklearn\\linear_model\\_logistic.py\", line 1589, in fit\n",
      "    fold_coefs_ = Parallel(\n",
      "  File \"C:\\Users\\nsuse\\anaconda3\\lib\\site-packages\\joblib\\parallel.py\", line 1043, in __call__\n",
      "    if self.dispatch_one_batch(iterator):\n",
      "  File \"C:\\Users\\nsuse\\anaconda3\\lib\\site-packages\\joblib\\parallel.py\", line 861, in dispatch_one_batch\n",
      "    self._dispatch(tasks)\n",
      "  File \"C:\\Users\\nsuse\\anaconda3\\lib\\site-packages\\joblib\\parallel.py\", line 779, in _dispatch\n",
      "    job = self._backend.apply_async(batch, callback=cb)\n",
      "  File \"C:\\Users\\nsuse\\anaconda3\\lib\\site-packages\\joblib\\_parallel_backends.py\", line 208, in apply_async\n",
      "    result = ImmediateResult(func)\n",
      "  File \"C:\\Users\\nsuse\\anaconda3\\lib\\site-packages\\joblib\\_parallel_backends.py\", line 572, in __init__\n",
      "    self.results = batch()\n",
      "  File \"C:\\Users\\nsuse\\anaconda3\\lib\\site-packages\\joblib\\parallel.py\", line 262, in __call__\n",
      "    return [func(*args, **kwargs)\n",
      "  File \"C:\\Users\\nsuse\\anaconda3\\lib\\site-packages\\joblib\\parallel.py\", line 262, in <listcomp>\n",
      "    return [func(*args, **kwargs)\n",
      "  File \"C:\\Users\\nsuse\\anaconda3\\lib\\site-packages\\sklearn\\utils\\fixes.py\", line 216, in __call__\n",
      "    return self.function(*args, **kwargs)\n",
      "  File \"C:\\Users\\nsuse\\anaconda3\\lib\\site-packages\\sklearn\\linear_model\\_logistic.py\", line 806, in _logistic_regression_path\n",
      "    opt_res = optimize.minimize(\n",
      "  File \"C:\\Users\\nsuse\\anaconda3\\lib\\site-packages\\scipy\\optimize\\_minimize.py\", line 623, in minimize\n",
      "    return _minimize_lbfgsb(fun, x0, args, jac, bounds,\n",
      "  File \"C:\\Users\\nsuse\\anaconda3\\lib\\site-packages\\scipy\\optimize\\lbfgsb.py\", line 360, in _minimize_lbfgsb\n",
      "    f, g = func_and_grad(x)\n",
      "  File \"C:\\Users\\nsuse\\anaconda3\\lib\\site-packages\\scipy\\optimize\\_differentiable_functions.py\", line 267, in fun_and_grad\n",
      "    self._update_fun()\n",
      "  File \"C:\\Users\\nsuse\\anaconda3\\lib\\site-packages\\scipy\\optimize\\_differentiable_functions.py\", line 233, in _update_fun\n",
      "    self._update_fun_impl()\n",
      "  File \"C:\\Users\\nsuse\\anaconda3\\lib\\site-packages\\scipy\\optimize\\_differentiable_functions.py\", line 137, in update_fun\n",
      "    self.f = fun_wrapped(self.x)\n",
      "  File \"C:\\Users\\nsuse\\anaconda3\\lib\\site-packages\\scipy\\optimize\\_differentiable_functions.py\", line 134, in fun_wrapped\n",
      "    return fun(np.copy(x), *args)\n",
      "  File \"C:\\Users\\nsuse\\anaconda3\\lib\\site-packages\\scipy\\optimize\\optimize.py\", line 74, in __call__\n",
      "    self._compute_if_needed(x, *args)\n",
      "  File \"C:\\Users\\nsuse\\anaconda3\\lib\\site-packages\\scipy\\optimize\\optimize.py\", line 68, in _compute_if_needed\n",
      "    fg = self.fun(x, *args)\n",
      "  File \"C:\\Users\\nsuse\\anaconda3\\lib\\site-packages\\sklearn\\linear_model\\_logistic.py\", line 122, in _logistic_loss_and_grad\n",
      "    out = -np.sum(sample_weight * log_logistic(yz)) + 0.5 * alpha * np.dot(w, w)\n",
      "  File \"C:\\Users\\nsuse\\anaconda3\\lib\\site-packages\\sklearn\\utils\\extmath.py\", line 785, in log_logistic\n",
      "    X = check_array(X, dtype=np.float64)\n",
      "  File \"C:\\Users\\nsuse\\anaconda3\\lib\\site-packages\\sklearn\\utils\\validation.py\", line 800, in check_array\n",
      "    _assert_all_finite(array, allow_nan=force_all_finite == \"allow-nan\")\n",
      "  File \"C:\\Users\\nsuse\\anaconda3\\lib\\site-packages\\sklearn\\utils\\validation.py\", line 114, in _assert_all_finite\n",
      "    raise ValueError(\n",
      "ValueError: Input contains NaN, infinity or a value too large for dtype('float64').\n",
      "\n",
      "--------------------------------------------------------------------------------\n",
      "4000 fits failed with the following error:\n",
      "Traceback (most recent call last):\n",
      "  File \"C:\\Users\\nsuse\\anaconda3\\lib\\site-packages\\sklearn\\model_selection\\_validation.py\", line 680, in _fit_and_score\n",
      "    estimator.fit(X_train, y_train, **fit_params)\n",
      "  File \"C:\\Users\\nsuse\\anaconda3\\lib\\site-packages\\sklearn\\linear_model\\_logistic.py\", line 1589, in fit\n",
      "    fold_coefs_ = Parallel(\n",
      "  File \"C:\\Users\\nsuse\\anaconda3\\lib\\site-packages\\joblib\\parallel.py\", line 1043, in __call__\n",
      "    if self.dispatch_one_batch(iterator):\n",
      "  File \"C:\\Users\\nsuse\\anaconda3\\lib\\site-packages\\joblib\\parallel.py\", line 861, in dispatch_one_batch\n",
      "    self._dispatch(tasks)\n",
      "  File \"C:\\Users\\nsuse\\anaconda3\\lib\\site-packages\\joblib\\parallel.py\", line 779, in _dispatch\n",
      "    job = self._backend.apply_async(batch, callback=cb)\n",
      "  File \"C:\\Users\\nsuse\\anaconda3\\lib\\site-packages\\joblib\\_parallel_backends.py\", line 208, in apply_async\n",
      "    result = ImmediateResult(func)\n",
      "  File \"C:\\Users\\nsuse\\anaconda3\\lib\\site-packages\\joblib\\_parallel_backends.py\", line 572, in __init__\n",
      "    self.results = batch()\n",
      "  File \"C:\\Users\\nsuse\\anaconda3\\lib\\site-packages\\joblib\\parallel.py\", line 262, in __call__\n",
      "    return [func(*args, **kwargs)\n",
      "  File \"C:\\Users\\nsuse\\anaconda3\\lib\\site-packages\\joblib\\parallel.py\", line 262, in <listcomp>\n",
      "    return [func(*args, **kwargs)\n",
      "  File \"C:\\Users\\nsuse\\anaconda3\\lib\\site-packages\\sklearn\\utils\\fixes.py\", line 216, in __call__\n",
      "    return self.function(*args, **kwargs)\n",
      "  File \"C:\\Users\\nsuse\\anaconda3\\lib\\site-packages\\sklearn\\linear_model\\_logistic.py\", line 864, in _logistic_regression_path\n",
      "    w0, n_iter_i, warm_start_sag = sag_solver(\n",
      "  File \"C:\\Users\\nsuse\\anaconda3\\lib\\site-packages\\sklearn\\linear_model\\_sag.py\", line 327, in sag_solver\n",
      "    num_seen, n_iter_ = sag(\n",
      "  File \"sklearn\\linear_model\\_sag_fast.pyx\", line 616, in sklearn.linear_model._sag_fast.sag64\n",
      "ValueError: Floating-point under-/overflow occurred at epoch #1. Scaling input data with StandardScaler or MinMaxScaler might help.\n",
      "\n",
      "--------------------------------------------------------------------------------\n",
      "20000 fits failed with the following error:\n",
      "Traceback (most recent call last):\n",
      "  File \"C:\\Users\\nsuse\\anaconda3\\lib\\site-packages\\sklearn\\model_selection\\_validation.py\", line 680, in _fit_and_score\n",
      "    estimator.fit(X_train, y_train, **fit_params)\n",
      "  File \"C:\\Users\\nsuse\\anaconda3\\lib\\site-packages\\sklearn\\linear_model\\_logistic.py\", line 1461, in fit\n",
      "    solver = _check_solver(self.solver, self.penalty, self.dual)\n",
      "  File \"C:\\Users\\nsuse\\anaconda3\\lib\\site-packages\\sklearn\\linear_model\\_logistic.py\", line 447, in _check_solver\n",
      "    raise ValueError(\n",
      "ValueError: Solver lbfgs supports only 'l2' or 'none' penalties, got elasticnet penalty.\n",
      "\n",
      "--------------------------------------------------------------------------------\n",
      "20000 fits failed with the following error:\n",
      "Traceback (most recent call last):\n",
      "  File \"C:\\Users\\nsuse\\anaconda3\\lib\\site-packages\\sklearn\\model_selection\\_validation.py\", line 680, in _fit_and_score\n",
      "    estimator.fit(X_train, y_train, **fit_params)\n",
      "  File \"C:\\Users\\nsuse\\anaconda3\\lib\\site-packages\\sklearn\\linear_model\\_logistic.py\", line 1461, in fit\n",
      "    solver = _check_solver(self.solver, self.penalty, self.dual)\n",
      "  File \"C:\\Users\\nsuse\\anaconda3\\lib\\site-packages\\sklearn\\linear_model\\_logistic.py\", line 457, in _check_solver\n",
      "    raise ValueError(\n",
      "ValueError: Only 'saga' solver supports elasticnet penalty, got solver=liblinear.\n",
      "\n",
      "  warnings.warn(some_fits_failed_message, FitFailedWarning)\n"
     ]
    },
    {
     "name": "stderr",
     "output_type": "stream",
     "text": [
      "C:\\Users\\nsuse\\anaconda3\\lib\\site-packages\\sklearn\\model_selection\\_search.py:969: UserWarning: One or more of the test scores are non-finite: [nan nan nan ... nan nan nan]\n",
      "  warnings.warn(\n",
      "C:\\Users\\nsuse\\anaconda3\\lib\\site-packages\\sklearn\\linear_model\\_logistic.py:1476: UserWarning: l1_ratio parameter is only used when penalty is 'elasticnet'. Got (penalty=l2)\n",
      "  warnings.warn(\n"
     ]
    },
    {
     "name": "stdout",
     "output_type": "stream",
     "text": [
      "0.9974125751105604\n",
      "{'C': 0.1111111111111111, 'class_weight': 'balanced', 'l1_ratio': 0.3333333333333333, 'penalty': 'l2', 'solver': 'saga', 'tol': 0.3593813663804626}\n"
     ]
    }
   ],
   "source": [
    "param_grid = { \n",
    "    \"penalty\": [\"l1\", \"l2\", \"elasticnet\"],\n",
    "    \"tol\": np.logspace(-4, 4, 10),\n",
    "    \"C\": np.linspace(0, 1, 10),\n",
    "    \"class_weight\": [\"balanced\", None],\n",
    "    \"solver\": ['lbfgs', 'saga', 'liblinear'],\n",
    "    \"l1_ratio\": np.linspace(0, 1, 10)\n",
    "    }\n",
    "# 0.9974125751105604\n",
    "# {'C': 0.1111111111111111, 'class_weight': 'balanced', 'l1_ratio': 0.3333333333333333, 'penalty': 'l2', 'solver': 'saga', 'tol': 0.3593813663804626}\n",
    "\n",
    "lr_model = LogisticRegression()\n",
    "cv = RepeatedStratifiedKFold(n_splits=5, n_repeats=2, random_state=42)\n",
    "\n",
    "grid_search = GridSearchCV(estimator=lr_model, param_grid=param_grid, scoring='roc_auc', n_jobs=-1, cv=cv, verbose=2)\n",
    "grid_result = grid_search.fit(X_train_valid, y_train_valid)\n",
    "\n",
    "print(grid_result.best_score_)\n",
    "print(grid_result.best_params_)"
   ]
  },
  {
   "cell_type": "code",
   "execution_count": 38,
   "id": "923699aa",
   "metadata": {},
   "outputs": [
    {
     "name": "stdout",
     "output_type": "stream",
     "text": [
      "0.9970773727118905\n",
      "0.9841479524438573\n"
     ]
    }
   ],
   "source": [
    "best_penalty = 'l2'\n",
    "best_tol = 0.3593813663804626\n",
    "best_C = 0.1111111111111111\n",
    "best_class_weight = 'balanced'\n",
    "best_solver = 'saga'\n",
    "best_l1_ratio = 0.3333333333333333\n",
    "\n",
    "final_lr_model = LogisticRegression(penalty=best_penalty, tol=best_tol, C=best_C, class_weight=best_class_weight, solver=best_solver)\n",
    "final_lr_model.fit(X_train_valid.values, y_train_valid.values)\n",
    "\n",
    "preds = final_lr_model.predict(X_test.values)\n",
    "probs = final_lr_model.predict_proba(X_test.values)\n",
    "\n",
    "fpr, tpr, thresholds = metrics.roc_curve(y_test.values, probs[:,1])\n",
    "auc = metrics.auc(fpr, tpr)\n",
    "print(auc)\n",
    "\n",
    "acc = final_lr_model.score(X_test.values, y_test.values)\n",
    "print(acc)\n",
    "\n",
    "# i get a higher acc when i define an l1_ratio while using penalty='l2' than without an l1_ratio even though l1_ratio isnt used\n",
    "\n",
    "# with l1_ratio\n",
    "# 0.9972941225825397\n",
    "# 0.9801849405548216\n",
    "\n",
    "# without l1_ratio\n",
    "# 0.9970773727118905\n",
    "# 0.9841479524438573\n",
    "\n",
    "# actually theres just some randomness in training"
   ]
  },
  {
   "cell_type": "code",
   "execution_count": 17,
   "id": "dde7b6ef",
   "metadata": {},
   "outputs": [],
   "source": [
    "best_penalty = 'l2'\n",
    "best_tol = 0.3593813663804626\n",
    "best_C = 0.1111111111111111\n",
    "best_class_weight = 'balanced'\n",
    "best_solver = 'saga'\n",
    "best_l1_ratio = 0.3333333333333333\n",
    "\n",
    "final_lr_model = LogisticRegression(penalty=best_penalty, tol=best_tol, C=best_C, class_weight=best_class_weight, solver=best_solver, random_state=42)\n",
    "final_lr_model.fit(X.values, y.values)\n",
    "\n",
    "fname = \".//models//classifiers//lr.sav\"\n",
    "pickle.dump(final_lr_model, open(fname, 'wb'))"
   ]
  },
  {
   "cell_type": "code",
   "execution_count": 19,
   "id": "3597c140",
   "metadata": {},
   "outputs": [],
   "source": [
    "probs = final_lr_model.predict_proba(X.values)\n",
    "ea_probs = [prob[1] for prob in probs]\n",
    "np.save(\"lr_training_probs.npy\", ea_probs)"
   ]
  },
  {
   "cell_type": "markdown",
   "id": "47bcf9b5",
   "metadata": {},
   "source": [
    "## XGB"
   ]
  },
  {
   "cell_type": "code",
   "execution_count": 10,
   "id": "e48755d4",
   "metadata": {},
   "outputs": [
    {
     "name": "stdout",
     "output_type": "stream",
     "text": [
      "Mean ROC AUC: 0.984\n"
     ]
    }
   ],
   "source": [
    "cv = RepeatedStratifiedKFold(n_splits=10, random_state=42)\n",
    "\n",
    "xgb_model = XGBClassifier(objective=\"binary:logistic\")\n",
    "\n",
    "auc_scores = cross_val_score(xgb_model, X_train_valid, y_train_valid, scoring='roc_auc', cv=cv, n_jobs=-1)\n",
    "print('Mean ROC AUC: %.3f' % np.mean(auc_scores))"
   ]
  },
  {
   "cell_type": "code",
   "execution_count": null,
   "id": "adce3606",
   "metadata": {},
   "outputs": [
    {
     "name": "stdout",
     "output_type": "stream",
     "text": [
      "Fitting 10 folds for each of 18 candidates, totalling 180 fits\n"
     ]
    }
   ],
   "source": [
    "# param_grid = { \n",
    "#     \"n_estimators\": [50, 100, 250, 500],\n",
    "#     \"max_depth\": [1, 2, 5, 10],\n",
    "#     \"learning_rate\": [0.001, 0.01, 0.1, 0.5, 1],\n",
    "#     \"objective\": [\"binary:logistic\"]\n",
    "#     }\n",
    "# 0.9928789685418599\n",
    "# {'learning_rate': 0.5, 'max_depth': 2, 'n_estimators': 500, 'objective': 'binary:logistic'}\n",
    "\n",
    "# param_grid = { \n",
    "#     \"n_estimators\": [500, 1000, 2000],\n",
    "#     \"max_depth\": [2, 3, 4],\n",
    "#     \"learning_rate\": [0.25, 0.5, 0.75],\n",
    "#     \"objective\": [\"binary:logistic\"]\n",
    "#     }\n",
    "# 0.9941396432156452\n",
    "# {'learning_rate': 0.25, 'max_depth': 2, 'n_estimators': 2000, 'objective': 'binary:logistic'}\n",
    "\n",
    "# param_grid = { \n",
    "#     \"n_estimators\": [1500, 2000, 2500, 5000],\n",
    "#     \"max_depth\": [1, 2, 4],\n",
    "#     \"learning_rate\": [0.1, 0.25, 0.5],\n",
    "#     \"objective\": [\"binary:logistic\"]\n",
    "#     }\n",
    "# 0.9946845986774985\n",
    "# {'learning_rate': 0.25, 'max_depth': 1, 'n_estimators': 5000, 'objective': 'binary:logistic'}\n",
    "\n",
    "param_grid = { \n",
    "    \"n_estimators\": [5000, 10000, 20000],\n",
    "    \"max_depth\": [1, 2],\n",
    "    \"learning_rate\": [0.1, 0.25, 0.5],\n",
    "    \"objective\": [\"binary:logistic\"]\n",
    "    }\n",
    "# 0.9947244952302114\n",
    "# {'learning_rate': 0.25, 'max_depth': 1, 'n_estimators': 10000, 'objective': 'binary:logistic'}\n",
    "\n",
    "\n",
    "xgb_model = XGBClassifier()\n",
    "cv = RepeatedStratifiedKFold(n_splits=5, n_repeats=2, random_state=42)\n",
    "\n",
    "grid_search = GridSearchCV(estimator=xgb_model, param_grid=param_grid, scoring='roc_auc', n_jobs=-1, cv=cv, verbose=2, error_score='raise')\n",
    "grid_result = grid_search.fit(X_train_valid, y_train_valid)\n",
    "\n",
    "print(grid_result.best_score_)\n",
    "print(grid_result.best_params_)"
   ]
  },
  {
   "cell_type": "code",
   "execution_count": 12,
   "id": "c5c73bfa",
   "metadata": {},
   "outputs": [
    {
     "name": "stdout",
     "output_type": "stream",
     "text": [
      "0.996280292542406\n",
      "0.9801849405548216\n"
     ]
    }
   ],
   "source": [
    "best_learning_rate = 0.25\n",
    "best_max_depth = 1\n",
    "best_n_estimators = 10000\n",
    "\n",
    "final_xgb_model = XGBClassifier(learning_rate=best_learning_rate, max_depth=best_max_depth, n_estimators=best_n_estimators, objective=\"binary:logistic\")\n",
    "final_xgb_model.fit(X_train_valid.values, y_train_valid.values)\n",
    "\n",
    "preds = final_xgb_model.predict(X_test.values)\n",
    "probs = final_xgb_model.predict_proba(X_test.values)\n",
    "\n",
    "fpr, tpr, thresholds = metrics.roc_curve(y_test.values, probs[:,1])\n",
    "auc = metrics.auc(fpr, tpr)\n",
    "print(auc)\n",
    "\n",
    "acc = final_xgb_model.score(X_test.values, y_test.values)\n",
    "print(acc)"
   ]
  },
  {
   "cell_type": "code",
   "execution_count": 12,
   "id": "e403ed92",
   "metadata": {},
   "outputs": [],
   "source": [
    "best_learning_rate = 0.25\n",
    "best_max_depth = 1\n",
    "best_n_estimators = 10000\n",
    "\n",
    "\n",
    "final_xgb_model = XGBClassifier(learning_rate=best_learning_rate, max_depth=best_max_depth, n_estimators=best_n_estimators, objective=\"binary:logistic\")\n",
    "final_xgb_model.fit(X.values, y.values)\n",
    "\n",
    "fname = \".//models//classifiers//xgb.sav\"\n",
    "pickle.dump(final_xgb_model, open(fname, 'wb'))"
   ]
  },
  {
   "cell_type": "markdown",
   "id": "c5322c33",
   "metadata": {},
   "source": [
    "## SVM"
   ]
  },
  {
   "cell_type": "code",
   "execution_count": 8,
   "id": "68318d5d",
   "metadata": {},
   "outputs": [
    {
     "name": "stdout",
     "output_type": "stream",
     "text": [
      "Mean ROC AUC: 0.997\n"
     ]
    }
   ],
   "source": [
    "cv = RepeatedStratifiedKFold(n_splits=10, random_state=42)\n",
    "\n",
    "svm_model = SVC()\n",
    "\n",
    "auc_scores = cross_val_score(svm_model, X_train_valid, y_train_valid, scoring='roc_auc', cv=cv, n_jobs=-1)\n",
    "print('Mean ROC AUC: %.3f' % np.mean(auc_scores))"
   ]
  },
  {
   "cell_type": "code",
   "execution_count": 13,
   "id": "ed0974b1",
   "metadata": {},
   "outputs": [
    {
     "name": "stdout",
     "output_type": "stream",
     "text": [
      "Fitting 10 folds for each of 140 candidates, totalling 1400 fits\n",
      "0.9970612309370249\n",
      "{'C': 0.31622776601683794, 'class_weight': 'balanced', 'gamma': 'auto', 'kernel': 'rbf'}\n"
     ]
    }
   ],
   "source": [
    "param_grid = { \n",
    "    \"C\": np.logspace(-1, 1, 5),\n",
    "    \"kernel\": ['rbf', 'poly'],\n",
    "    \"gamma\": list(np.logspace(-1, 1, 5))+['scale', 'auto'],\n",
    "    \"class_weight\": [\"balanced\", None]\n",
    "    }\n",
    "\n",
    "svm_model = SVC()\n",
    "cv = RepeatedStratifiedKFold(n_splits=5, n_repeats=2, random_state=42)\n",
    "\n",
    "grid_search = GridSearchCV(estimator=svm_model, param_grid=param_grid, scoring='roc_auc', n_jobs=-1, cv=cv, verbose=2, error_score='raise')\n",
    "grid_result = grid_search.fit(X_train_valid, y_train_valid)\n",
    "\n",
    "print(grid_result.best_score_)\n",
    "print(grid_result.best_params_)"
   ]
  },
  {
   "cell_type": "code",
   "execution_count": 22,
   "id": "a9a5a46e",
   "metadata": {},
   "outputs": [
    {
     "name": "stdout",
     "output_type": "stream",
     "text": [
      "0.9967487519402609\n",
      "0.9775429326287979\n"
     ]
    }
   ],
   "source": [
    "best_C = 0.31622776601683794\n",
    "best_class_weight = \"balanced\"\n",
    "best_gamma = \"auto\"\n",
    "best_kernel = \"rbf\"\n",
    "\n",
    "final_svm_model = SVC(C=best_C, class_weight=best_class_weight, gamma=best_gamma, kernel=best_kernel, probability=True)\n",
    "final_svm_model.fit(X_train_valid.values, y_train_valid.values)\n",
    "\n",
    "preds = final_svm_model.predict(X_test.values)\n",
    "probs = final_svm_model.predict_proba(X_test.values)\n",
    "\n",
    "fpr, tpr, thresholds = metrics.roc_curve(y_test.values, probs[:,1])\n",
    "auc = metrics.auc(fpr, tpr)\n",
    "print(auc)\n",
    "\n",
    "acc = final_svm_model.score(X_test.values, y_test.values)\n",
    "print(acc)"
   ]
  },
  {
   "cell_type": "code",
   "execution_count": 39,
   "id": "b1f72f15",
   "metadata": {},
   "outputs": [
    {
     "data": {
      "text/plain": [
       "array([1.99999999e+00, 9.99999991e-01, 9.99984717e-01, 9.99984533e-01,\n",
       "       9.13791757e-01, 8.87241262e-01, 8.68554911e-01, 8.62699304e-01,\n",
       "       8.53615169e-01, 8.29461948e-01, 7.32535886e-01, 7.22704681e-01,\n",
       "       5.94124059e-01, 5.66337703e-01, 5.35238843e-01, 5.23263494e-01,\n",
       "       4.74358705e-01, 3.40635983e-01, 2.65095544e-01, 2.13332420e-01,\n",
       "       1.80238596e-01, 1.49685021e-01, 1.29079372e-01, 1.17679038e-01,\n",
       "       1.12474490e-01, 2.87099337e-05])"
      ]
     },
     "execution_count": 39,
     "metadata": {},
     "output_type": "execute_result"
    }
   ],
   "source": [
    "thresholds"
   ]
  },
  {
   "cell_type": "code",
   "execution_count": 41,
   "id": "d8761e16",
   "metadata": {},
   "outputs": [
    {
     "name": "stdout",
     "output_type": "stream",
     "text": [
      "0.5252525252525253 0.9801849405548216\n"
     ]
    }
   ],
   "source": [
    "ea_probs =  probs[:,1]\n",
    "threshold_accuracies = []\n",
    "for threshold in np.linspace(0,1,100):\n",
    "    ea_probs =  probs[:,1]\n",
    "    \n",
    "    predicted_label = np.repeat(0, len(ea_probs))\n",
    "    predicted_label[np.where(ea_probs>=threshold)] = 1\n",
    "\n",
    "    threshold_accuracies.append(sum(predicted_label==y_test.values)/len(y_test.values))\n",
    "    \n",
    "print(np.linspace(0,1,100)[np.argmax(threshold_accuracies)], max(threshold_accuracies))"
   ]
  },
  {
   "cell_type": "code",
   "execution_count": 23,
   "id": "72e0c3de",
   "metadata": {},
   "outputs": [
    {
     "data": {
      "text/plain": [
       "0.4743587052940653"
      ]
     },
     "execution_count": 23,
     "metadata": {},
     "output_type": "execute_result"
    }
   ],
   "source": [
    "gmeans = np.sqrt(tpr * (1-fpr))\n",
    "ix = np.argmax(gmeans)\n",
    "thresholds[ix]"
   ]
  },
  {
   "cell_type": "code",
   "execution_count": 24,
   "id": "c6a405e1",
   "metadata": {},
   "outputs": [
    {
     "data": {
      "text/plain": [
       "1.0853994490358128"
      ]
     },
     "execution_count": 24,
     "metadata": {},
     "output_type": "execute_result"
    }
   ],
   "source": [
    "len(y_test[y_test==0])/len(y_test[y_test==1])"
   ]
  },
  {
   "cell_type": "code",
   "execution_count": 26,
   "id": "71e219da",
   "metadata": {},
   "outputs": [
    {
     "data": {
      "image/png": "[encoded data removed]",
      "text/plain": [
       "<Figure size 432x288 with 1 Axes>"
      ]
     },
     "metadata": {
      "needs_background": "light"
     },
     "output_type": "display_data"
    }
   ],
   "source": [
    "RocCurveDisplay.from_predictions(y_test, preds)\n",
    "plt.scatter(fpr[ix], tpr[ix], marker='o', color='black', label=f'Best Threshold ({round(thresholds[ix],2)})')\n",
    "plt.title(\"SVC Model\")\n",
    "plt.legend()\n",
    "plt.show()"
   ]
  },
  {
   "cell_type": "code",
   "execution_count": 28,
   "id": "8575ea78",
   "metadata": {},
   "outputs": [],
   "source": [
    "final_svm_model = SVC(C=best_C, class_weight=best_class_weight, gamma=best_gamma, kernel=best_kernel, probability=True)\n",
    "final_svm_model.fit(X.values, y.values)\n",
    "\n",
    "fname = \".//models//doc2vec//svc.sav\"\n",
    "pickle.dump(final_svm_model, open(fname, 'wb'))"
   ]
  },
  {
   "cell_type": "code",
   "execution_count": 37,
   "id": "8a5167f1",
   "metadata": {},
   "outputs": [
    {
     "data": {
      "image/png": "[encoded data removed]",
      "text/plain": [
       "<Figure size 432x288 with 1 Axes>"
      ]
     },
     "metadata": {
      "needs_background": "light"
     },
     "output_type": "display_data"
    }
   ],
   "source": [
    "pos_probs = []\n",
    "neg_probs = []\n",
    "for i in range(len(preds)):\n",
    "    pred = preds[i]\n",
    "    prob = probs[i][pred]\n",
    "    if pred == 0:\n",
    "        neg_probs.append(prob)\n",
    "    elif pred == 1:\n",
    "        pos_probs.append(prob)\n",
    "        \n",
    "plt.hist(neg_probs, density=True, label=\"Negative\", alpha=0.5, bins=50)\n",
    "plt.hist(pos_probs, density=True, label=\"Positive\", alpha=0.5, bins=50)\n",
    "plt.xlabel(\"Prediction Probability\")\n",
    "plt.ylabel(\"Density\")\n",
    "plt.legend()\n",
    "plt.show()"
   ]
  },
  {
   "cell_type": "code",
   "execution_count": 54,
   "id": "fe2178ad",
   "metadata": {},
   "outputs": [
    {
     "name": "stdout",
     "output_type": "stream",
     "text": [
      "0.9984166657774174\n",
      "0.9962809719586649\n"
     ]
    }
   ],
   "source": [
    "print(np.median(neg_probs))\n",
    "print(np.median(pos_probs))"
   ]
  },
  {
   "cell_type": "code",
   "execution_count": 53,
   "id": "23c93b14",
   "metadata": {},
   "outputs": [
    {
     "data": {
      "text/plain": [
       "'mon not r astron soc 335 l1–l5 2002a long hard look at mcg–63015 with xmmnewtona c fabian1⋆s vaughan1k nandra2k iwasawa1d r ballantyne1j c lee3a de rosa14a turner1and a j young51institute of astronomy university of cambridge madingley road cambridge cb3 0ha2laboratory for high energy astrophysics nasagoddard space flight centre greenbelt md 20771 usa3massachusetts institute of technology centre for space research 77 massachusetts ave ne80 cambridge ma 02139 usa4istituto di astroﬁsica spaziale c n r via fosso del cavaliere roma italy5astronomy department university of maryland college park md 20742 usaaccepted 2002 june 5 received 2002 may 30 in original form 2002 april 2abstractwe present the ﬁrst results from a 325ks observation of the seyfert 1 galaxy mcg–63015with xmmnewton andbepposax  the strong broad skewed iron line is clearly detected andis well characterized by a steep emissivity proﬁle within 6 rgie 6 gmc2 and a ﬂatter proﬁlebeyond the inner radius of the emission appears to lie at about 2 rg consistent with resultsreported from both an earlier xmmnewton observation of mcg–63015 by wilms et aland part of an asca observation by iwasawa et al when the source was in a lower ﬂux statethe radius and steep emissivity proﬁle do depend however on an assumed incident powerlawcontinuum and a lack of complex absorption above 25 kev  the blue wing of the line proﬁleis indented either by absorption at about 67 kev or by a hydrogenic iron emission line thebroad iron line ﬂux does not follow the continuum variations in a simple mannerkey words galaxies active – galaxies general – galaxies individual mcg – 63015 –galaxies seyfert – xrays galaxies1 introductionthe seyfert 1 galaxy mcg–63015 has played an important rolein studies of accretion on to black holes owing to the presence of abroad skewed iron line in its xray spectrum tanaka et al 1995the shape of the line seen with asca is consistent with emissionfrom the surface of an accretion disc extending from about 6 tomore than 40 gravitational radii 6–40 rgrggmc2 inclined atabout 30◦to the line of sight fabian et al 1995 occasionallythe red ie lower energy wing of the line is seen to extend below4 kev iwasawa et al 1996 1999 this can be explained by thedisc extending within 6 rgwhich may imply the black hole must berapidly spinning the presence of the broad iron line in mcg–63015 has been conﬁrmed by bepposax guainazzi et al 1999xmmnewton wilms et al 2001 and chandra lee et al 2002here we present preliminary results from a long 325 ks observation of mcg–63015 made with xmmnewton  the source was ata similar ﬂux level to the previous asca observations and about70 per cent brighter than during the earlier 100 ks xmmnewton observation reported by branduardiraymont et al 2001 and wilmset al 2001 simultaneous observations were made with bepposax providing coverage from ∼02–100 kev  the present work focuseson the spectrum above 25 kev and the iron k line features absorp⋆email acfastcamacuktion and emission features below 2 kev owing to oxygen and otherelements will be discussed more fully in later work2 data reductionmcg–63015 was observed by xmmmnewton jansen et al2001 over the period 2001 july 31–2001 august 5 rev 301 302and 303 during which all instruments were operating nominallythe present analysis is restricted to the data from the european photon imaging cameras epic both the epic mos cameras turneret al 2001 and the epic pn camera str¨ uder et al 2001 were operated in small window mode and used the medium ﬁlter extraction ofscience products from the observation data files odfs followedstandard procedures using the xmmnewton science analysis system v52 sasthe epic data were processed using the standard sas processingchains source data were extracted from circular regions of radius30 arcsec from the processed mos and pn images and backgroundevents were extracted from regions in the small window least effected by source photons these showed the background to be relatively low and stable throughout the observation with the exceptionof the ﬁnal few ks of each revolution where the background rateincreased data from these periods were ignored the total amountof ‘good’ exposure time selected was 315 ks and 227 ks for mosand pn respectively the lower pn exposure is due to the lower‘live time’ of the pn camera in smallwindow mode ∼71 per centccirclecopyrt2002 rasdownloaded from httpsacademicoupcommnrasarticle3351l11034305 by california institute of technology user on 20 december 2022l2 a c fabian et althe ratios of event patterns as a function of energy showed thereis negligible pileup in the pn data but the mos data suffer slightlyfrom pileup a comparison of the data extracted including andexcluding events from the central 10 arcsec of the source regionshowed only a slight ﬂattening  delta1gamma1∼006 in the piledup spectrum this small effect was ignored in order to increase the numberof source countsevents corresponding to patterns 0 –12 single –quadruple pixelwere extracted from the mos cameras and patterns 0 –4 singledouble were used for the pn spectral analysis after checkingfor consistency with the pattern 0 single pixel event data the totalnumber of photons extracted from the source region was 6 23×106for the pn and 2 35×106for each mos camera the bepposaxdata were processed in the standard manner fiore guainazzi grandi 19993 spectral analysisthe spectral calibration of the epic cameras is still evolving usingthe publicly available software and response matrices the remainingcalibrationdependent residuals over the 25 –10 kev range considered here should be at the lessorsimilar5 per cent level see ferrando et al2002 however there remain problems with the model for chargetransfer inef ﬁciency cti for pn smallwindow mode data in orderto mitigate the effects of this a conservative approach was used forthe present analysis with detailed spectral ﬁtting results based ononly the mos datathe source spectra were grouped such that each bin contains atleast 20 counts and were ﬁtted usingxspec v 111 arnaud 1996the spectral responses used were m1medv9q19t5r5all15rsp for mos1 and similarly for mos2 and epnsw20sdy9mediumrmf for the pn the quoted errors on the derived modelparameters correspond to a 90 per cent con ﬁdence level for oneinteresting parameter ie a delta1χ227 criterion unless otherwisestated and ﬁt parameters speci ﬁcally line and edge energies arequoted for the rest frame of the sourcethe epic mos data show a spectral form remarkably similar to those seen in earlier asca observations as illustrated infig 1 cf ﬁg 1 of iwasawa et al 1996 the residuals around6 kev have been interpreted as a broadened and redshifted ironkαemission from a relativistic accretion disc tanaka et al 1995only the xmmnewton epic spectrum above 25 kev is examined here to limit the effects of the complex soft xray absorptionsee also lee et al 2001 a detailed treatment of which is beyondthe scope of this letter this energy range also excluded the regionaround the detector si kedge 184 kev and the mirror au medge23 kev to constrain the continuum and in particular the compton re ﬂection component eg george  fabian 1991 nandra pounds 1994 better the bepposax mecs and pds data were alsoﬁtted simultaneously the normalizations of the mos and mecsdata were allowed to vary independently to account for differences in the absolute calibration with the pds normalization tied to086 times the mecs value fiore et al 1999 galactic absorptionnh406×1020cm−2 dickey  lockman 1990 was includedin all the models discussed below31 phenomenological modelthe iron line residuals were initially parametrized using a simplemodel comprising a power law plus compton re ﬂection narrowσ10 ev gaussian at 64 kev and a broad gaussian whose energy and width were free parameters the compton re ﬂector wasfigure 1 combined mos spectrum the data were combined for plottingpurposes only and ratio of data to a powerlaw model joining the 2 –3k e vdata and 75 –10 kev data as this is not a realistic model for the continuumthe residuals should be considered merely as representative of the spectralcomplexity the inset panel shows a closeup of the iron line region with the69kev feature marked this ﬁgure is available in colour on synergy  in theonline version of the journalassumed to be a neutral static slab subtending a solid angle of 2 πsrat the xray source inclined at i30◦ and having solar elemental abundances magdziarz  zdziarski 1995 the primary continuum was a power law with an exponential cutoff at a ﬁxed energy of400 kev constraints on the re ﬂection and continuum parameters arediscussed later this model gave a good overall ﬁt withχ29841for 1034 degrees of freedom  dof the broad line component hadan energy e48±03 kev  a width of σ18±02 kev andequivalent width ew527±70 ev  the narrow 64 kev ‘core’hadew38±10 ev and peaked very close to 64 kev  withe640±004 kev if allowed to be freevery narrow components to the iron line unresolvable by epichave been observed in the chandra hetgs spectra of severalseyferts yaqoob goerge  turner 2002 they may be identi ﬁedwith emission from eg the blr or molecular torus such narrowlines are not ubiquitous however and allowing the 64 kev component to have a ﬁnite width is resolved with a width correspondingtofwhm ≈30 000 km s−1andew120 ev  the ﬁt is excellentthe parameters are given in table 1 model 1 a preliminary analysis of the pn data gave generally consistent results and in particularthe core of the line was again resolved see also lee et al 2002the large width of the line core suggests that this also arises in thedisc rather than at a greater distance cf ngc 5548 yaqoob et al200132 relativistic line pro ﬁlesto provide a more physically realistic description of the data theline pro ﬁle of laor 1991 was used to describe a broad line froman accretion disc surrounding a rotating black hole the disc wasassumed to be in a low state of ionization with the rest energy ofthe line ﬁxed at 64 kev  the ﬁts were relatively insensitive to theouter radius of the disc which was therefore ﬁxed at rout400rgthe free parameters in the model were the inner radius of the discrin the inclination i and the emissivity as a function of radiuswhich was parametrized as a power law of index qie r−qboth the line and the re ﬂection spectrum were blurred using theccirclecopyrt2002 ras mnras 335 l1–l5downloaded from httpsacademicoupcommnrasarticle3351l11034305 by california institute of technology user on 20 december 2022looking at mcg –63015 with xmmnewton l3table 1 results of simultaneous ﬁts to the xmmnewton mos and bepposax data line energies  e and widths  σ are given in unitsof kev and equivalent widths  ew are given in ev  disc radii eg rin are given in units of rgand inclination  i is given in degreesthe models are described in section 3model continuum broad k α core k αχ2dofgamma1 e σ ew e σ ew11 93±001 4 29009−028172±009 38325−70640±003 0 27±006 1199−1388821033model continuum broad k αχ2dofgamma1 ir in qe w21 92±001 38 3±124 6±045 603−06308±25 9794 1034model continuum broad k α 69 kev line χ2dofgamma1 ir in rbr qin qout ew ew31 96±001 28 4±102 0±016 234−1449±062 6±03 554 ±56 29 ±5 8851 103141195±004 27 8±132 0±026 545−1448±072 502−0441373−8921±5 8562 10291this model includes rreﬂandefoldas free parameters afe3 and emission from fe k βsee section 34kernel from the laor model the ﬁt parameters are given in table 1model 2 the χ2is comparable to the broad plus narrow gaussianmodel but falls short of the best ﬁttingχ2with two broad gaussians model 1 the reason for this is that with a simple powerlaw emissivity function the kerr line pro ﬁle cannot simultaneouslymodel the broad red wing of the line and the narrower core around64 kev  the preliminary pn analysis gave comparable results butsuggested an even stronger red wing to the line33 additional iron k componentsbefore exploring the red wing further it should be noted that there issome additional complexity in the line region at ∼7 kev see inset offig 1 including an iron kedge in model 2 provided a signi ﬁcantimprovement in the ﬁtχ290821032 with an edge energy ofe738±009 kev and a depth of τ011±002 similar to thatdiscussed by pounds  reeves 2002 however such an edge musthave a physical origin if it is caused by neutral or nearneutral ironalong the line of sight then strong ironl absorption is expectedwhich is inconsistent with the soft xray spectrum lee et al 2001if the material is out of the line of sight and the edge is due to reﬂection off distant material the re ﬂection component must be verystrong  r∼3 which is then inconsistent with the relatively weaknarrow 64kev iron line observed in the spectrum another possibility is that the edge arises from thick material partially coveringthe line of sight this gives a comparable ﬁtχ289461032 tothe edge with a covering fraction of ∼016 using this model thebroad line parameters differed only slightly from those of model 2and the broad red wing of the line extending within 6 rg was stillrequired in the ﬁtsako et al 2002 suggested there may be signi ﬁcant absorption in the 64 –67 kev range due to innershell transitions of ionized iron this possibility was explored by including an absorption line in model 2 this gave a good ﬁtχ292391031 dofwith absorptionline parameters e674±005 kev and ew138±35 ev  the relativistic line parameters differ only slightlywith the emissivity index changing to q66±11an alternative interpretation is that the complexity around 70 kevis in an emission component identi ﬁed with recombination emission by hlike iron adding a gaussian to model 2 at e≈69k e vagain improved the ﬁtχ295611032 dof and gives best ﬁttingparameters of e691±003 kev and ew18±6 ev  if aline of this strength is caused by gas photoionized by the observedcontinuum then it must lie within a radius of ∼2×1016cm sinceit is not possible to unambiguously determine between absorptionand emission as the source of complexity above 65 kev  both areconsidered in the following subsections34 more complex modelsa steep emissivity function was required to model the red wingof the line see also wilms et al 2001 but this gave too little ﬂuxfrom the outer parts of the disc to model the core of the line thisraises the possibility that the emissivity function is not a simplepower law this was explored by using a broken power law for theemissivity function with emissivity index qinfrom rintorbrandindex qoutfrom rbrtorout the ﬁt parameters for this model aregiven in table 1 model 3this ﬁt is not physically selfconsistent for at least two reasonsfirst it ignores the emission from fe k β which is expected at705 kev  secondly the high ewof the line is not consistent withour assumptions about the re ﬂection component namely that it hasrreﬂ1i30 deg solar abundances and is neutral in such circumstances considering the observed value of gamma1 the predicted ewis only 140 ev george  fabian 1991 two plausible possibilitiesare that the iron abundance in the accretion disc is higher than thesolar value see eg lee et al 1999 or that the re ﬂection component is enhanced for some reason for example owing to anisotropyghisellini et al 1991 or geometry fabian et al 2002the high abundance case was examined by ﬁxing the iron abundance of the re ﬂector to 3 ×solar in model 3 this in fact improved the overall ﬁt compared to the solar abundance case  χ287721031 dof changes in the disc line parameters were negligible the value of the cutoff energy can affect both the high energyspectral shape and the apparent strength of the re ﬂection component allowing ecutto be free in this ﬁtg a v e ecut241228−86kevχ287541030 dof allowing rreﬂto be a free parameter further improved the ﬁt therefore this was also left free in model 4model 4 comprised a power law plus cold re ﬂection with overabundant iron afe3 emission from iron k α640 kev and k β705 kev the re ﬂection plus line spectrum was then blurred using the laor kernel with a broken powerlaw emissivity functiona narrow emission line at e69 kev  ﬁxed was also includedin the model this provided the best ﬁtting model with a cutoffenergy ecut12290−18kev and rreﬂ2211−07 the other parametersare given in table 1 the model and ﬁt residuals are shown in fig 2and the ‘ﬂuxed ’line pro ﬁle based on this ﬁt is shown in fig 3including an absorption line instead of a 69kev emission linegave a slightly poorer ﬁtχ286301027 dof with line parameters e674±002 kev  ew31±9 ev consistent with theccirclecopyrt2002 ras mnras 335 l1–l5downloaded from httpsacademicoupcommnrasarticle3351l11034305 by california institute of technology user on 20 december 2022l4 a c fabian et alfigure 2 model including relativistic iron line emission model 4 and ﬁtresiduals for xmmnewton mos black and bepposax mecs green andpds blue this ﬁgure is available in colour on synergy  in the online versionof the journalfigure 3 relativistic iron line pro ﬁle shown in  fνﬂux units obtainedfrom the ratio of the mos data to best ﬁtting underlying continuum modelmodel 4 multiplied by the continuum model in ﬂux units as opposed to an‘unfolded ’plot the crosses mark the data points and the solid line marksthe line model this ﬁgure is available in colour on synergy  in the onlineversion of the journalprediction of sako et al 2002 and slight changes to the relativisticline parameters in particular rbr39±07rg4 spectral v ariabilityas a ﬁrst test for spectral variability around the iron line region pnspectra were extracted from 10 ks intervals around the minimumand maximum ﬂux periods during revolution 301 see fig 4 theaverage continuum ﬂuxes during these intervals differ by ×2 theratio of the two spectra is shown in the top panel of fig 5 and showsclear signs of spectral variability there is a slight depression around64 kev  indicating that the iron line core is stronger compared tothe continuum in the low ﬂux spectrum the bottom panel of fig 5shows the residuals from ﬁtting a powerlaw model to the differencespectrum ie high ﬂux minus low ﬂux spectrum the differencespectrum is consistent with a power law in the range 210 kev andfigure 4 epic pn light curve 02 –10 kev for revolution 301 showing theintervals of low and high ﬂux discussed in section 4 this ﬁgure is availablein colour on synergy  in the online version of the journalfigure 5 comparison of the high ﬂux and low ﬂux pn spectra extractedfrom intervals marked on fig 4 top panel ratio of high ﬂux to low ﬂuxspectrum bottom panel comparison of the difference spectrum high –lowwith a powerlaw modelindicates that the iron line ﬂux changed little between the two intervals a detailed analysis of the spectral variability properties willbe given in a forthcoming paper but these ﬁrst results are consistent with the simple twocomponent continuum model described inshih iwasawa  fabian 2002the suggestion that the iron line was not as variable as the continuum was borne out by an examination of the rms spectrum fig 6shows the normalized rms variability spectrum derived from therevolution 302 pn data the rms spectrum clearly shows that thefractional variability amplitude is suppressed at energies close tothe iron line compared with surrounding continuum bands see alsoinoue  matsumoto 2001a further point to note is that the rms spectrum and the ratio ofhighlow spectra are smooth in the 02 –10 kev range in particularthe absence of any feature at 07 kev in the spectral ratio is expectedif the large drop at that energy fig 1 is due to absorption withconstant optical depth for the drop to be the blue wing of anemission line branduardiraymont et al 2001 the line intensitymust be responding linearly to the continuum ﬂux unlike the ironccirclecopyrt2002 ras mnras 335 l1–l5downloaded from httpsacademicoupcommnrasarticle3351l11034305 by california institute of technology user on 20 december 2022looking at mcg –63015 with xmmnewton l5figure 6 the rms spectrum based on rev 302 epic pn data the errors arecalculated as in edelson et al 2002 and should be considered conservativeestimates of the true uncertaintyline an examination of the re ﬂection grating spectrometer rgsspectra con ﬁrms this result5 discussiona long observation with xmmnewton andbepposax of mcg –63015 in its typical state has again con ﬁrmed the presence ofthe broad skewed iron line all the models considered above areformally acceptable  χ2ν10 and all include emission within 6 rgconsistent with emission from a disc around a spinning black holemodel 4 provides the best in a χ2sense and most physicallyselfconsistent explanation of the data in this model the disc emissivity is described by a broken powerlaw in radius and it is interesting to note that the break radius occurs at ∼6rg beyond thisradius the disc has an emissivity pro ﬁleqout∼25 and produces aniron line with an equivalent width ∼200 ev the 55 –65 kev coreof the line shown in fig 3 both close to the values expected fromstandard accretion disc models within 6 rgthe emissivity steepensproducing the strong lowenergy tail to the line emission also withan equivalent width ∼200 ev  suggesting additional physics withinthis region beyond that expected from standard accretion disc models see wilms et al 2001 the strong iron line is consistent withan enhanced re ﬂection spectrum and an overabundance of iron orionization of the disc surface this last possibility will be examinedin a later paperthe iron line parameters do however depend slightly on the assumptions made about the complex absorption in particular all theabove models formally assume the effects of ionized absorptionare negligible above 25 kev  which is correct for absorption arising from lowz elements eg o but may not be true if there isabsorption by higherz elements eg si s a preliminary analysis allowing for the possibility of si and s edges did not changethe requirement for a strong red wing to the iron line a detailedanalysis of the rgs data will yield constraints on the warm absorption particularly on the low z elements and help remove existingdegeneraciesfuture work to determine the spin must include emission from theimmediate plunge region inside the innermost stable orbit reynolds begelman 1997 agol  krolik 2000 as well as returning radiation martocchia matt  karas 2002acknowledgmentsbased on observations obtained with xmmnewton  an esa sciencemission with instruments and contributions directly funded by esamember states and the usa nasa acf thanks the royal societyfor supportreferencesagol e krolik j h 2000 apj 528 161arnaud k 1996 in jacoby g barnes j eds asp conf ser v ol 101astronomical data analysis software and systems astron soc pacsan francisco 17branduardiraymont g sako m kahn s m brinkman a c kaastraj s page m j 2001 aa 365 l140dickey j m lockman f j 1990 araa 28 215edelson ret al 2002 apj 568 610fabian a c nandra k reynolds c s brandt w n otani c tanaka y inoue h iwasawa k 1995 mnras 277 l11fabian a c ballantyne d r merloni a vaughan s iwasawa k bollerth 2002 mnras 331 l35ferrando p et al 2002 in new visions of the xray universe in the xmmnewton and chandra era astroph0202372fiore f guainazzi m grandi p 1999 cookbook for bepposax nfi spectral analysis available from httpwwwasdcasiitbepposaxsoftwareindexhtmlgeorge i m fabian a 1991 mnras 249 352ghisellini g george i m fabian a c done c 1991 mnras 248 14guainazzi m et al 1999 aa 341 l27inoue h matsumoto c 2001 adv space res 28 445iwasawa k et al 1996 mnras 282 1038iwasawa k fabian a c young a j inoue h matsumoto c 1999mnras 306 l19jansen f et al 2001 aa 365 l1laor a 1991 apj 376 90lee j c fabian a c brandt w n reynolds c s iwasawa k 1999mnras 310 973lee j c fabian a c reynolds c s brandt w n iwasawa k 2000mnras 318 857lee j c ogle p m canizares c r marshall h l schulz n smorales r fabian a c iwasawa k 2001 apj 554 l13lee j c iwasawa k houck j c fabian a c marshall h l canizaresc r 2002 apj 570 l47magdziarz p zdziarski a a 1995 mnras 273 837martocchia a matt g karas v  2002 aa 383 l23nandra k pounds k a 1994 mnras 268 405pounds k a reeves j n 2002 in new visions of the xray universe inthexmmnewton andchandra era astroph0201436reynolds c s begelman m c 1997 apj 488 109sako m et al 2002 apj submitted astroph0112436shih d c iwasawa k fabian a c 2002 mnras 333 687str¨uder l et al 2001 aa 365 l18tanaka y  et al 1995 nat 375 659turner m j l et al 2001 aa 365 l27wilms j reynolds c s begelman m c reeves j molendi s staubertr kendziorra e 2001 mnras 328 l27yaqoob t george i m nandra k turner t j serlemitsos p jmushotzky r f 2001 apj 546 759yaqoob t goerge i m turner t j 2002 in vrtilek s schlegel e mkuhi l eds ‘high energy universe at sharp focus chandra science ’astroph0111428this paper has been typeset from a t exlatexﬁle prepared by the authorccirclecopyrt2002 ras mnras 335 l1–l5downloaded from httpsacademicoupcommnrasarticle3351l11034305 by california institute of technology user on 20 december 2022'"
      ]
     },
     "execution_count": 53,
     "metadata": {},
     "output_type": "execute_result"
    }
   ],
   "source": [
    "worst_pos_prob_ind = X_test.iloc[np.argmin(pos_probs),:].values[0]\n",
    "row = X[X[\"0\"] == worst_pos_prob_ind].index[0]\n",
    "training_corpus.iloc[row,:][\"text\"]"
   ]
  },
  {
   "cell_type": "code",
   "execution_count": 48,
   "id": "3d8cdc02",
   "metadata": {},
   "outputs": [
    {
     "data": {
      "text/plain": [
       "1024"
      ]
     },
     "execution_count": 48,
     "metadata": {},
     "output_type": "execute_result"
    }
   ],
   "source": [
    "X[X[\"0\"] == worst_pos_prob_ind].index[0]"
   ]
  }
 ],
 "metadata": {
  "kernelspec": {
   "display_name": "Python 3 (ipykernel)",
   "language": "python",
   "name": "python3"
  },
  "language_info": {
   "codemirror_mode": {
    "name": "ipython",
    "version": 3
   },
   "file_extension": ".py",
   "mimetype": "text/x-python",
   "name": "python",
   "nbconvert_exporter": "python",
   "pygments_lexer": "ipython3",
   "version": "3.9.12"
  }
 },
 "nbformat": 4,
 "nbformat_minor": 5
}
