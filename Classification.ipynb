{
 "cells": [
  {
   "cell_type": "code",
   "execution_count": null,
   "id": "0fd990a7",
   "metadata": {},
   "outputs": [],
   "source": [
    "# https://radimrehurek.com/gensim/auto_examples/tutorials/run_doc2vec_lee.html#sphx-glr-auto-examples-tutorials-run-doc2vec-lee-py\n",
    "# https://towardsdatascience.com/multi-class-text-classification-with-doc2vec-logistic-regression-9da9947b43f4"
   ]
  },
  {
   "cell_type": "code",
   "execution_count": 1,
   "id": "61ad4a50",
   "metadata": {},
   "outputs": [
    {
     "name": "stderr",
     "output_type": "stream",
     "text": [
      "[nltk_data] Downloading package punkt to\n",
      "[nltk_data]     C:\\Users\\nsuse\\AppData\\Roaming\\nltk_data...\n",
      "[nltk_data]   Package punkt is already up-to-date!\n",
      "[nltk_data] Downloading package stopwords to\n",
      "[nltk_data]     C:\\Users\\nsuse\\AppData\\Roaming\\nltk_data...\n",
      "[nltk_data]   Package stopwords is already up-to-date!\n"
     ]
    }
   ],
   "source": [
    "# import pandas as pd\n",
    "# import numpy as np\n",
    "# from tqdm import tqdm\n",
    "# tqdm.pandas(desc=\"progress-bar\")\n",
    "# from gensim.models import Doc2Vec\n",
    "# from sklearn import utils\n",
    "# import gensim\n",
    "# from sklearn.linear_model import LogisticRegression\n",
    "# import re\n",
    "# import seaborn as sns\n",
    "# import matplotlib.pyplot as plt\n",
    "# import os\n",
    "# from bs4 import BeautifulSoup\n",
    "\n",
    "# import multiprocessing\n",
    "# cores = multiprocessing.cpu_count()\n",
    "# import logging\n",
    "# logging.basicConfig(format='%(asctime)s : %(levelname)s : %(message)s', level=logging.INFO)\n",
    "# from gensim.test.utils import get_tmpfile\n",
    "# from sklearn.metrics import accuracy_score, f1_score\n",
    "# import collections\n",
    "\n",
    "import pandas as pd\n",
    "import numpy as np\n",
    "from gensim.models import Doc2Vec\n",
    "from gensim.models.doc2vec import TaggedDocument\n",
    "import nltk\n",
    "nltk.download('punkt')\n",
    "nltk.download('stopwords')\n",
    "from nltk.corpus import stopwords\n",
    "from sklearn.model_selection import cross_val_score\n",
    "from sklearn.model_selection import train_test_split\n",
    "from sklearn.model_selection import RepeatedStratifiedKFold\n",
    "from sklearn.svm import SVC\n",
    "import matplotlib.pyplot as plt\n",
    "from sklearn.model_selection import GridSearchCV"
   ]
  },
  {
   "cell_type": "code",
   "execution_count": 2,
   "id": "08b44ca1",
   "metadata": {},
   "outputs": [],
   "source": [
    "completed_non_ea_bibs = []\n",
    "completed_non_ea_text = []\n",
    "with open('.//data//non_ea_papers_text.txt', 'r', encoding=\"utf-8\") as f:\n",
    "    for line in f:\n",
    "        bib = line.split(\",\")[0].strip()\n",
    "        text = line.split(\",\")[1].strip()\n",
    "        completed_non_ea_bibs.append(bib)\n",
    "        completed_non_ea_text.append(text)\n",
    "n_neg = len(completed_non_ea_bibs)\n",
    "\n",
    "completed_ea_bibs = []\n",
    "completed_ea_text = []\n",
    "with open('.//data//ea_papers_text.txt', 'r', encoding=\"utf-8\") as f:\n",
    "    for line in f:\n",
    "        bib = line.split(\",\")[0].strip()\n",
    "        text = line.split(\",\")[1].strip()\n",
    "        completed_ea_bibs.append(bib)\n",
    "        completed_ea_text.append(text)\n",
    "n_pos = len(completed_ea_bibs)\n",
    "\n",
    "pos_training_corpus = pd.DataFrame({\"text\":completed_ea_text, \"label\":np.repeat(1, len(completed_ea_bibs))})\n",
    "neg_training_corpus = pd.DataFrame({\"text\":completed_non_ea_text, \"label\":np.repeat(0, len(completed_non_ea_bibs))})\n",
    "\n",
    "training_corpus = pd.concat([pos_training_corpus, neg_training_corpus])\n",
    "training_corpus = training_corpus.sample(frac=1, random_state=42).reset_index(drop=True)\n",
    "training_corpus[\"index\"] = training_corpus.index"
   ]
  },
  {
   "cell_type": "code",
   "execution_count": 15,
   "id": "a4c65267",
   "metadata": {},
   "outputs": [
    {
     "name": "stdout",
     "output_type": "stream",
     "text": [
      "3538 4025\n"
     ]
    }
   ],
   "source": [
    "print(n_pos, n_neg)"
   ]
  },
  {
   "cell_type": "code",
   "execution_count": 57,
   "id": "f2ccfff9",
   "metadata": {},
   "outputs": [
    {
     "data": {
      "text/html": [
       "<div>\n",
       "<style scoped>\n",
       "    .dataframe tbody tr th:only-of-type {\n",
       "        vertical-align: middle;\n",
       "    }\n",
       "\n",
       "    .dataframe tbody tr th {\n",
       "        vertical-align: top;\n",
       "    }\n",
       "\n",
       "    .dataframe thead th {\n",
       "        text-align: right;\n",
       "    }\n",
       "</style>\n",
       "<table border=\"1\" class=\"dataframe\">\n",
       "  <thead>\n",
       "    <tr style=\"text-align: right;\">\n",
       "      <th></th>\n",
       "      <th>text</th>\n",
       "      <th>label</th>\n",
       "      <th>index</th>\n",
       "    </tr>\n",
       "  </thead>\n",
       "  <tbody>\n",
       "    <tr>\n",
       "      <th>0</th>\n",
       "      <td>arxivastroph0403324v4  17 jul 2022dark matter ...</td>\n",
       "      <td>0</td>\n",
       "      <td>0</td>\n",
       "    </tr>\n",
       "    <tr>\n",
       "      <th>1</th>\n",
       "      <td>mon not r astron soc 000 19 0000 printed 20 au...</td>\n",
       "      <td>1</td>\n",
       "      <td>1</td>\n",
       "    </tr>\n",
       "    <tr>\n",
       "      <th>2</th>\n",
       "      <td>mon not r astron soc 427 3435–3467 2012 doi101...</td>\n",
       "      <td>0</td>\n",
       "      <td>2</td>\n",
       "    </tr>\n",
       "    <tr>\n",
       "      <th>3</th>\n",
       "      <td>astronomy astrophysics manuscript no hd20v2 ce...</td>\n",
       "      <td>1</td>\n",
       "      <td>3</td>\n",
       "    </tr>\n",
       "    <tr>\n",
       "      <th>4</th>\n",
       "      <td>the microphysics of collisionless shock wavesa...</td>\n",
       "      <td>0</td>\n",
       "      <td>4</td>\n",
       "    </tr>\n",
       "    <tr>\n",
       "      <th>...</th>\n",
       "      <td>...</td>\n",
       "      <td>...</td>\n",
       "      <td>...</td>\n",
       "    </tr>\n",
       "    <tr>\n",
       "      <th>7558</th>\n",
       "      <td>mon not r astron soc 360 869–891 2005 doi10111...</td>\n",
       "      <td>0</td>\n",
       "      <td>7558</td>\n",
       "    </tr>\n",
       "    <tr>\n",
       "      <th>7559</th>\n",
       "      <td>arxivastroph0508228v1  10 aug 2005adarkjetdomi...</td>\n",
       "      <td>0</td>\n",
       "      <td>7559</td>\n",
       "    </tr>\n",
       "    <tr>\n",
       "      <th>7560</th>\n",
       "      <td>1accepted for publication in nature20 october ...</td>\n",
       "      <td>0</td>\n",
       "      <td>7560</td>\n",
       "    </tr>\n",
       "    <tr>\n",
       "      <th>7561</th>\n",
       "      <td>arxiv11045230v3  astrophep  7 jul 2011accepted...</td>\n",
       "      <td>1</td>\n",
       "      <td>7561</td>\n",
       "    </tr>\n",
       "    <tr>\n",
       "      <th>7562</th>\n",
       "      <td>arxiv14067369v2  astrophhe  5 jul 2014parametr...</td>\n",
       "      <td>0</td>\n",
       "      <td>7562</td>\n",
       "    </tr>\n",
       "  </tbody>\n",
       "</table>\n",
       "<p>7563 rows × 3 columns</p>\n",
       "</div>"
      ],
      "text/plain": [
       "                                                   text  label  index\n",
       "0     arxivastroph0403324v4  17 jul 2022dark matter ...      0      0\n",
       "1     mon not r astron soc 000 19 0000 printed 20 au...      1      1\n",
       "2     mon not r astron soc 427 3435–3467 2012 doi101...      0      2\n",
       "3     astronomy astrophysics manuscript no hd20v2 ce...      1      3\n",
       "4     the microphysics of collisionless shock wavesa...      0      4\n",
       "...                                                 ...    ...    ...\n",
       "7558  mon not r astron soc 360 869–891 2005 doi10111...      0   7558\n",
       "7559  arxivastroph0508228v1  10 aug 2005adarkjetdomi...      0   7559\n",
       "7560  1accepted for publication in nature20 october ...      0   7560\n",
       "7561  arxiv11045230v3  astrophep  7 jul 2011accepted...      1   7561\n",
       "7562  arxiv14067369v2  astrophhe  5 jul 2014parametr...      0   7562\n",
       "\n",
       "[7563 rows x 3 columns]"
      ]
     },
     "execution_count": 57,
     "metadata": {},
     "output_type": "execute_result"
    }
   ],
   "source": [
    "training_corpus"
   ]
  },
  {
   "cell_type": "code",
   "execution_count": 3,
   "id": "6d7b1104",
   "metadata": {},
   "outputs": [],
   "source": [
    "stopWords = set(stopwords.words('english'))\n",
    "\n",
    "def tokenize_text(text):\n",
    "    tokens = []\n",
    "    for sentence in nltk.sent_tokenize(text):\n",
    "        for word in nltk.word_tokenize(sentence):\n",
    "            if len(word) < 2 or word in stopWords:\n",
    "                continue\n",
    "            tokens.append(word.lower())\n",
    "    return tokens\n",
    "\n",
    "# punctuation was removed and text was set to lower case earlier (Convert PDFs to Text.ipynb)\n",
    "\n",
    "# training_corpus_tagged = training_corpus.apply(lambda r: TaggedDocument(words=tokenize_text(r['text']), tags=[r[\"label\"]]), axis=1).tolist()"
   ]
  },
  {
   "cell_type": "code",
   "execution_count": 4,
   "id": "7bd9acaf",
   "metadata": {},
   "outputs": [],
   "source": [
    "fname = \".//models//doc2vec//model_dbow_vs_600_n_5_s_0.bin\"\n",
    "\n",
    "doc2vec_model = Doc2Vec.load(fname)"
   ]
  },
  {
   "cell_type": "code",
   "execution_count": 5,
   "id": "61e846e8",
   "metadata": {},
   "outputs": [],
   "source": [
    "# X, y = zip(*[(doc2vec_model.infer_vector(doc.words), doc.tags[0]) for doc in training_corpus_tagged])"
   ]
  },
  {
   "cell_type": "code",
   "execution_count": 8,
   "id": "908336de",
   "metadata": {},
   "outputs": [
    {
     "data": {
      "text/plain": [
       "(7563, 601)"
      ]
     },
     "execution_count": 8,
     "metadata": {},
     "output_type": "execute_result"
    }
   ],
   "source": [
    "df = pd.DataFrame(X)\n",
    "df[\"label\"] = y\n",
    "df.shape"
   ]
  },
  {
   "cell_type": "code",
   "execution_count": 5,
   "id": "94a9f190",
   "metadata": {},
   "outputs": [
    {
     "data": {
      "text/html": [
       "<div>\n",
       "<style scoped>\n",
       "    .dataframe tbody tr th:only-of-type {\n",
       "        vertical-align: middle;\n",
       "    }\n",
       "\n",
       "    .dataframe tbody tr th {\n",
       "        vertical-align: top;\n",
       "    }\n",
       "\n",
       "    .dataframe thead th {\n",
       "        text-align: right;\n",
       "    }\n",
       "</style>\n",
       "<table border=\"1\" class=\"dataframe\">\n",
       "  <thead>\n",
       "    <tr style=\"text-align: right;\">\n",
       "      <th></th>\n",
       "      <th>0</th>\n",
       "      <th>1</th>\n",
       "      <th>2</th>\n",
       "      <th>3</th>\n",
       "      <th>4</th>\n",
       "      <th>5</th>\n",
       "      <th>6</th>\n",
       "      <th>7</th>\n",
       "      <th>8</th>\n",
       "      <th>9</th>\n",
       "      <th>...</th>\n",
       "      <th>591</th>\n",
       "      <th>592</th>\n",
       "      <th>593</th>\n",
       "      <th>594</th>\n",
       "      <th>595</th>\n",
       "      <th>596</th>\n",
       "      <th>597</th>\n",
       "      <th>598</th>\n",
       "      <th>599</th>\n",
       "      <th>label</th>\n",
       "    </tr>\n",
       "  </thead>\n",
       "  <tbody>\n",
       "    <tr>\n",
       "      <th>0</th>\n",
       "      <td>-0.024851</td>\n",
       "      <td>-0.381951</td>\n",
       "      <td>-0.651674</td>\n",
       "      <td>0.553038</td>\n",
       "      <td>1.299930</td>\n",
       "      <td>1.031808</td>\n",
       "      <td>0.333705</td>\n",
       "      <td>-0.101893</td>\n",
       "      <td>0.053647</td>\n",
       "      <td>0.222175</td>\n",
       "      <td>...</td>\n",
       "      <td>0.421792</td>\n",
       "      <td>0.843307</td>\n",
       "      <td>0.379752</td>\n",
       "      <td>0.410750</td>\n",
       "      <td>-0.602648</td>\n",
       "      <td>0.904846</td>\n",
       "      <td>-0.157149</td>\n",
       "      <td>-0.013713</td>\n",
       "      <td>0.633879</td>\n",
       "      <td>0</td>\n",
       "    </tr>\n",
       "    <tr>\n",
       "      <th>1</th>\n",
       "      <td>0.388153</td>\n",
       "      <td>0.000402</td>\n",
       "      <td>0.285238</td>\n",
       "      <td>-1.093168</td>\n",
       "      <td>-0.517576</td>\n",
       "      <td>-0.442416</td>\n",
       "      <td>0.572925</td>\n",
       "      <td>-0.000812</td>\n",
       "      <td>-0.088989</td>\n",
       "      <td>0.351440</td>\n",
       "      <td>...</td>\n",
       "      <td>-0.067700</td>\n",
       "      <td>0.308366</td>\n",
       "      <td>-0.036528</td>\n",
       "      <td>0.238906</td>\n",
       "      <td>-0.149262</td>\n",
       "      <td>0.399019</td>\n",
       "      <td>0.196109</td>\n",
       "      <td>-0.883065</td>\n",
       "      <td>-0.541812</td>\n",
       "      <td>1</td>\n",
       "    </tr>\n",
       "    <tr>\n",
       "      <th>2</th>\n",
       "      <td>0.570890</td>\n",
       "      <td>-0.482221</td>\n",
       "      <td>-0.214128</td>\n",
       "      <td>-0.549572</td>\n",
       "      <td>-0.095529</td>\n",
       "      <td>0.389266</td>\n",
       "      <td>-0.176438</td>\n",
       "      <td>-0.252203</td>\n",
       "      <td>0.049001</td>\n",
       "      <td>-0.112858</td>\n",
       "      <td>...</td>\n",
       "      <td>0.731259</td>\n",
       "      <td>0.627417</td>\n",
       "      <td>-0.015409</td>\n",
       "      <td>0.238097</td>\n",
       "      <td>0.032458</td>\n",
       "      <td>0.268519</td>\n",
       "      <td>-0.307194</td>\n",
       "      <td>0.311125</td>\n",
       "      <td>-0.459251</td>\n",
       "      <td>0</td>\n",
       "    </tr>\n",
       "    <tr>\n",
       "      <th>3</th>\n",
       "      <td>-0.098389</td>\n",
       "      <td>-0.022716</td>\n",
       "      <td>-0.856276</td>\n",
       "      <td>-0.721896</td>\n",
       "      <td>-0.125313</td>\n",
       "      <td>0.093145</td>\n",
       "      <td>0.662419</td>\n",
       "      <td>-0.438362</td>\n",
       "      <td>0.227312</td>\n",
       "      <td>0.410582</td>\n",
       "      <td>...</td>\n",
       "      <td>0.232290</td>\n",
       "      <td>-0.118163</td>\n",
       "      <td>0.440777</td>\n",
       "      <td>-0.599077</td>\n",
       "      <td>0.119088</td>\n",
       "      <td>-0.006456</td>\n",
       "      <td>-0.144061</td>\n",
       "      <td>-0.186257</td>\n",
       "      <td>0.228160</td>\n",
       "      <td>1</td>\n",
       "    </tr>\n",
       "    <tr>\n",
       "      <th>4</th>\n",
       "      <td>-0.207901</td>\n",
       "      <td>-0.841178</td>\n",
       "      <td>0.095708</td>\n",
       "      <td>0.132864</td>\n",
       "      <td>0.298601</td>\n",
       "      <td>0.492365</td>\n",
       "      <td>-0.053234</td>\n",
       "      <td>0.299751</td>\n",
       "      <td>-0.317690</td>\n",
       "      <td>-0.691285</td>\n",
       "      <td>...</td>\n",
       "      <td>0.262907</td>\n",
       "      <td>0.732972</td>\n",
       "      <td>0.405798</td>\n",
       "      <td>0.046836</td>\n",
       "      <td>0.045763</td>\n",
       "      <td>-0.604552</td>\n",
       "      <td>0.789747</td>\n",
       "      <td>0.100230</td>\n",
       "      <td>0.029443</td>\n",
       "      <td>0</td>\n",
       "    </tr>\n",
       "  </tbody>\n",
       "</table>\n",
       "<p>5 rows × 601 columns</p>\n",
       "</div>"
      ],
      "text/plain": [
       "          0         1         2         3         4         5         6  \\\n",
       "0 -0.024851 -0.381951 -0.651674  0.553038  1.299930  1.031808  0.333705   \n",
       "1  0.388153  0.000402  0.285238 -1.093168 -0.517576 -0.442416  0.572925   \n",
       "2  0.570890 -0.482221 -0.214128 -0.549572 -0.095529  0.389266 -0.176438   \n",
       "3 -0.098389 -0.022716 -0.856276 -0.721896 -0.125313  0.093145  0.662419   \n",
       "4 -0.207901 -0.841178  0.095708  0.132864  0.298601  0.492365 -0.053234   \n",
       "\n",
       "          7         8         9  ...       591       592       593       594  \\\n",
       "0 -0.101893  0.053647  0.222175  ...  0.421792  0.843307  0.379752  0.410750   \n",
       "1 -0.000812 -0.088989  0.351440  ... -0.067700  0.308366 -0.036528  0.238906   \n",
       "2 -0.252203  0.049001 -0.112858  ...  0.731259  0.627417 -0.015409  0.238097   \n",
       "3 -0.438362  0.227312  0.410582  ...  0.232290 -0.118163  0.440777 -0.599077   \n",
       "4  0.299751 -0.317690 -0.691285  ...  0.262907  0.732972  0.405798  0.046836   \n",
       "\n",
       "        595       596       597       598       599  label  \n",
       "0 -0.602648  0.904846 -0.157149 -0.013713  0.633879      0  \n",
       "1 -0.149262  0.399019  0.196109 -0.883065 -0.541812      1  \n",
       "2  0.032458  0.268519 -0.307194  0.311125 -0.459251      0  \n",
       "3  0.119088 -0.006456 -0.144061 -0.186257  0.228160      1  \n",
       "4  0.045763 -0.604552  0.789747  0.100230  0.029443      0  \n",
       "\n",
       "[5 rows x 601 columns]"
      ]
     },
     "execution_count": 5,
     "metadata": {},
     "output_type": "execute_result"
    }
   ],
   "source": [
    "fname = \".//data//model_dbow_vs_600_n_5_s_0_inferred_training_data.csv\"\n",
    "# df.to_csv(fname)\n",
    "df = pd.read_csv(fname).drop(\"Unnamed: 0\", axis=1)\n",
    "df.head()"
   ]
  },
  {
   "cell_type": "code",
   "execution_count": 6,
   "id": "538fd9f7",
   "metadata": {},
   "outputs": [],
   "source": [
    "X = df.loc[:, df.columns != \"label\"]\n",
    "y = df[\"label\"]"
   ]
  },
  {
   "cell_type": "code",
   "execution_count": 7,
   "id": "5a7ba508",
   "metadata": {},
   "outputs": [],
   "source": [
    "X_train_valid, X_test, y_train_valid, y_test = train_test_split(X, y, test_size=0.1, random_state=42)"
   ]
  },
  {
   "cell_type": "code",
   "execution_count": null,
   "id": "68643017",
   "metadata": {},
   "outputs": [],
   "source": [
    "# https://machinelearningmastery.com/cost-sensitive-svm-for-imbalanced-classification/\n",
    "# https://www.kdnuggets.com/2017/06/7-techniques-handle-imbalanced-data.html"
   ]
  },
  {
   "cell_type": "code",
   "execution_count": null,
   "id": "97b25b4e",
   "metadata": {},
   "outputs": [],
   "source": [
    "# https://machinelearningmastery.com/tour-of-evaluation-metrics-for-imbalanced-classification/\n",
    "# https://towardsdatascience.com/multi-class-metrics-made-simple-part-ii-the-f1-score-ebe8b2c2ca1"
   ]
  },
  {
   "cell_type": "markdown",
   "id": "c5322c33",
   "metadata": {},
   "source": [
    "## SVM"
   ]
  },
  {
   "cell_type": "code",
   "execution_count": 8,
   "id": "68318d5d",
   "metadata": {},
   "outputs": [
    {
     "name": "stdout",
     "output_type": "stream",
     "text": [
      "Mean ROC AUC: 0.997\n"
     ]
    }
   ],
   "source": [
    "cv = RepeatedStratifiedKFold(n_splits=10, random_state=42)\n",
    "\n",
    "svm_model = SVC()\n",
    "\n",
    "auc_scores = cross_val_score(svm_model, X_train_valid, y_train_valid, scoring='roc_auc', cv=cv, n_jobs=-1)\n",
    "print('Mean ROC AUC: %.3f' % np.mean(auc_scores))"
   ]
  },
  {
   "cell_type": "code",
   "execution_count": 13,
   "id": "ed0974b1",
   "metadata": {},
   "outputs": [
    {
     "name": "stdout",
     "output_type": "stream",
     "text": [
      "Fitting 10 folds for each of 140 candidates, totalling 1400 fits\n",
      "0.9970612309370249\n",
      "{'C': 0.31622776601683794, 'class_weight': 'balanced', 'gamma': 'auto', 'kernel': 'rbf'}\n"
     ]
    }
   ],
   "source": [
    "param_grid = { \n",
    "    \"C\": np.logspace(-1, 1, 5),\n",
    "    \"kernel\": ['rbf', 'poly'],\n",
    "    \"gamma\": list(np.logspace(-1, 1, 5))+['scale', 'auto'],\n",
    "    \"class_weight\": [\"balanced\", None]\n",
    "    }\n",
    "\n",
    "svm_model = SVC()\n",
    "cv = RepeatedStratifiedKFold(n_splits=5, n_repeats=2, random_state=42)\n",
    "\n",
    "grid_search = GridSearchCV(estimator=svm_model, param_grid=param_grid, scoring='roc_auc', n_jobs=-1, cv=cv, verbose=2, error_score='raise')\n",
    "grid_result = grid_search.fit(X_train_valid, y_train_valid)\n",
    "\n",
    "print(grid_result.best_score_)\n",
    "print(grid_result.best_params_)"
   ]
  },
  {
   "cell_type": "code",
   "execution_count": null,
   "id": "a9a5a46e",
   "metadata": {},
   "outputs": [],
   "source": [
    "best_C = 0.31622776601683794\n",
    "best_class_weight = \"balanced\"\n",
    "best_gamma = \"auto\"\n",
    "best_kernel = \"rbf\"\n",
    "\n",
    "cv = RepeatedStratifiedKFold(n_splits=10, random_state=42)\n",
    "\n",
    "svm_model = SVC()\n",
    "\n",
    "auc_scores = cross_val_score(svm_model, X_train_valid, y_train_valid, scoring='roc_auc', cv=cv, n_jobs=-1)\n",
    "print('Mean ROC AUC: %.3f' % np.mean(auc_scores))"
   ]
  }
 ],
 "metadata": {
  "kernelspec": {
   "display_name": "Python 3 (ipykernel)",
   "language": "python",
   "name": "python3"
  },
  "language_info": {
   "codemirror_mode": {
    "name": "ipython",
    "version": 3
   },
   "file_extension": ".py",
   "mimetype": "text/x-python",
   "name": "python",
   "nbconvert_exporter": "python",
   "pygments_lexer": "ipython3",
   "version": "3.9.12"
  }
 },
 "nbformat": 4,
 "nbformat_minor": 5
}
